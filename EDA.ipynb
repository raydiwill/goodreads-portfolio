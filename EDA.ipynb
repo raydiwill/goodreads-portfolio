{
 "cells": [
  {
   "cell_type": "markdown",
   "source": [
    "### Import essential packages"
   ],
   "metadata": {
    "collapsed": false,
    "pycharm": {
     "name": "#%% md\n"
    }
   }
  },
  {
   "cell_type": "code",
   "execution_count": 2,
   "metadata": {
    "collapsed": true,
    "pycharm": {
     "name": "#%%\n"
    }
   },
   "outputs": [],
   "source": [
    "import numpy as np\n",
    "import pandas as pd\n",
    "import seaborn as sns\n",
    "import matplotlib.pyplot as plt\n",
    "from glob import glob"
   ]
  },
  {
   "cell_type": "markdown",
   "source": [
    "### Import datasets"
   ],
   "metadata": {
    "collapsed": false,
    "pycharm": {
     "name": "#%% md\n"
    }
   }
  },
  {
   "cell_type": "code",
   "execution_count": 3,
   "outputs": [],
   "source": [
    "files = glob(\"datasets/book*.csv\")\n",
    "book_df = pd.concat((pd.read_csv(f) for f in files))\n",
    "#book_df.to_csv(\"datasets/books_all.csv\")"
   ],
   "metadata": {
    "collapsed": false,
    "pycharm": {
     "name": "#%%\n"
    }
   }
  },
  {
   "cell_type": "code",
   "execution_count": 4,
   "outputs": [
    {
     "data": {
      "text/plain": "   Id                                               Name RatingDist1  \\\n0   1  Harry Potter and the Half-Blood Prince (Harry ...      1:9896   \n1   2  Harry Potter and the Order of the Phoenix (Har...     1:12455   \n2   3  Harry Potter and the Sorcerer's Stone (Harry P...    1:108202   \n3   4  Harry Potter and the Chamber of Secrets (Harry...     1:11896   \n4   5  Harry Potter and the Prisoner of Azkaban (Harr...     1:10128   \n5   6  Harry Potter and the Goblet of Fire (Harry Pot...      1:9419   \n6   8  Harry Potter Boxed Set, Books 1-5 (Harry Potte...       1:402   \n7   9  Unauthorized Harry Potter Book Seven News: \"Ha...         1:0   \n8  10       Harry Potter Collection (Harry Potter, #1-6)       1:257   \n9  12  The Ultimate Hitchhiker's Guide: Five Complete...      1:3443   \n\n   pagesNumber RatingDist4 RatingDistTotal  PublishMonth  PublishDay  \\\n0          652    4:556485   total:2298124            16           9   \n1          870    4:604283   total:2358637             1           9   \n2          309   4:1513191   total:6587388             1          11   \n3          352    4:706082   total:2560657             1          11   \n4          435    4:630534   total:2610317             1           5   \n5          734    4:606800   total:2431085            28           9   \n6         2690      4:4650     total:43968            13           9   \n7          152         4:7        total:28            26           4   \n8         3342      4:4358     total:30313            12           9   \n9          815     4:75683    total:274268             1          11   \n\n         Publisher  CountsOfReview  PublishYear Language  \\\n0  Scholastic Inc.           28062         2006      eng   \n1  Scholastic Inc.           29770         2004      eng   \n2   Scholastic Inc           75911         2003      eng   \n3       Scholastic             244         2003      eng   \n4  Scholastic Inc.           37093         2004      eng   \n5       Scholastic           31978         2002      eng   \n6       Scholastic             166         2004      eng   \n7     Nimble Books               1         2005    en-US   \n8       Scholastic             809         2005      eng   \n9   Gramercy Books             255         2005      eng   \n\n                  Authors  Rating RatingDist2 RatingDist5        ISBN  \\\n0            J.K. Rowling    4.57     2:25317   5:1546466         NaN   \n1            J.K. Rowling    4.50     2:37005   5:1493113  0439358078   \n2            J.K. Rowling    4.47    2:130310   5:4268227         NaN   \n3            J.K. Rowling    4.42     2:49353   5:1504505  0439554896   \n4            J.K. Rowling    4.57     2:24849   5:1749958  043965548X   \n5            J.K. Rowling    4.56     2:24282   5:1612165         NaN   \n6            J.K. Rowling    4.78       2:283     5:37432  0439682584   \n7  W. Frederick Zimmerman    3.79         2:5        5:10  0976540606   \n8            J.K. Rowling    4.73       2:218     5:24406  0439827604   \n9           Douglas Adams    4.37      2:7613    5:157499  0517226952   \n\n  RatingDist3 Description  Count of text reviews  \n0    3:159960         NaN                    NaN  \n1    3:211781         NaN                    NaN  \n2    3:567458         NaN                    NaN  \n3    3:288821         NaN                    NaN  \n4    3:194848         NaN                    NaN  \n5    3:178419         NaN                    NaN  \n6      3:1201         NaN                    NaN  \n7         3:6         NaN                    NaN  \n8      3:1074         NaN                    NaN  \n9     3:30030         NaN                    NaN  ",
      "text/html": "<div>\n<style scoped>\n    .dataframe tbody tr th:only-of-type {\n        vertical-align: middle;\n    }\n\n    .dataframe tbody tr th {\n        vertical-align: top;\n    }\n\n    .dataframe thead th {\n        text-align: right;\n    }\n</style>\n<table border=\"1\" class=\"dataframe\">\n  <thead>\n    <tr style=\"text-align: right;\">\n      <th></th>\n      <th>Id</th>\n      <th>Name</th>\n      <th>RatingDist1</th>\n      <th>pagesNumber</th>\n      <th>RatingDist4</th>\n      <th>RatingDistTotal</th>\n      <th>PublishMonth</th>\n      <th>PublishDay</th>\n      <th>Publisher</th>\n      <th>CountsOfReview</th>\n      <th>PublishYear</th>\n      <th>Language</th>\n      <th>Authors</th>\n      <th>Rating</th>\n      <th>RatingDist2</th>\n      <th>RatingDist5</th>\n      <th>ISBN</th>\n      <th>RatingDist3</th>\n      <th>Description</th>\n      <th>Count of text reviews</th>\n    </tr>\n  </thead>\n  <tbody>\n    <tr>\n      <th>0</th>\n      <td>1</td>\n      <td>Harry Potter and the Half-Blood Prince (Harry ...</td>\n      <td>1:9896</td>\n      <td>652</td>\n      <td>4:556485</td>\n      <td>total:2298124</td>\n      <td>16</td>\n      <td>9</td>\n      <td>Scholastic Inc.</td>\n      <td>28062</td>\n      <td>2006</td>\n      <td>eng</td>\n      <td>J.K. Rowling</td>\n      <td>4.57</td>\n      <td>2:25317</td>\n      <td>5:1546466</td>\n      <td>NaN</td>\n      <td>3:159960</td>\n      <td>NaN</td>\n      <td>NaN</td>\n    </tr>\n    <tr>\n      <th>1</th>\n      <td>2</td>\n      <td>Harry Potter and the Order of the Phoenix (Har...</td>\n      <td>1:12455</td>\n      <td>870</td>\n      <td>4:604283</td>\n      <td>total:2358637</td>\n      <td>1</td>\n      <td>9</td>\n      <td>Scholastic Inc.</td>\n      <td>29770</td>\n      <td>2004</td>\n      <td>eng</td>\n      <td>J.K. Rowling</td>\n      <td>4.50</td>\n      <td>2:37005</td>\n      <td>5:1493113</td>\n      <td>0439358078</td>\n      <td>3:211781</td>\n      <td>NaN</td>\n      <td>NaN</td>\n    </tr>\n    <tr>\n      <th>2</th>\n      <td>3</td>\n      <td>Harry Potter and the Sorcerer's Stone (Harry P...</td>\n      <td>1:108202</td>\n      <td>309</td>\n      <td>4:1513191</td>\n      <td>total:6587388</td>\n      <td>1</td>\n      <td>11</td>\n      <td>Scholastic Inc</td>\n      <td>75911</td>\n      <td>2003</td>\n      <td>eng</td>\n      <td>J.K. Rowling</td>\n      <td>4.47</td>\n      <td>2:130310</td>\n      <td>5:4268227</td>\n      <td>NaN</td>\n      <td>3:567458</td>\n      <td>NaN</td>\n      <td>NaN</td>\n    </tr>\n    <tr>\n      <th>3</th>\n      <td>4</td>\n      <td>Harry Potter and the Chamber of Secrets (Harry...</td>\n      <td>1:11896</td>\n      <td>352</td>\n      <td>4:706082</td>\n      <td>total:2560657</td>\n      <td>1</td>\n      <td>11</td>\n      <td>Scholastic</td>\n      <td>244</td>\n      <td>2003</td>\n      <td>eng</td>\n      <td>J.K. Rowling</td>\n      <td>4.42</td>\n      <td>2:49353</td>\n      <td>5:1504505</td>\n      <td>0439554896</td>\n      <td>3:288821</td>\n      <td>NaN</td>\n      <td>NaN</td>\n    </tr>\n    <tr>\n      <th>4</th>\n      <td>5</td>\n      <td>Harry Potter and the Prisoner of Azkaban (Harr...</td>\n      <td>1:10128</td>\n      <td>435</td>\n      <td>4:630534</td>\n      <td>total:2610317</td>\n      <td>1</td>\n      <td>5</td>\n      <td>Scholastic Inc.</td>\n      <td>37093</td>\n      <td>2004</td>\n      <td>eng</td>\n      <td>J.K. Rowling</td>\n      <td>4.57</td>\n      <td>2:24849</td>\n      <td>5:1749958</td>\n      <td>043965548X</td>\n      <td>3:194848</td>\n      <td>NaN</td>\n      <td>NaN</td>\n    </tr>\n    <tr>\n      <th>5</th>\n      <td>6</td>\n      <td>Harry Potter and the Goblet of Fire (Harry Pot...</td>\n      <td>1:9419</td>\n      <td>734</td>\n      <td>4:606800</td>\n      <td>total:2431085</td>\n      <td>28</td>\n      <td>9</td>\n      <td>Scholastic</td>\n      <td>31978</td>\n      <td>2002</td>\n      <td>eng</td>\n      <td>J.K. Rowling</td>\n      <td>4.56</td>\n      <td>2:24282</td>\n      <td>5:1612165</td>\n      <td>NaN</td>\n      <td>3:178419</td>\n      <td>NaN</td>\n      <td>NaN</td>\n    </tr>\n    <tr>\n      <th>6</th>\n      <td>8</td>\n      <td>Harry Potter Boxed Set, Books 1-5 (Harry Potte...</td>\n      <td>1:402</td>\n      <td>2690</td>\n      <td>4:4650</td>\n      <td>total:43968</td>\n      <td>13</td>\n      <td>9</td>\n      <td>Scholastic</td>\n      <td>166</td>\n      <td>2004</td>\n      <td>eng</td>\n      <td>J.K. Rowling</td>\n      <td>4.78</td>\n      <td>2:283</td>\n      <td>5:37432</td>\n      <td>0439682584</td>\n      <td>3:1201</td>\n      <td>NaN</td>\n      <td>NaN</td>\n    </tr>\n    <tr>\n      <th>7</th>\n      <td>9</td>\n      <td>Unauthorized Harry Potter Book Seven News: \"Ha...</td>\n      <td>1:0</td>\n      <td>152</td>\n      <td>4:7</td>\n      <td>total:28</td>\n      <td>26</td>\n      <td>4</td>\n      <td>Nimble Books</td>\n      <td>1</td>\n      <td>2005</td>\n      <td>en-US</td>\n      <td>W. Frederick Zimmerman</td>\n      <td>3.79</td>\n      <td>2:5</td>\n      <td>5:10</td>\n      <td>0976540606</td>\n      <td>3:6</td>\n      <td>NaN</td>\n      <td>NaN</td>\n    </tr>\n    <tr>\n      <th>8</th>\n      <td>10</td>\n      <td>Harry Potter Collection (Harry Potter, #1-6)</td>\n      <td>1:257</td>\n      <td>3342</td>\n      <td>4:4358</td>\n      <td>total:30313</td>\n      <td>12</td>\n      <td>9</td>\n      <td>Scholastic</td>\n      <td>809</td>\n      <td>2005</td>\n      <td>eng</td>\n      <td>J.K. Rowling</td>\n      <td>4.73</td>\n      <td>2:218</td>\n      <td>5:24406</td>\n      <td>0439827604</td>\n      <td>3:1074</td>\n      <td>NaN</td>\n      <td>NaN</td>\n    </tr>\n    <tr>\n      <th>9</th>\n      <td>12</td>\n      <td>The Ultimate Hitchhiker's Guide: Five Complete...</td>\n      <td>1:3443</td>\n      <td>815</td>\n      <td>4:75683</td>\n      <td>total:274268</td>\n      <td>1</td>\n      <td>11</td>\n      <td>Gramercy Books</td>\n      <td>255</td>\n      <td>2005</td>\n      <td>eng</td>\n      <td>Douglas Adams</td>\n      <td>4.37</td>\n      <td>2:7613</td>\n      <td>5:157499</td>\n      <td>0517226952</td>\n      <td>3:30030</td>\n      <td>NaN</td>\n      <td>NaN</td>\n    </tr>\n  </tbody>\n</table>\n</div>"
     },
     "execution_count": 4,
     "metadata": {},
     "output_type": "execute_result"
    }
   ],
   "source": [
    "book_df.head(10)"
   ],
   "metadata": {
    "collapsed": false,
    "pycharm": {
     "name": "#%%\n"
    }
   }
  },
  {
   "cell_type": "code",
   "execution_count": 5,
   "outputs": [
    {
     "data": {
      "text/plain": "1850310"
     },
     "execution_count": 5,
     "metadata": {},
     "output_type": "execute_result"
    }
   ],
   "source": [
    "len(book_df)"
   ],
   "metadata": {
    "collapsed": false,
    "pycharm": {
     "name": "#%%\n"
    }
   }
  },
  {
   "cell_type": "markdown",
   "source": [
    "## Data Cleaning & Preparation"
   ],
   "metadata": {
    "collapsed": false,
    "pycharm": {
     "name": "#%% md\n"
    }
   }
  },
  {
   "cell_type": "markdown",
   "source": [
    "### General information"
   ],
   "metadata": {
    "collapsed": false,
    "pycharm": {
     "name": "#%% md\n"
    }
   }
  },
  {
   "cell_type": "code",
   "execution_count": 6,
   "outputs": [
    {
     "data": {
      "text/plain": "Index(['Id', 'Name', 'RatingDist1', 'pagesNumber', 'RatingDist4',\n       'RatingDistTotal', 'PublishMonth', 'PublishDay', 'Publisher',\n       'CountsOfReview', 'PublishYear', 'Language', 'Authors', 'Rating',\n       'RatingDist2', 'RatingDist5', 'ISBN', 'RatingDist3', 'Description',\n       'Count of text reviews'],\n      dtype='object')"
     },
     "execution_count": 6,
     "metadata": {},
     "output_type": "execute_result"
    }
   ],
   "source": [
    "book_df.columns"
   ],
   "metadata": {
    "collapsed": false,
    "pycharm": {
     "name": "#%%\n"
    }
   }
  },
  {
   "cell_type": "code",
   "execution_count": 7,
   "outputs": [
    {
     "data": {
      "text/plain": "              Id  pagesNumber  PublishMonth  PublishDay  CountsOfReview  \\\ncount 1850310.00   1850310.00    1850310.00  1850310.00      1850310.00   \nmean  2111590.36       276.55          9.55        6.14           11.58   \nstd   1408184.23      5006.02         10.55        3.75          295.27   \nmin         1.00         0.00          1.00        1.00            0.00   \n25%    827332.50       144.00          1.00        3.00            0.00   \n50%   2017784.50       239.00          2.00        6.00            0.00   \n75%   3200678.75       338.00         18.00        9.00            2.00   \nmax   4846451.00   4517845.00         31.00       12.00       154447.00   \n\n       PublishYear     Rating  Count of text reviews  \ncount   1850310.00 1850310.00              409697.00  \nmean       1997.84       2.89                   7.17  \nstd          87.89       1.73                 124.84  \nmin           1.00       0.00                   0.00  \n25%        1993.00       2.00                   0.00  \n50%        2000.00       3.68                   1.00  \n75%        2005.00       4.00                   3.00  \nmax       65535.00       5.00               43652.00  ",
      "text/html": "<div>\n<style scoped>\n    .dataframe tbody tr th:only-of-type {\n        vertical-align: middle;\n    }\n\n    .dataframe tbody tr th {\n        vertical-align: top;\n    }\n\n    .dataframe thead th {\n        text-align: right;\n    }\n</style>\n<table border=\"1\" class=\"dataframe\">\n  <thead>\n    <tr style=\"text-align: right;\">\n      <th></th>\n      <th>Id</th>\n      <th>pagesNumber</th>\n      <th>PublishMonth</th>\n      <th>PublishDay</th>\n      <th>CountsOfReview</th>\n      <th>PublishYear</th>\n      <th>Rating</th>\n      <th>Count of text reviews</th>\n    </tr>\n  </thead>\n  <tbody>\n    <tr>\n      <th>count</th>\n      <td>1850310.00</td>\n      <td>1850310.00</td>\n      <td>1850310.00</td>\n      <td>1850310.00</td>\n      <td>1850310.00</td>\n      <td>1850310.00</td>\n      <td>1850310.00</td>\n      <td>409697.00</td>\n    </tr>\n    <tr>\n      <th>mean</th>\n      <td>2111590.36</td>\n      <td>276.55</td>\n      <td>9.55</td>\n      <td>6.14</td>\n      <td>11.58</td>\n      <td>1997.84</td>\n      <td>2.89</td>\n      <td>7.17</td>\n    </tr>\n    <tr>\n      <th>std</th>\n      <td>1408184.23</td>\n      <td>5006.02</td>\n      <td>10.55</td>\n      <td>3.75</td>\n      <td>295.27</td>\n      <td>87.89</td>\n      <td>1.73</td>\n      <td>124.84</td>\n    </tr>\n    <tr>\n      <th>min</th>\n      <td>1.00</td>\n      <td>0.00</td>\n      <td>1.00</td>\n      <td>1.00</td>\n      <td>0.00</td>\n      <td>1.00</td>\n      <td>0.00</td>\n      <td>0.00</td>\n    </tr>\n    <tr>\n      <th>25%</th>\n      <td>827332.50</td>\n      <td>144.00</td>\n      <td>1.00</td>\n      <td>3.00</td>\n      <td>0.00</td>\n      <td>1993.00</td>\n      <td>2.00</td>\n      <td>0.00</td>\n    </tr>\n    <tr>\n      <th>50%</th>\n      <td>2017784.50</td>\n      <td>239.00</td>\n      <td>2.00</td>\n      <td>6.00</td>\n      <td>0.00</td>\n      <td>2000.00</td>\n      <td>3.68</td>\n      <td>1.00</td>\n    </tr>\n    <tr>\n      <th>75%</th>\n      <td>3200678.75</td>\n      <td>338.00</td>\n      <td>18.00</td>\n      <td>9.00</td>\n      <td>2.00</td>\n      <td>2005.00</td>\n      <td>4.00</td>\n      <td>3.00</td>\n    </tr>\n    <tr>\n      <th>max</th>\n      <td>4846451.00</td>\n      <td>4517845.00</td>\n      <td>31.00</td>\n      <td>12.00</td>\n      <td>154447.00</td>\n      <td>65535.00</td>\n      <td>5.00</td>\n      <td>43652.00</td>\n    </tr>\n  </tbody>\n</table>\n</div>"
     },
     "execution_count": 7,
     "metadata": {},
     "output_type": "execute_result"
    }
   ],
   "source": [
    "pd.set_option('display.float_format', lambda x: '%.2f' % x)\n",
    "book_df.describe()"
   ],
   "metadata": {
    "collapsed": false,
    "pycharm": {
     "name": "#%%\n"
    }
   }
  },
  {
   "cell_type": "code",
   "execution_count": 8,
   "outputs": [
    {
     "name": "stdout",
     "output_type": "stream",
     "text": [
      "<class 'pandas.core.frame.DataFrame'>\n",
      "Int64Index: 1850310 entries, 0 to 40889\n",
      "Data columns (total 20 columns):\n",
      " #   Column                 Dtype  \n",
      "---  ------                 -----  \n",
      " 0   Id                     int64  \n",
      " 1   Name                   object \n",
      " 2   RatingDist1            object \n",
      " 3   pagesNumber            int64  \n",
      " 4   RatingDist4            object \n",
      " 5   RatingDistTotal        object \n",
      " 6   PublishMonth           int64  \n",
      " 7   PublishDay             int64  \n",
      " 8   Publisher              object \n",
      " 9   CountsOfReview         int64  \n",
      " 10  PublishYear            int64  \n",
      " 11  Language               object \n",
      " 12  Authors                object \n",
      " 13  Rating                 float64\n",
      " 14  RatingDist2            object \n",
      " 15  RatingDist5            object \n",
      " 16  ISBN                   object \n",
      " 17  RatingDist3            object \n",
      " 18  Description            object \n",
      " 19  Count of text reviews  float64\n",
      "dtypes: float64(2), int64(6), object(12)\n",
      "memory usage: 296.5+ MB\n"
     ]
    }
   ],
   "source": [
    "book_df.info()"
   ],
   "metadata": {
    "collapsed": false,
    "pycharm": {
     "name": "#%%\n"
    }
   }
  },
  {
   "cell_type": "markdown",
   "source": [
    "RatingDist columns (RatingDist1, RatingDist2, RatingDist3, RatingDist4, RatingDist5, RatingDistTotal) are in string, this should be in numerical and need to be replaced by splitting the string while Rating column in this context are average rating of the book, we should also change the name to average rating for clear context.\n",
    "\n",
    "PublishMonth and PublishDay are in wrong order and should be changed.\n",
    "\n",
    "Columns pagesNumber, PublishYear have interesting record and should be investigated further.\n"
   ],
   "metadata": {
    "collapsed": false,
    "pycharm": {
     "name": "#%% md\n"
    }
   }
  },
  {
   "cell_type": "markdown",
   "source": [
    "### Changing names"
   ],
   "metadata": {
    "collapsed": false,
    "pycharm": {
     "name": "#%% md\n"
    }
   }
  },
  {
   "cell_type": "markdown",
   "source": [
    "Let's change the order of PublishMonth and PublishDay, and the Rating name"
   ],
   "metadata": {
    "collapsed": false,
    "pycharm": {
     "name": "#%% md\n"
    }
   }
  },
  {
   "cell_type": "code",
   "execution_count": 9,
   "outputs": [
    {
     "data": {
      "text/plain": "   Id                                               Name RatingDist1  \\\n0   1  Harry Potter and the Half-Blood Prince (Harry ...      1:9896   \n1   2  Harry Potter and the Order of the Phoenix (Har...     1:12455   \n2   3  Harry Potter and the Sorcerer's Stone (Harry P...    1:108202   \n3   4  Harry Potter and the Chamber of Secrets (Harry...     1:11896   \n4   5  Harry Potter and the Prisoner of Azkaban (Harr...     1:10128   \n\n   pagesNumber RatingDist4 RatingDistTotal  Publish_Day  Publish_Month  \\\n0          652    4:556485   total:2298124           16              9   \n1          870    4:604283   total:2358637            1              9   \n2          309   4:1513191   total:6587388            1             11   \n3          352    4:706082   total:2560657            1             11   \n4          435    4:630534   total:2610317            1              5   \n\n         Publisher  CountsOfReview  PublishYear Language       Authors  \\\n0  Scholastic Inc.           28062         2006      eng  J.K. Rowling   \n1  Scholastic Inc.           29770         2004      eng  J.K. Rowling   \n2   Scholastic Inc           75911         2003      eng  J.K. Rowling   \n3       Scholastic             244         2003      eng  J.K. Rowling   \n4  Scholastic Inc.           37093         2004      eng  J.K. Rowling   \n\n   Average_rating RatingDist2 RatingDist5        ISBN RatingDist3 Description  \\\n0            4.57     2:25317   5:1546466         NaN    3:159960         NaN   \n1            4.50     2:37005   5:1493113  0439358078    3:211781         NaN   \n2            4.47    2:130310   5:4268227         NaN    3:567458         NaN   \n3            4.42     2:49353   5:1504505  0439554896    3:288821         NaN   \n4            4.57     2:24849   5:1749958  043965548X    3:194848         NaN   \n\n   Count of text reviews  \n0                    NaN  \n1                    NaN  \n2                    NaN  \n3                    NaN  \n4                    NaN  ",
      "text/html": "<div>\n<style scoped>\n    .dataframe tbody tr th:only-of-type {\n        vertical-align: middle;\n    }\n\n    .dataframe tbody tr th {\n        vertical-align: top;\n    }\n\n    .dataframe thead th {\n        text-align: right;\n    }\n</style>\n<table border=\"1\" class=\"dataframe\">\n  <thead>\n    <tr style=\"text-align: right;\">\n      <th></th>\n      <th>Id</th>\n      <th>Name</th>\n      <th>RatingDist1</th>\n      <th>pagesNumber</th>\n      <th>RatingDist4</th>\n      <th>RatingDistTotal</th>\n      <th>Publish_Day</th>\n      <th>Publish_Month</th>\n      <th>Publisher</th>\n      <th>CountsOfReview</th>\n      <th>PublishYear</th>\n      <th>Language</th>\n      <th>Authors</th>\n      <th>Average_rating</th>\n      <th>RatingDist2</th>\n      <th>RatingDist5</th>\n      <th>ISBN</th>\n      <th>RatingDist3</th>\n      <th>Description</th>\n      <th>Count of text reviews</th>\n    </tr>\n  </thead>\n  <tbody>\n    <tr>\n      <th>0</th>\n      <td>1</td>\n      <td>Harry Potter and the Half-Blood Prince (Harry ...</td>\n      <td>1:9896</td>\n      <td>652</td>\n      <td>4:556485</td>\n      <td>total:2298124</td>\n      <td>16</td>\n      <td>9</td>\n      <td>Scholastic Inc.</td>\n      <td>28062</td>\n      <td>2006</td>\n      <td>eng</td>\n      <td>J.K. Rowling</td>\n      <td>4.57</td>\n      <td>2:25317</td>\n      <td>5:1546466</td>\n      <td>NaN</td>\n      <td>3:159960</td>\n      <td>NaN</td>\n      <td>NaN</td>\n    </tr>\n    <tr>\n      <th>1</th>\n      <td>2</td>\n      <td>Harry Potter and the Order of the Phoenix (Har...</td>\n      <td>1:12455</td>\n      <td>870</td>\n      <td>4:604283</td>\n      <td>total:2358637</td>\n      <td>1</td>\n      <td>9</td>\n      <td>Scholastic Inc.</td>\n      <td>29770</td>\n      <td>2004</td>\n      <td>eng</td>\n      <td>J.K. Rowling</td>\n      <td>4.50</td>\n      <td>2:37005</td>\n      <td>5:1493113</td>\n      <td>0439358078</td>\n      <td>3:211781</td>\n      <td>NaN</td>\n      <td>NaN</td>\n    </tr>\n    <tr>\n      <th>2</th>\n      <td>3</td>\n      <td>Harry Potter and the Sorcerer's Stone (Harry P...</td>\n      <td>1:108202</td>\n      <td>309</td>\n      <td>4:1513191</td>\n      <td>total:6587388</td>\n      <td>1</td>\n      <td>11</td>\n      <td>Scholastic Inc</td>\n      <td>75911</td>\n      <td>2003</td>\n      <td>eng</td>\n      <td>J.K. Rowling</td>\n      <td>4.47</td>\n      <td>2:130310</td>\n      <td>5:4268227</td>\n      <td>NaN</td>\n      <td>3:567458</td>\n      <td>NaN</td>\n      <td>NaN</td>\n    </tr>\n    <tr>\n      <th>3</th>\n      <td>4</td>\n      <td>Harry Potter and the Chamber of Secrets (Harry...</td>\n      <td>1:11896</td>\n      <td>352</td>\n      <td>4:706082</td>\n      <td>total:2560657</td>\n      <td>1</td>\n      <td>11</td>\n      <td>Scholastic</td>\n      <td>244</td>\n      <td>2003</td>\n      <td>eng</td>\n      <td>J.K. Rowling</td>\n      <td>4.42</td>\n      <td>2:49353</td>\n      <td>5:1504505</td>\n      <td>0439554896</td>\n      <td>3:288821</td>\n      <td>NaN</td>\n      <td>NaN</td>\n    </tr>\n    <tr>\n      <th>4</th>\n      <td>5</td>\n      <td>Harry Potter and the Prisoner of Azkaban (Harr...</td>\n      <td>1:10128</td>\n      <td>435</td>\n      <td>4:630534</td>\n      <td>total:2610317</td>\n      <td>1</td>\n      <td>5</td>\n      <td>Scholastic Inc.</td>\n      <td>37093</td>\n      <td>2004</td>\n      <td>eng</td>\n      <td>J.K. Rowling</td>\n      <td>4.57</td>\n      <td>2:24849</td>\n      <td>5:1749958</td>\n      <td>043965548X</td>\n      <td>3:194848</td>\n      <td>NaN</td>\n      <td>NaN</td>\n    </tr>\n  </tbody>\n</table>\n</div>"
     },
     "execution_count": 9,
     "metadata": {},
     "output_type": "execute_result"
    }
   ],
   "source": [
    "book_df = book_df.rename(columns={\"PublishMonth\": \"Publish_Day\", \"PublishDay\": \"Publish_Month\", \"Rating\": \"Average_rating\"})\n",
    "book_df.head(5)"
   ],
   "metadata": {
    "collapsed": false,
    "pycharm": {
     "name": "#%%\n"
    }
   }
  },
  {
   "cell_type": "markdown",
   "source": [
    "Verify the changes are in place"
   ],
   "metadata": {
    "collapsed": false,
    "pycharm": {
     "name": "#%% md\n"
    }
   }
  },
  {
   "cell_type": "code",
   "execution_count": 10,
   "outputs": [
    {
     "data": {
      "text/plain": "              Id  pagesNumber  Publish_Day  Publish_Month  CountsOfReview  \\\ncount 1850310.00   1850310.00   1850310.00     1850310.00      1850310.00   \nmean  2111590.36       276.55         9.55           6.14           11.58   \nstd   1408184.23      5006.02        10.55           3.75          295.27   \nmin         1.00         0.00         1.00           1.00            0.00   \n25%    827332.50       144.00         1.00           3.00            0.00   \n50%   2017784.50       239.00         2.00           6.00            0.00   \n75%   3200678.75       338.00        18.00           9.00            2.00   \nmax   4846451.00   4517845.00        31.00          12.00       154447.00   \n\n       PublishYear  Average_rating  Count of text reviews  \ncount   1850310.00      1850310.00              409697.00  \nmean       1997.84            2.89                   7.17  \nstd          87.89            1.73                 124.84  \nmin           1.00            0.00                   0.00  \n25%        1993.00            2.00                   0.00  \n50%        2000.00            3.68                   1.00  \n75%        2005.00            4.00                   3.00  \nmax       65535.00            5.00               43652.00  ",
      "text/html": "<div>\n<style scoped>\n    .dataframe tbody tr th:only-of-type {\n        vertical-align: middle;\n    }\n\n    .dataframe tbody tr th {\n        vertical-align: top;\n    }\n\n    .dataframe thead th {\n        text-align: right;\n    }\n</style>\n<table border=\"1\" class=\"dataframe\">\n  <thead>\n    <tr style=\"text-align: right;\">\n      <th></th>\n      <th>Id</th>\n      <th>pagesNumber</th>\n      <th>Publish_Day</th>\n      <th>Publish_Month</th>\n      <th>CountsOfReview</th>\n      <th>PublishYear</th>\n      <th>Average_rating</th>\n      <th>Count of text reviews</th>\n    </tr>\n  </thead>\n  <tbody>\n    <tr>\n      <th>count</th>\n      <td>1850310.00</td>\n      <td>1850310.00</td>\n      <td>1850310.00</td>\n      <td>1850310.00</td>\n      <td>1850310.00</td>\n      <td>1850310.00</td>\n      <td>1850310.00</td>\n      <td>409697.00</td>\n    </tr>\n    <tr>\n      <th>mean</th>\n      <td>2111590.36</td>\n      <td>276.55</td>\n      <td>9.55</td>\n      <td>6.14</td>\n      <td>11.58</td>\n      <td>1997.84</td>\n      <td>2.89</td>\n      <td>7.17</td>\n    </tr>\n    <tr>\n      <th>std</th>\n      <td>1408184.23</td>\n      <td>5006.02</td>\n      <td>10.55</td>\n      <td>3.75</td>\n      <td>295.27</td>\n      <td>87.89</td>\n      <td>1.73</td>\n      <td>124.84</td>\n    </tr>\n    <tr>\n      <th>min</th>\n      <td>1.00</td>\n      <td>0.00</td>\n      <td>1.00</td>\n      <td>1.00</td>\n      <td>0.00</td>\n      <td>1.00</td>\n      <td>0.00</td>\n      <td>0.00</td>\n    </tr>\n    <tr>\n      <th>25%</th>\n      <td>827332.50</td>\n      <td>144.00</td>\n      <td>1.00</td>\n      <td>3.00</td>\n      <td>0.00</td>\n      <td>1993.00</td>\n      <td>2.00</td>\n      <td>0.00</td>\n    </tr>\n    <tr>\n      <th>50%</th>\n      <td>2017784.50</td>\n      <td>239.00</td>\n      <td>2.00</td>\n      <td>6.00</td>\n      <td>0.00</td>\n      <td>2000.00</td>\n      <td>3.68</td>\n      <td>1.00</td>\n    </tr>\n    <tr>\n      <th>75%</th>\n      <td>3200678.75</td>\n      <td>338.00</td>\n      <td>18.00</td>\n      <td>9.00</td>\n      <td>2.00</td>\n      <td>2005.00</td>\n      <td>4.00</td>\n      <td>3.00</td>\n    </tr>\n    <tr>\n      <th>max</th>\n      <td>4846451.00</td>\n      <td>4517845.00</td>\n      <td>31.00</td>\n      <td>12.00</td>\n      <td>154447.00</td>\n      <td>65535.00</td>\n      <td>5.00</td>\n      <td>43652.00</td>\n    </tr>\n  </tbody>\n</table>\n</div>"
     },
     "execution_count": 10,
     "metadata": {},
     "output_type": "execute_result"
    }
   ],
   "source": [
    "pd.set_option('display.float_format', lambda x: '%.2f' % x)\n",
    "book_df.describe()"
   ],
   "metadata": {
    "collapsed": false,
    "pycharm": {
     "name": "#%%\n"
    }
   }
  },
  {
   "cell_type": "markdown",
   "source": [
    "### Null values analysis"
   ],
   "metadata": {
    "collapsed": false,
    "pycharm": {
     "name": "#%% md\n"
    }
   }
  },
  {
   "cell_type": "markdown",
   "source": [
    "Next, let's see how much null values there are in the datasets"
   ],
   "metadata": {
    "collapsed": false,
    "pycharm": {
     "name": "#%% md\n"
    }
   }
  },
  {
   "cell_type": "code",
   "execution_count": 11,
   "outputs": [
    {
     "data": {
      "text/plain": "Language                0.86\nCount of text reviews   0.78\nDescription             0.37\nPublisher               0.01\nISBN                    0.00\nRatingDist3             0.00\nRatingDist5             0.00\nRatingDist2             0.00\nAverage_rating          0.00\nAuthors                 0.00\nId                      0.00\nName                    0.00\nCountsOfReview          0.00\nPublish_Month           0.00\nPublish_Day             0.00\nRatingDistTotal         0.00\nRatingDist4             0.00\npagesNumber             0.00\nRatingDist1             0.00\nPublishYear             0.00\ndtype: float64"
     },
     "execution_count": 11,
     "metadata": {},
     "output_type": "execute_result"
    }
   ],
   "source": [
    "missing_percentage = book_df.isna().sum().sort_values(ascending=False) / len(book_df)\n",
    "missing_percentage"
   ],
   "metadata": {
    "collapsed": false,
    "pycharm": {
     "name": "#%%\n"
    }
   }
  },
  {
   "cell_type": "code",
   "execution_count": 12,
   "outputs": [
    {
     "data": {
      "text/plain": "<AxesSubplot:>"
     },
     "execution_count": 12,
     "metadata": {},
     "output_type": "execute_result"
    },
    {
     "data": {
      "text/plain": "<Figure size 432x288 with 1 Axes>",
      "image/png": "[encoded data removed]"
     },
     "metadata": {},
     "output_type": "display_data"
    }
   ],
   "source": [
    "missing_percentage.plot(kind=\"barh\")"
   ],
   "metadata": {
    "collapsed": false,
    "pycharm": {
     "name": "#%%\n"
    }
   }
  },
  {
   "cell_type": "markdown",
   "source": [
    "Most of null values can be found in Language, Count of text reviews, Description and Publisher column.\n",
    "\n",
    "We can omit these columns from the dataframe since they are not necessary for the EDA."
   ],
   "metadata": {
    "collapsed": false,
    "pycharm": {
     "name": "#%% md\n"
    }
   }
  },
  {
   "cell_type": "markdown",
   "source": [
    "### Outliers analysis"
   ],
   "metadata": {
    "collapsed": false,
    "pycharm": {
     "name": "#%% md\n"
    }
   }
  },
  {
   "cell_type": "markdown",
   "source": [
    "From describe() function, we saw pagesNumber column has some interesting number, let's investigate further."
   ],
   "metadata": {
    "collapsed": false,
    "pycharm": {
     "name": "#%% md\n"
    }
   }
  },
  {
   "cell_type": "code",
   "execution_count": 13,
   "outputs": [
    {
     "data": {
      "text/plain": "<Figure size 432x288 with 1 Axes>",
      "image/png": "[encoded data removed]"
     },
     "metadata": {},
     "output_type": "display_data"
    }
   ],
   "source": [
    "book_df.pagesNumber.max()\n",
    "\n",
    "sns.boxplot(data=book_df, x = \"pagesNumber\")\n",
    "plt.show()"
   ],
   "metadata": {
    "collapsed": false,
    "pycharm": {
     "name": "#%%\n"
    }
   }
  },
  {
   "cell_type": "markdown",
   "source": [
    "From the graph, we can clearly see that most books have less than 100000 pages.\n",
    "\n",
    "After some investigation, there are indeed several books that have quite many pages *(More than 100000 pages)*, however, it may be best to avoid having too many extreme values in the dataframe and thus we can remove those records."
   ],
   "metadata": {
    "collapsed": false,
    "pycharm": {
     "name": "#%% md\n"
    }
   }
  },
  {
   "cell_type": "code",
   "execution_count": 14,
   "outputs": [],
   "source": [
    "book_df.drop(book_df[book_df.pagesNumber > 100000].index, inplace=True)\n",
    "#book_df[book_df.pagesNumber > 100000] #Verify"
   ],
   "metadata": {
    "collapsed": false,
    "pycharm": {
     "name": "#%%\n"
    }
   }
  },
  {
   "cell_type": "code",
   "execution_count": 15,
   "outputs": [
    {
     "data": {
      "text/plain": "<Figure size 432x288 with 1 Axes>",
      "image/png": "[encoded data removed]"
     },
     "metadata": {},
     "output_type": "display_data"
    }
   ],
   "source": [
    "book_df.PublishYear.max()\n",
    "\n",
    "sns.boxplot(data=book_df, x = \"PublishYear\")\n",
    "plt.show()"
   ],
   "metadata": {
    "collapsed": false,
    "pycharm": {
     "name": "#%%\n"
    }
   }
  },
  {
   "cell_type": "markdown",
   "source": [
    "From the graph like pagesNumber, PublishYear column has some interesting numbers, let's investigate further."
   ],
   "metadata": {
    "collapsed": false,
    "pycharm": {
     "name": "#%% md\n"
    }
   }
  },
  {
   "cell_type": "code",
   "execution_count": 16,
   "outputs": [
    {
     "data": {
      "text/plain": "[1,\n 8,\n 162,\n 199,\n 200,\n 202,\n 208,\n 299,\n 1192,\n 1376,\n 1384,\n 1385,\n 1387,\n 1623,\n 1730,\n 1753,\n 1824,\n 1825,\n 1833,\n 1835,\n 1836,\n 1837,\n 1838,\n 1839,\n 1841,\n 1846,\n 1847,\n 1850,\n 1851,\n 1852,\n 1854,\n 1856,\n 1859,\n 1862,\n 1863,\n 1864,\n 1865,\n 1866,\n 1868,\n 1869,\n 1871,\n 1874,\n 1878,\n 1879,\n 1880,\n 1881,\n 1884,\n 1885,\n 1886,\n 1888,\n 1889,\n 1892,\n 1893,\n 1894,\n 1895,\n 1896,\n 1897,\n 1898,\n 1899,\n 1900,\n 1901,\n 1902,\n 1903,\n 1904,\n 1905,\n 1906,\n 1907,\n 1908,\n 1909,\n 1910,\n 1911,\n 1912,\n 1913,\n 1914,\n 1915,\n 1916,\n 1917,\n 1918,\n 1919,\n 1920,\n 1921,\n 1922,\n 1923,\n 1924,\n 1925,\n 1926,\n 1927,\n 1928,\n 1929,\n 1930,\n 1931,\n 1932,\n 1933,\n 1934,\n 1935,\n 1936,\n 1937,\n 1938,\n 1939,\n 1940,\n 1941,\n 1942,\n 1943,\n 1944,\n 1945,\n 1946,\n 1947,\n 1948,\n 1949,\n 1950,\n 1951,\n 1952,\n 1953,\n 1954,\n 1955,\n 1956,\n 1957,\n 1958,\n 1959,\n 1960,\n 1961,\n 1962,\n 1963,\n 1964,\n 1965,\n 1966,\n 1967,\n 1968,\n 1969,\n 1970,\n 1971,\n 1972,\n 1973,\n 1974,\n 1975,\n 1976,\n 1977,\n 1978,\n 1979,\n 1980,\n 1981,\n 1982,\n 1983,\n 1984,\n 1985,\n 1986,\n 1987,\n 1988,\n 1989,\n 1990,\n 1991,\n 1992,\n 1993,\n 1994,\n 1995,\n 1996,\n 1997,\n 1998,\n 1999,\n 2000,\n 2001,\n 2002,\n 2003,\n 2004,\n 2005,\n 2006,\n 2007,\n 2008,\n 2009,\n 2010,\n 2011,\n 2012,\n 2013,\n 2014,\n 2015,\n 2016,\n 2017,\n 2018,\n 2019,\n 2020,\n 2021,\n 2022,\n 2030,\n 2035,\n 2099,\n 2100,\n 2103,\n 2202,\n 2994,\n 3002,\n 3006,\n 4989,\n 19769,\n 20015,\n 20016,\n 20040,\n 20067,\n 20099,\n 65535]"
     },
     "execution_count": 16,
     "metadata": {},
     "output_type": "execute_result"
    }
   ],
   "source": [
    "sorted(book_df.PublishYear.unique())"
   ],
   "metadata": {
    "collapsed": false,
    "pycharm": {
     "name": "#%%\n"
    }
   }
  },
  {
   "cell_type": "markdown",
   "source": [
    "Year 1, 8, 162, 199, 200, etc seem strange and need for further investigation"
   ],
   "metadata": {
    "collapsed": false,
    "pycharm": {
     "name": "#%% md\n"
    }
   }
  },
  {
   "cell_type": "code",
   "execution_count": 17,
   "outputs": [
    {
     "data": {
      "text/plain": "             Id                                               Name  \\\n44378     76978    The Secret of the Old Mill (The Hardy Boys, #3)   \n22313   1155177  Agatha Raisin and the Witch of Wyckhadden (Aga...   \n29198   1967481                    Le grand carnage (Sin City, #3)   \n166970  2393134  Kenshin Le Vagabond, tome 05: L'avenir du Kenj...   \n244689  2589506                    Das Wasser, in dem wir schlafen   \n309850  2762952                                    Haus der Träume   \n324506  2804271                   General Guide to the Isle of May   \n367424  2920025               Bibliographies For Biblical Research   \n109103  3303075   Adding and Subtracting Book 3 (Key to Fractions)   \n109105  3303078                  Dividing Book 3 (Key to Decimals)   \n24627    343405                  Disney Princesses (Look and Find)   \n28788    350490           The Virtuous Knight (Medieval Brides #4)   \n15240   4041513                                 Witness to A Crime   \n59106   4174119                                       Die 3 D Diät   \n17276    731727                        El futuro del espaciotiempo   \n37513    769118  Discover Your Passion:  An Intuitive Search To...   \n25899    848178                                               Gala   \n\n        RatingDist1  pagesNumber  RatingDist4 RatingDistTotal  Publish_Day  \\\n44378          1:69          174       4:2173      total:6706            1   \n22313          1:37          196       4:2612      total:6598           17   \n29198   0.166666667          164  4.301388889     total:15415           28   \n166970         1:11          182  0.768055556      total:2787            1   \n244689         1:02          160         4:06        total:22            3   \n309850         1:51          407  0.570138889      total:1605            8   \n324506         1:00           64         4:00         total:1            1   \n367424         1:00            8         4:00         total:0           31   \n109103         1:00           40         4:00         total:0            1   \n109105         1:00           48         4:00         total:0            1   \n24627           1:3           24         4:22        total:74           31   \n28788           1:5          304         4:47       total:160            1   \n15240          1:00          420         4:01         total:6            1   \n59106          1:00          240         4:00         total:1            1   \n17276           1:3          296        4:122       total:348           28   \n37513           1:0          133          4:1         total:7            3   \n25899           1:0          425         4:27        total:57           17   \n\n        Publish_Month                   Publisher  CountsOfReview  \\\n44378               6            Grosset & Dunlap             209   \n22313              11        St Martin's Minotaur              16   \n29198               8                         NaN               0   \n166970              5                      Glénat               1   \n244689              9                         NaN               0   \n309850              5                   Blanvalet               0   \n324506              5                 Tervor Ltd.               0   \n367424             12       Mellen Biblical Press               0   \n109103              1                         NaN               0   \n109105              1                         NaN               0   \n24627              12  Publications International               9   \n28788              11        Harlequin Historical              12   \n15240               3            Canterbury Press               1   \n59106               9                      Steidl               0   \n17276               2                     Crítica               1   \n37513               1                Tomlyn Pubns               0   \n25899               1                  Flammarion               2   \n\n        PublishYear Language                 Authors  Average_rating  \\\n44378           162      eng       Franklin W. Dixon            3.86   \n22313           208      eng             M.C. Beaton            3.75   \n29198           200      fre            Frank Miller            4.11   \n166970          199      fre        Nobuhiro Watsuki            4.32   \n244689          200      ger              Rabea Edel            3.14   \n309850          200      ger      Colleen McCullough            3.69   \n324506          200      eng             James Allan            5.00   \n367424          200      NaN         Watson E. Mills            0.00   \n109103            1      NaN        Steven Rasmussen            0.00   \n109105            1      NaN        Steven Rasmussen            0.00   \n24627           200      eng              John Kurtz            3.74   \n28788           299      eng           Margo Maguire            3.74   \n15240             8      eng  Richard Hayes Phillips            3.83   \n59106           202      NaN     Jean-Claude Houdret            5.00   \n17276           200      spa         Stephen Hawking            3.94   \n37513           200      eng         Gail A. Cassidy            3.71   \n25899           200      fre          Dominique Bona            4.05   \n\n        RatingDist2  RatingDist5        ISBN  RatingDist3  \\\n44378         2:333       5:2036  0448089033       3:2095   \n22313         2:313       5:1366  0312204949       3:2270   \n29198   0.423611111  4.392361111  2878270746  2.045833333   \n166970         2:58  1.213194444  272342796X      0.40625   \n244689         2:05         5:03  3442736943         3:06   \n309850  0.184722222  0.477777778  3442363500  0.429861111   \n324506         2:00         5:01   953819108         3:00   \n367424         2:00         5:00  077342492X         3:00   \n109103         2:00         5:00   913684937         3:00   \n109105         2:00         5:00   913684236         3:00   \n24627           2:7         5:23  0785379185         3:19   \n28788          2:14         5:48  0373292813         3:46   \n15240          2:00         5:02   979872235         3:03   \n59106          2:00         5:01  3882438452         3:00   \n17276          2:22        5:116  8484323994         3:85   \n37513           2:2          5:3  0967743702          3:1   \n25899           2:3         5:18  208066817X          3:9   \n\n                                              Description  \\\n44378                                                 NaN   \n22313   Eye of newt, toe of frog ... and murder most f...   \n29198   La vieille ville de Sin City est une forteress...   \n166970  Raijuta Isurugi est un homme mystérieux qui se...   \n244689  Zwei Schwestern haben sich, nachdem ihre Mutte...   \n309850  Harriet ist ein Röntgenstrahltechniker, der an...   \n324506                                                NaN   \n367424  A bibliographical series of ten volumes explor...   \n109103                                                NaN   \n109105                                                NaN   \n24627                                                 NaN   \n28788                                                 NaN   \n15240                                                 NaN   \n59106                                                 NaN   \n17276   Desde Einstein, y sobre todo a partir de su te...   \n37513   Discover Your Passion is a concise, easy-to-re...   \n25899   Femme éprise d'aventure dont le destin doit to...   \n\n        Count of text reviews  \n44378                     NaN  \n22313                   16.00  \n29198                     NaN  \n166970                    NaN  \n244689                    NaN  \n309850                    NaN  \n324506                    NaN  \n367424                    NaN  \n109103                    NaN  \n109105                    NaN  \n24627                     NaN  \n28788                     NaN  \n15240                     NaN  \n59106                     NaN  \n17276                    1.00  \n37513                    0.00  \n25899                    2.00  ",
      "text/html": "<div>\n<style scoped>\n    .dataframe tbody tr th:only-of-type {\n        vertical-align: middle;\n    }\n\n    .dataframe tbody tr th {\n        vertical-align: top;\n    }\n\n    .dataframe thead th {\n        text-align: right;\n    }\n</style>\n<table border=\"1\" class=\"dataframe\">\n  <thead>\n    <tr style=\"text-align: right;\">\n      <th></th>\n      <th>Id</th>\n      <th>Name</th>\n      <th>RatingDist1</th>\n      <th>pagesNumber</th>\n      <th>RatingDist4</th>\n      <th>RatingDistTotal</th>\n      <th>Publish_Day</th>\n      <th>Publish_Month</th>\n      <th>Publisher</th>\n      <th>CountsOfReview</th>\n      <th>PublishYear</th>\n      <th>Language</th>\n      <th>Authors</th>\n      <th>Average_rating</th>\n      <th>RatingDist2</th>\n      <th>RatingDist5</th>\n      <th>ISBN</th>\n      <th>RatingDist3</th>\n      <th>Description</th>\n      <th>Count of text reviews</th>\n    </tr>\n  </thead>\n  <tbody>\n    <tr>\n      <th>44378</th>\n      <td>76978</td>\n      <td>The Secret of the Old Mill (The Hardy Boys, #3)</td>\n      <td>1:69</td>\n      <td>174</td>\n      <td>4:2173</td>\n      <td>total:6706</td>\n      <td>1</td>\n      <td>6</td>\n      <td>Grosset &amp; Dunlap</td>\n      <td>209</td>\n      <td>162</td>\n      <td>eng</td>\n      <td>Franklin W. Dixon</td>\n      <td>3.86</td>\n      <td>2:333</td>\n      <td>5:2036</td>\n      <td>0448089033</td>\n      <td>3:2095</td>\n      <td>NaN</td>\n      <td>NaN</td>\n    </tr>\n    <tr>\n      <th>22313</th>\n      <td>1155177</td>\n      <td>Agatha Raisin and the Witch of Wyckhadden (Aga...</td>\n      <td>1:37</td>\n      <td>196</td>\n      <td>4:2612</td>\n      <td>total:6598</td>\n      <td>17</td>\n      <td>11</td>\n      <td>St Martin's Minotaur</td>\n      <td>16</td>\n      <td>208</td>\n      <td>eng</td>\n      <td>M.C. Beaton</td>\n      <td>3.75</td>\n      <td>2:313</td>\n      <td>5:1366</td>\n      <td>0312204949</td>\n      <td>3:2270</td>\n      <td>Eye of newt, toe of frog ... and murder most f...</td>\n      <td>16.00</td>\n    </tr>\n    <tr>\n      <th>29198</th>\n      <td>1967481</td>\n      <td>Le grand carnage (Sin City, #3)</td>\n      <td>0.166666667</td>\n      <td>164</td>\n      <td>4.301388889</td>\n      <td>total:15415</td>\n      <td>28</td>\n      <td>8</td>\n      <td>NaN</td>\n      <td>0</td>\n      <td>200</td>\n      <td>fre</td>\n      <td>Frank Miller</td>\n      <td>4.11</td>\n      <td>0.423611111</td>\n      <td>4.392361111</td>\n      <td>2878270746</td>\n      <td>2.045833333</td>\n      <td>La vieille ville de Sin City est une forteress...</td>\n      <td>NaN</td>\n    </tr>\n    <tr>\n      <th>166970</th>\n      <td>2393134</td>\n      <td>Kenshin Le Vagabond, tome 05: L'avenir du Kenj...</td>\n      <td>1:11</td>\n      <td>182</td>\n      <td>0.768055556</td>\n      <td>total:2787</td>\n      <td>1</td>\n      <td>5</td>\n      <td>Glénat</td>\n      <td>1</td>\n      <td>199</td>\n      <td>fre</td>\n      <td>Nobuhiro Watsuki</td>\n      <td>4.32</td>\n      <td>2:58</td>\n      <td>1.213194444</td>\n      <td>272342796X</td>\n      <td>0.40625</td>\n      <td>Raijuta Isurugi est un homme mystérieux qui se...</td>\n      <td>NaN</td>\n    </tr>\n    <tr>\n      <th>244689</th>\n      <td>2589506</td>\n      <td>Das Wasser, in dem wir schlafen</td>\n      <td>1:02</td>\n      <td>160</td>\n      <td>4:06</td>\n      <td>total:22</td>\n      <td>3</td>\n      <td>9</td>\n      <td>NaN</td>\n      <td>0</td>\n      <td>200</td>\n      <td>ger</td>\n      <td>Rabea Edel</td>\n      <td>3.14</td>\n      <td>2:05</td>\n      <td>5:03</td>\n      <td>3442736943</td>\n      <td>3:06</td>\n      <td>Zwei Schwestern haben sich, nachdem ihre Mutte...</td>\n      <td>NaN</td>\n    </tr>\n    <tr>\n      <th>309850</th>\n      <td>2762952</td>\n      <td>Haus der Träume</td>\n      <td>1:51</td>\n      <td>407</td>\n      <td>0.570138889</td>\n      <td>total:1605</td>\n      <td>8</td>\n      <td>5</td>\n      <td>Blanvalet</td>\n      <td>0</td>\n      <td>200</td>\n      <td>ger</td>\n      <td>Colleen McCullough</td>\n      <td>3.69</td>\n      <td>0.184722222</td>\n      <td>0.477777778</td>\n      <td>3442363500</td>\n      <td>0.429861111</td>\n      <td>Harriet ist ein Röntgenstrahltechniker, der an...</td>\n      <td>NaN</td>\n    </tr>\n    <tr>\n      <th>324506</th>\n      <td>2804271</td>\n      <td>General Guide to the Isle of May</td>\n      <td>1:00</td>\n      <td>64</td>\n      <td>4:00</td>\n      <td>total:1</td>\n      <td>1</td>\n      <td>5</td>\n      <td>Tervor Ltd.</td>\n      <td>0</td>\n      <td>200</td>\n      <td>eng</td>\n      <td>James Allan</td>\n      <td>5.00</td>\n      <td>2:00</td>\n      <td>5:01</td>\n      <td>953819108</td>\n      <td>3:00</td>\n      <td>NaN</td>\n      <td>NaN</td>\n    </tr>\n    <tr>\n      <th>367424</th>\n      <td>2920025</td>\n      <td>Bibliographies For Biblical Research</td>\n      <td>1:00</td>\n      <td>8</td>\n      <td>4:00</td>\n      <td>total:0</td>\n      <td>31</td>\n      <td>12</td>\n      <td>Mellen Biblical Press</td>\n      <td>0</td>\n      <td>200</td>\n      <td>NaN</td>\n      <td>Watson E. Mills</td>\n      <td>0.00</td>\n      <td>2:00</td>\n      <td>5:00</td>\n      <td>077342492X</td>\n      <td>3:00</td>\n      <td>A bibliographical series of ten volumes explor...</td>\n      <td>NaN</td>\n    </tr>\n    <tr>\n      <th>109103</th>\n      <td>3303075</td>\n      <td>Adding and Subtracting Book 3 (Key to Fractions)</td>\n      <td>1:00</td>\n      <td>40</td>\n      <td>4:00</td>\n      <td>total:0</td>\n      <td>1</td>\n      <td>1</td>\n      <td>NaN</td>\n      <td>0</td>\n      <td>1</td>\n      <td>NaN</td>\n      <td>Steven Rasmussen</td>\n      <td>0.00</td>\n      <td>2:00</td>\n      <td>5:00</td>\n      <td>913684937</td>\n      <td>3:00</td>\n      <td>NaN</td>\n      <td>NaN</td>\n    </tr>\n    <tr>\n      <th>109105</th>\n      <td>3303078</td>\n      <td>Dividing Book 3 (Key to Decimals)</td>\n      <td>1:00</td>\n      <td>48</td>\n      <td>4:00</td>\n      <td>total:0</td>\n      <td>1</td>\n      <td>1</td>\n      <td>NaN</td>\n      <td>0</td>\n      <td>1</td>\n      <td>NaN</td>\n      <td>Steven Rasmussen</td>\n      <td>0.00</td>\n      <td>2:00</td>\n      <td>5:00</td>\n      <td>913684236</td>\n      <td>3:00</td>\n      <td>NaN</td>\n      <td>NaN</td>\n    </tr>\n    <tr>\n      <th>24627</th>\n      <td>343405</td>\n      <td>Disney Princesses (Look and Find)</td>\n      <td>1:3</td>\n      <td>24</td>\n      <td>4:22</td>\n      <td>total:74</td>\n      <td>31</td>\n      <td>12</td>\n      <td>Publications International</td>\n      <td>9</td>\n      <td>200</td>\n      <td>eng</td>\n      <td>John Kurtz</td>\n      <td>3.74</td>\n      <td>2:7</td>\n      <td>5:23</td>\n      <td>0785379185</td>\n      <td>3:19</td>\n      <td>NaN</td>\n      <td>NaN</td>\n    </tr>\n    <tr>\n      <th>28788</th>\n      <td>350490</td>\n      <td>The Virtuous Knight (Medieval Brides #4)</td>\n      <td>1:5</td>\n      <td>304</td>\n      <td>4:47</td>\n      <td>total:160</td>\n      <td>1</td>\n      <td>11</td>\n      <td>Harlequin Historical</td>\n      <td>12</td>\n      <td>299</td>\n      <td>eng</td>\n      <td>Margo Maguire</td>\n      <td>3.74</td>\n      <td>2:14</td>\n      <td>5:48</td>\n      <td>0373292813</td>\n      <td>3:46</td>\n      <td>NaN</td>\n      <td>NaN</td>\n    </tr>\n    <tr>\n      <th>15240</th>\n      <td>4041513</td>\n      <td>Witness to A Crime</td>\n      <td>1:00</td>\n      <td>420</td>\n      <td>4:01</td>\n      <td>total:6</td>\n      <td>1</td>\n      <td>3</td>\n      <td>Canterbury Press</td>\n      <td>1</td>\n      <td>8</td>\n      <td>eng</td>\n      <td>Richard Hayes Phillips</td>\n      <td>3.83</td>\n      <td>2:00</td>\n      <td>5:02</td>\n      <td>979872235</td>\n      <td>3:03</td>\n      <td>NaN</td>\n      <td>NaN</td>\n    </tr>\n    <tr>\n      <th>59106</th>\n      <td>4174119</td>\n      <td>Die 3 D Diät</td>\n      <td>1:00</td>\n      <td>240</td>\n      <td>4:00</td>\n      <td>total:1</td>\n      <td>1</td>\n      <td>9</td>\n      <td>Steidl</td>\n      <td>0</td>\n      <td>202</td>\n      <td>NaN</td>\n      <td>Jean-Claude Houdret</td>\n      <td>5.00</td>\n      <td>2:00</td>\n      <td>5:01</td>\n      <td>3882438452</td>\n      <td>3:00</td>\n      <td>NaN</td>\n      <td>NaN</td>\n    </tr>\n    <tr>\n      <th>17276</th>\n      <td>731727</td>\n      <td>El futuro del espaciotiempo</td>\n      <td>1:3</td>\n      <td>296</td>\n      <td>4:122</td>\n      <td>total:348</td>\n      <td>28</td>\n      <td>2</td>\n      <td>Crítica</td>\n      <td>1</td>\n      <td>200</td>\n      <td>spa</td>\n      <td>Stephen Hawking</td>\n      <td>3.94</td>\n      <td>2:22</td>\n      <td>5:116</td>\n      <td>8484323994</td>\n      <td>3:85</td>\n      <td>Desde Einstein, y sobre todo a partir de su te...</td>\n      <td>1.00</td>\n    </tr>\n    <tr>\n      <th>37513</th>\n      <td>769118</td>\n      <td>Discover Your Passion:  An Intuitive Search To...</td>\n      <td>1:0</td>\n      <td>133</td>\n      <td>4:1</td>\n      <td>total:7</td>\n      <td>3</td>\n      <td>1</td>\n      <td>Tomlyn Pubns</td>\n      <td>0</td>\n      <td>200</td>\n      <td>eng</td>\n      <td>Gail A. Cassidy</td>\n      <td>3.71</td>\n      <td>2:2</td>\n      <td>5:3</td>\n      <td>0967743702</td>\n      <td>3:1</td>\n      <td>Discover Your Passion is a concise, easy-to-re...</td>\n      <td>0.00</td>\n    </tr>\n    <tr>\n      <th>25899</th>\n      <td>848178</td>\n      <td>Gala</td>\n      <td>1:0</td>\n      <td>425</td>\n      <td>4:27</td>\n      <td>total:57</td>\n      <td>17</td>\n      <td>1</td>\n      <td>Flammarion</td>\n      <td>2</td>\n      <td>200</td>\n      <td>fre</td>\n      <td>Dominique Bona</td>\n      <td>4.05</td>\n      <td>2:3</td>\n      <td>5:18</td>\n      <td>208066817X</td>\n      <td>3:9</td>\n      <td>Femme éprise d'aventure dont le destin doit to...</td>\n      <td>2.00</td>\n    </tr>\n  </tbody>\n</table>\n</div>"
     },
     "execution_count": 17,
     "metadata": {},
     "output_type": "execute_result"
    }
   ],
   "source": [
    "book_df[book_df.PublishYear < 1000]"
   ],
   "metadata": {
    "collapsed": false,
    "pycharm": {
     "name": "#%%\n"
    }
   }
  },
  {
   "cell_type": "code",
   "execution_count": 18,
   "outputs": [
    {
     "data": {
      "text/plain": "             Id                                               Name  \\\n25597     42574     The Water Babies: A Fairy Tale for a Land Baby   \n5049    1012420                     Jared Grace's How-to-Draw Book   \n38977   1193170                          The Back Door of Midnight   \n30825   1271191          Rama Beyond Price (Clay Sanskrit Library)   \n23871   1359960     Guidance For Women In Twelfth Century Convents   \n31274   1694730                Global Politics: A New Introduction   \n14830   1746177      La femme de guerre (Les colonnes du ciel, #3)   \n4327    1814546  My Scrumptious Scottish Dumplings: The Life of...   \n25805   1868339  National Geographic Countries of the World: Ke...   \n28508   1874849                                              Ouest   \n29432   1877272                                          Battaglia   \n46191   2102912                                       Le Sang noir   \n122581  2283161  La Normandie Avant Les Normands:  De La Conquê...   \n130018  2301252  China (National Geographic Countries of the Wo...   \n281582  2685378        Die Drachenbotschaft (Drachen Trilogie, #3)   \n365847  2915845  Straight Talk: A New Way to Get Closer to Othe...   \n816     3001922       Jane Eyre, Shirley, Villette & The Professor   \n30547   3080023                    Amnesie (Joseph O'Loughlin, #2)   \n88876   3243016      Trials of Death (The Saga of Darren Shan, #5)   \n102144  4310347                                Twenty Fathoms Down   \n222257  4670608                             The Power of he Center   \n29014    451206  The Black Stallion's Ghost (The Black Stallion...   \n45624    582684                    The graphic work of M.C. Escher   \n32271    657982             Ultimate X-Men, Volume 5: Ultimate War   \n\n        RatingDist1  pagesNumber  RatingDist4 RatingDistTotal  Publish_Day  \\\n25597         1:494          372       4:1929      total:7645           21   \n5049            1:0           48          4:0         total:0           31   \n38977          1:28          224       4:1360      total:4167           30   \n30825           1:0          638          4:0         total:0            1   \n23871           1:0          203          4:2         total:2            6   \n31274           1:4          568         4:21        total:64            1   \n14830           1:0          270          4:2        total:13           20   \n4327           1:02          192         4:26        total:88           30   \n25805          1:00           64         4:00         total:6           28   \n28508          1:05          266         4:22        total:61           25   \n29432          1:00          104         4:00         total:0           19   \n46191          1:02          515  0.209722222       total:159           11   \n122581         1:00          448         4:00         total:0           16   \n130018         1:00           64         4:00         total:9           31   \n281582  0.090277778          288  1.413194444      total:5150           15   \n365847         1:00            1         4:03         total:8            1   \n816            1:03         1167  0.225694444       total:295           25   \n30547          1:54          448  2.092361111      total:6294           21   \n88876   0.140277778          176  6.489583333     total:27841           14   \n102144         1:03          136         4:13        total:36           22   \n222257         1:00          256         4:03         total:3           15   \n29014          1:62          166        4:729      total:2454           12   \n45624        1:4197           16      4:16415     total:62435            1   \n32271          1:53          112        4:726      total:2366           31   \n\n        Publish_Month                             Publisher  CountsOfReview  \\\n25597               8             Adamant Media Corporation               0   \n5049               12                       Simon Scribbles               0   \n38977              12                           Simon Pulse               0   \n30825               1                         Clay Sanskrit               0   \n23871              11                                Brewer               0   \n31274               1                             Routledge               0   \n14830              11                                Pocket               0   \n4327                7                           Simon Pulse               0   \n25805               2  National Geographic Children's Books               1   \n28508               8                               V. Hamy               4   \n29432              10                              Mosquito               0   \n46191              10                             Gallimard               0   \n122581              9                          Ouest-France               0   \n130018             12  National Geographic Children's Books               0   \n281582              4                       Beltz & Gelberg               0   \n365847              2                                   NaN               3   \n816                 9                      Barnes and Noble               3   \n30547               8                       Goldmann Verlag               3   \n88876               1                Gramedia Pustaka Utama               5   \n102144              6                          Galaxy Press               3   \n222257              4                                   NaN               1   \n29014               6  Random House Books for Young Readers               1   \n45624               1                                  Taco               0   \n32271               8                             Panini UK               2   \n\n        PublishYear Language               Authors  Average_rating  \\\n25597          3002      NaN      Charles Kingsley            3.42   \n5049           2030      NaN       Benjamin Harper            0.00   \n38977          2030      NaN    Elizabeth Chandler            4.22   \n30825         20067      NaN                Murari            0.00   \n23871          2100      NaN  Jocelyn Wogan-Browne            4.00   \n31274         20099      NaN          Jenny Edkins            3.62   \n14830         65535      fre        Bernard Clavel            3.31   \n4327           2030      NaN        Cherry Whytock            3.38   \n25805          2030      NaN         Bridget Giles            3.67   \n28508          2099      fre      François Vallejo            3.44   \n29432          2099      NaN           Michel Jans            0.00   \n46191          2035      NaN        Louis Guilloux            3.99   \n122581         2202      fre     Elisabeth Deniaux            0.00   \n130018         2030      NaN             Jen Green            3.44   \n281582        20015      ger            Jane Yolen            3.92   \n365847        65535      eng         Sherod Miller            4.00   \n816            3006      NaN      Charlotte Brontë            4.31   \n30547         20016      ger      Michael Robotham            3.86   \n88876          2994      NaN           Darren Shan            4.25   \n102144         2103      NaN        L. Ron Hubbard            3.33   \n222257        65535      NaN     Daniel D. Arnheim            4.00   \n29014         19769      eng         Walter Farley            3.83   \n45624          4989      eng           M.C. Escher            3.91   \n32271         20040      eng           Mark Millar            3.79   \n\n        RatingDist2  RatingDist5        ISBN  RatingDist3  \\\n25597        2:1132       5:1711  0543956121       3:2379   \n5049            2:0          5:0  1416949526          3:0   \n38977         2:134       5:1950  0689866429        3:695   \n30825           2:0          5:0  0814782957          3:0   \n23871           2:0          5:0  0859918254          3:0   \n31274           2:3         5:15  0415431301         3:21   \n14830           2:2          5:2  2266136682          3:7   \n4327           2:09         5:10  068986552X         3:41   \n25805          2:00         5:02   792276280         3:04   \n28508          2:07         5:11  2878582357         3:16   \n29432          2:00         5:00  2908551896         3:00   \n46191          2:13         5:56  2070230570         3:26   \n122581         2:00         5:00  2737311179         3:00   \n130018         2:02         5:03   792275756         3:04   \n281582        0.275  1.379861111  3407786263  1.043055556   \n365847         2:01         5:03   451153847         3:01   \n816            2:08  0.318055556    76074000         3:41   \n30547   0.297916667  1.265972222  3442310148  1.260416667   \n88876   0.651388889      5:13444  1554680662  3.133333333   \n102144         2:07         5:06  1592122515         3:07   \n222257         2:00         5:00   520062418         3:00   \n29014         2:166        5:804  0394806182        3:693   \n45624        2:4388      5:26498         NaN      3:10937   \n32271         2:176        5:715  1904159443        3:696   \n\n                                              Description  \\\n25597                                                 NaN   \n5049    The <em>Spiderwick Stained Glass Book</em> fea...   \n38977   Elizabeth Chandler is a pseudonym for Mary Cla...   \n30825   Rama Beyond Price, a dramatized remake of the ...   \n23871   A significant and lasting contribution to the ...   \n31274   Global Politics: A New Introduction is an inno...   \n14830   En cette année 1639, quel contraste entre la F...   \n4327    <br />\"Almost forgot, Cherub, I got something ...   \n25805   Welcome to Kenya, land of light and infinite v...   \n28508   Un soir, aux tréfonds des terres normandes, un...   \n29432                                                 NaN   \n46191   \"Il luogo dove si svolge la vicenda di SANGUE ...   \n122581                                                NaN   \n130018  National Geographic invites you to journey thr...   \n281582  Jakkin und Akki haben zwar ihre Verfolger absc...   \n365847  Do you have trouble telling your spouse you ar...   \n816                       In her fiction, Charlotte Bront   \n30547   Mit Schusswunden im Bein, einem abgeschossenen...   \n88876   <strong>'ANNIHILATION BECKONS THE VAMPIRE'S AS...   \n102144  <b>As daring and defiant as Kirk Douglas journ...   \n222257  Using a wealth of examples, Arnheim considers ...   \n29014                                                 NaN   \n45624                                                 NaN   \n32271   The Ultimates vs. the Ultimate X-Men: the batt...   \n\n        Count of text reviews  \n25597                     NaN  \n5049                     0.00  \n38977                    0.00  \n30825                    0.00  \n23871                    0.00  \n31274                    0.00  \n14830                     NaN  \n4327                      NaN  \n25805                     NaN  \n28508                     NaN  \n29432                     NaN  \n46191                     NaN  \n122581                    NaN  \n130018                    NaN  \n281582                    NaN  \n365847                    NaN  \n816                       NaN  \n30547                     NaN  \n88876                     NaN  \n102144                    NaN  \n222257                    NaN  \n29014                     NaN  \n45624                     NaN  \n32271                     NaN  ",
      "text/html": "<div>\n<style scoped>\n    .dataframe tbody tr th:only-of-type {\n        vertical-align: middle;\n    }\n\n    .dataframe tbody tr th {\n        vertical-align: top;\n    }\n\n    .dataframe thead th {\n        text-align: right;\n    }\n</style>\n<table border=\"1\" class=\"dataframe\">\n  <thead>\n    <tr style=\"text-align: right;\">\n      <th></th>\n      <th>Id</th>\n      <th>Name</th>\n      <th>RatingDist1</th>\n      <th>pagesNumber</th>\n      <th>RatingDist4</th>\n      <th>RatingDistTotal</th>\n      <th>Publish_Day</th>\n      <th>Publish_Month</th>\n      <th>Publisher</th>\n      <th>CountsOfReview</th>\n      <th>PublishYear</th>\n      <th>Language</th>\n      <th>Authors</th>\n      <th>Average_rating</th>\n      <th>RatingDist2</th>\n      <th>RatingDist5</th>\n      <th>ISBN</th>\n      <th>RatingDist3</th>\n      <th>Description</th>\n      <th>Count of text reviews</th>\n    </tr>\n  </thead>\n  <tbody>\n    <tr>\n      <th>25597</th>\n      <td>42574</td>\n      <td>The Water Babies: A Fairy Tale for a Land Baby</td>\n      <td>1:494</td>\n      <td>372</td>\n      <td>4:1929</td>\n      <td>total:7645</td>\n      <td>21</td>\n      <td>8</td>\n      <td>Adamant Media Corporation</td>\n      <td>0</td>\n      <td>3002</td>\n      <td>NaN</td>\n      <td>Charles Kingsley</td>\n      <td>3.42</td>\n      <td>2:1132</td>\n      <td>5:1711</td>\n      <td>0543956121</td>\n      <td>3:2379</td>\n      <td>NaN</td>\n      <td>NaN</td>\n    </tr>\n    <tr>\n      <th>5049</th>\n      <td>1012420</td>\n      <td>Jared Grace's How-to-Draw Book</td>\n      <td>1:0</td>\n      <td>48</td>\n      <td>4:0</td>\n      <td>total:0</td>\n      <td>31</td>\n      <td>12</td>\n      <td>Simon Scribbles</td>\n      <td>0</td>\n      <td>2030</td>\n      <td>NaN</td>\n      <td>Benjamin Harper</td>\n      <td>0.00</td>\n      <td>2:0</td>\n      <td>5:0</td>\n      <td>1416949526</td>\n      <td>3:0</td>\n      <td>The &lt;em&gt;Spiderwick Stained Glass Book&lt;/em&gt; fea...</td>\n      <td>0.00</td>\n    </tr>\n    <tr>\n      <th>38977</th>\n      <td>1193170</td>\n      <td>The Back Door of Midnight</td>\n      <td>1:28</td>\n      <td>224</td>\n      <td>4:1360</td>\n      <td>total:4167</td>\n      <td>30</td>\n      <td>12</td>\n      <td>Simon Pulse</td>\n      <td>0</td>\n      <td>2030</td>\n      <td>NaN</td>\n      <td>Elizabeth Chandler</td>\n      <td>4.22</td>\n      <td>2:134</td>\n      <td>5:1950</td>\n      <td>0689866429</td>\n      <td>3:695</td>\n      <td>Elizabeth Chandler is a pseudonym for Mary Cla...</td>\n      <td>0.00</td>\n    </tr>\n    <tr>\n      <th>30825</th>\n      <td>1271191</td>\n      <td>Rama Beyond Price (Clay Sanskrit Library)</td>\n      <td>1:0</td>\n      <td>638</td>\n      <td>4:0</td>\n      <td>total:0</td>\n      <td>1</td>\n      <td>1</td>\n      <td>Clay Sanskrit</td>\n      <td>0</td>\n      <td>20067</td>\n      <td>NaN</td>\n      <td>Murari</td>\n      <td>0.00</td>\n      <td>2:0</td>\n      <td>5:0</td>\n      <td>0814782957</td>\n      <td>3:0</td>\n      <td>Rama Beyond Price, a dramatized remake of the ...</td>\n      <td>0.00</td>\n    </tr>\n    <tr>\n      <th>23871</th>\n      <td>1359960</td>\n      <td>Guidance For Women In Twelfth Century Convents</td>\n      <td>1:0</td>\n      <td>203</td>\n      <td>4:2</td>\n      <td>total:2</td>\n      <td>6</td>\n      <td>11</td>\n      <td>Brewer</td>\n      <td>0</td>\n      <td>2100</td>\n      <td>NaN</td>\n      <td>Jocelyn Wogan-Browne</td>\n      <td>4.00</td>\n      <td>2:0</td>\n      <td>5:0</td>\n      <td>0859918254</td>\n      <td>3:0</td>\n      <td>A significant and lasting contribution to the ...</td>\n      <td>0.00</td>\n    </tr>\n    <tr>\n      <th>31274</th>\n      <td>1694730</td>\n      <td>Global Politics: A New Introduction</td>\n      <td>1:4</td>\n      <td>568</td>\n      <td>4:21</td>\n      <td>total:64</td>\n      <td>1</td>\n      <td>1</td>\n      <td>Routledge</td>\n      <td>0</td>\n      <td>20099</td>\n      <td>NaN</td>\n      <td>Jenny Edkins</td>\n      <td>3.62</td>\n      <td>2:3</td>\n      <td>5:15</td>\n      <td>0415431301</td>\n      <td>3:21</td>\n      <td>Global Politics: A New Introduction is an inno...</td>\n      <td>0.00</td>\n    </tr>\n    <tr>\n      <th>14830</th>\n      <td>1746177</td>\n      <td>La femme de guerre (Les colonnes du ciel, #3)</td>\n      <td>1:0</td>\n      <td>270</td>\n      <td>4:2</td>\n      <td>total:13</td>\n      <td>20</td>\n      <td>11</td>\n      <td>Pocket</td>\n      <td>0</td>\n      <td>65535</td>\n      <td>fre</td>\n      <td>Bernard Clavel</td>\n      <td>3.31</td>\n      <td>2:2</td>\n      <td>5:2</td>\n      <td>2266136682</td>\n      <td>3:7</td>\n      <td>En cette année 1639, quel contraste entre la F...</td>\n      <td>NaN</td>\n    </tr>\n    <tr>\n      <th>4327</th>\n      <td>1814546</td>\n      <td>My Scrumptious Scottish Dumplings: The Life of...</td>\n      <td>1:02</td>\n      <td>192</td>\n      <td>4:26</td>\n      <td>total:88</td>\n      <td>30</td>\n      <td>7</td>\n      <td>Simon Pulse</td>\n      <td>0</td>\n      <td>2030</td>\n      <td>NaN</td>\n      <td>Cherry Whytock</td>\n      <td>3.38</td>\n      <td>2:09</td>\n      <td>5:10</td>\n      <td>068986552X</td>\n      <td>3:41</td>\n      <td>&lt;br /&gt;\"Almost forgot, Cherub, I got something ...</td>\n      <td>NaN</td>\n    </tr>\n    <tr>\n      <th>25805</th>\n      <td>1868339</td>\n      <td>National Geographic Countries of the World: Ke...</td>\n      <td>1:00</td>\n      <td>64</td>\n      <td>4:00</td>\n      <td>total:6</td>\n      <td>28</td>\n      <td>2</td>\n      <td>National Geographic Children's Books</td>\n      <td>1</td>\n      <td>2030</td>\n      <td>NaN</td>\n      <td>Bridget Giles</td>\n      <td>3.67</td>\n      <td>2:00</td>\n      <td>5:02</td>\n      <td>792276280</td>\n      <td>3:04</td>\n      <td>Welcome to Kenya, land of light and infinite v...</td>\n      <td>NaN</td>\n    </tr>\n    <tr>\n      <th>28508</th>\n      <td>1874849</td>\n      <td>Ouest</td>\n      <td>1:05</td>\n      <td>266</td>\n      <td>4:22</td>\n      <td>total:61</td>\n      <td>25</td>\n      <td>8</td>\n      <td>V. Hamy</td>\n      <td>4</td>\n      <td>2099</td>\n      <td>fre</td>\n      <td>François Vallejo</td>\n      <td>3.44</td>\n      <td>2:07</td>\n      <td>5:11</td>\n      <td>2878582357</td>\n      <td>3:16</td>\n      <td>Un soir, aux tréfonds des terres normandes, un...</td>\n      <td>NaN</td>\n    </tr>\n    <tr>\n      <th>29432</th>\n      <td>1877272</td>\n      <td>Battaglia</td>\n      <td>1:00</td>\n      <td>104</td>\n      <td>4:00</td>\n      <td>total:0</td>\n      <td>19</td>\n      <td>10</td>\n      <td>Mosquito</td>\n      <td>0</td>\n      <td>2099</td>\n      <td>NaN</td>\n      <td>Michel Jans</td>\n      <td>0.00</td>\n      <td>2:00</td>\n      <td>5:00</td>\n      <td>2908551896</td>\n      <td>3:00</td>\n      <td>NaN</td>\n      <td>NaN</td>\n    </tr>\n    <tr>\n      <th>46191</th>\n      <td>2102912</td>\n      <td>Le Sang noir</td>\n      <td>1:02</td>\n      <td>515</td>\n      <td>0.209722222</td>\n      <td>total:159</td>\n      <td>11</td>\n      <td>10</td>\n      <td>Gallimard</td>\n      <td>0</td>\n      <td>2035</td>\n      <td>NaN</td>\n      <td>Louis Guilloux</td>\n      <td>3.99</td>\n      <td>2:13</td>\n      <td>5:56</td>\n      <td>2070230570</td>\n      <td>3:26</td>\n      <td>\"Il luogo dove si svolge la vicenda di SANGUE ...</td>\n      <td>NaN</td>\n    </tr>\n    <tr>\n      <th>122581</th>\n      <td>2283161</td>\n      <td>La Normandie Avant Les Normands:  De La Conquê...</td>\n      <td>1:00</td>\n      <td>448</td>\n      <td>4:00</td>\n      <td>total:0</td>\n      <td>16</td>\n      <td>9</td>\n      <td>Ouest-France</td>\n      <td>0</td>\n      <td>2202</td>\n      <td>fre</td>\n      <td>Elisabeth Deniaux</td>\n      <td>0.00</td>\n      <td>2:00</td>\n      <td>5:00</td>\n      <td>2737311179</td>\n      <td>3:00</td>\n      <td>NaN</td>\n      <td>NaN</td>\n    </tr>\n    <tr>\n      <th>130018</th>\n      <td>2301252</td>\n      <td>China (National Geographic Countries of the Wo...</td>\n      <td>1:00</td>\n      <td>64</td>\n      <td>4:00</td>\n      <td>total:9</td>\n      <td>31</td>\n      <td>12</td>\n      <td>National Geographic Children's Books</td>\n      <td>0</td>\n      <td>2030</td>\n      <td>NaN</td>\n      <td>Jen Green</td>\n      <td>3.44</td>\n      <td>2:02</td>\n      <td>5:03</td>\n      <td>792275756</td>\n      <td>3:04</td>\n      <td>National Geographic invites you to journey thr...</td>\n      <td>NaN</td>\n    </tr>\n    <tr>\n      <th>281582</th>\n      <td>2685378</td>\n      <td>Die Drachenbotschaft (Drachen Trilogie, #3)</td>\n      <td>0.090277778</td>\n      <td>288</td>\n      <td>1.413194444</td>\n      <td>total:5150</td>\n      <td>15</td>\n      <td>4</td>\n      <td>Beltz &amp; Gelberg</td>\n      <td>0</td>\n      <td>20015</td>\n      <td>ger</td>\n      <td>Jane Yolen</td>\n      <td>3.92</td>\n      <td>0.275</td>\n      <td>1.379861111</td>\n      <td>3407786263</td>\n      <td>1.043055556</td>\n      <td>Jakkin und Akki haben zwar ihre Verfolger absc...</td>\n      <td>NaN</td>\n    </tr>\n    <tr>\n      <th>365847</th>\n      <td>2915845</td>\n      <td>Straight Talk: A New Way to Get Closer to Othe...</td>\n      <td>1:00</td>\n      <td>1</td>\n      <td>4:03</td>\n      <td>total:8</td>\n      <td>1</td>\n      <td>2</td>\n      <td>NaN</td>\n      <td>3</td>\n      <td>65535</td>\n      <td>eng</td>\n      <td>Sherod Miller</td>\n      <td>4.00</td>\n      <td>2:01</td>\n      <td>5:03</td>\n      <td>451153847</td>\n      <td>3:01</td>\n      <td>Do you have trouble telling your spouse you ar...</td>\n      <td>NaN</td>\n    </tr>\n    <tr>\n      <th>816</th>\n      <td>3001922</td>\n      <td>Jane Eyre, Shirley, Villette &amp; The Professor</td>\n      <td>1:03</td>\n      <td>1167</td>\n      <td>0.225694444</td>\n      <td>total:295</td>\n      <td>25</td>\n      <td>9</td>\n      <td>Barnes and Noble</td>\n      <td>3</td>\n      <td>3006</td>\n      <td>NaN</td>\n      <td>Charlotte Brontë</td>\n      <td>4.31</td>\n      <td>2:08</td>\n      <td>0.318055556</td>\n      <td>76074000</td>\n      <td>3:41</td>\n      <td>In her fiction, Charlotte Bront</td>\n      <td>NaN</td>\n    </tr>\n    <tr>\n      <th>30547</th>\n      <td>3080023</td>\n      <td>Amnesie (Joseph O'Loughlin, #2)</td>\n      <td>1:54</td>\n      <td>448</td>\n      <td>2.092361111</td>\n      <td>total:6294</td>\n      <td>21</td>\n      <td>8</td>\n      <td>Goldmann Verlag</td>\n      <td>3</td>\n      <td>20016</td>\n      <td>ger</td>\n      <td>Michael Robotham</td>\n      <td>3.86</td>\n      <td>0.297916667</td>\n      <td>1.265972222</td>\n      <td>3442310148</td>\n      <td>1.260416667</td>\n      <td>Mit Schusswunden im Bein, einem abgeschossenen...</td>\n      <td>NaN</td>\n    </tr>\n    <tr>\n      <th>88876</th>\n      <td>3243016</td>\n      <td>Trials of Death (The Saga of Darren Shan, #5)</td>\n      <td>0.140277778</td>\n      <td>176</td>\n      <td>6.489583333</td>\n      <td>total:27841</td>\n      <td>14</td>\n      <td>1</td>\n      <td>Gramedia Pustaka Utama</td>\n      <td>5</td>\n      <td>2994</td>\n      <td>NaN</td>\n      <td>Darren Shan</td>\n      <td>4.25</td>\n      <td>0.651388889</td>\n      <td>5:13444</td>\n      <td>1554680662</td>\n      <td>3.133333333</td>\n      <td>&lt;strong&gt;'ANNIHILATION BECKONS THE VAMPIRE'S AS...</td>\n      <td>NaN</td>\n    </tr>\n    <tr>\n      <th>102144</th>\n      <td>4310347</td>\n      <td>Twenty Fathoms Down</td>\n      <td>1:03</td>\n      <td>136</td>\n      <td>4:13</td>\n      <td>total:36</td>\n      <td>22</td>\n      <td>6</td>\n      <td>Galaxy Press</td>\n      <td>3</td>\n      <td>2103</td>\n      <td>NaN</td>\n      <td>L. Ron Hubbard</td>\n      <td>3.33</td>\n      <td>2:07</td>\n      <td>5:06</td>\n      <td>1592122515</td>\n      <td>3:07</td>\n      <td>&lt;b&gt;As daring and defiant as Kirk Douglas journ...</td>\n      <td>NaN</td>\n    </tr>\n    <tr>\n      <th>222257</th>\n      <td>4670608</td>\n      <td>The Power of he Center</td>\n      <td>1:00</td>\n      <td>256</td>\n      <td>4:03</td>\n      <td>total:3</td>\n      <td>15</td>\n      <td>4</td>\n      <td>NaN</td>\n      <td>1</td>\n      <td>65535</td>\n      <td>NaN</td>\n      <td>Daniel D. Arnheim</td>\n      <td>4.00</td>\n      <td>2:00</td>\n      <td>5:00</td>\n      <td>520062418</td>\n      <td>3:00</td>\n      <td>Using a wealth of examples, Arnheim considers ...</td>\n      <td>NaN</td>\n    </tr>\n    <tr>\n      <th>29014</th>\n      <td>451206</td>\n      <td>The Black Stallion's Ghost (The Black Stallion...</td>\n      <td>1:62</td>\n      <td>166</td>\n      <td>4:729</td>\n      <td>total:2454</td>\n      <td>12</td>\n      <td>6</td>\n      <td>Random House Books for Young Readers</td>\n      <td>1</td>\n      <td>19769</td>\n      <td>eng</td>\n      <td>Walter Farley</td>\n      <td>3.83</td>\n      <td>2:166</td>\n      <td>5:804</td>\n      <td>0394806182</td>\n      <td>3:693</td>\n      <td>NaN</td>\n      <td>NaN</td>\n    </tr>\n    <tr>\n      <th>45624</th>\n      <td>582684</td>\n      <td>The graphic work of M.C. Escher</td>\n      <td>1:4197</td>\n      <td>16</td>\n      <td>4:16415</td>\n      <td>total:62435</td>\n      <td>1</td>\n      <td>1</td>\n      <td>Taco</td>\n      <td>0</td>\n      <td>4989</td>\n      <td>eng</td>\n      <td>M.C. Escher</td>\n      <td>3.91</td>\n      <td>2:4388</td>\n      <td>5:26498</td>\n      <td>NaN</td>\n      <td>3:10937</td>\n      <td>NaN</td>\n      <td>NaN</td>\n    </tr>\n    <tr>\n      <th>32271</th>\n      <td>657982</td>\n      <td>Ultimate X-Men, Volume 5: Ultimate War</td>\n      <td>1:53</td>\n      <td>112</td>\n      <td>4:726</td>\n      <td>total:2366</td>\n      <td>31</td>\n      <td>8</td>\n      <td>Panini UK</td>\n      <td>2</td>\n      <td>20040</td>\n      <td>eng</td>\n      <td>Mark Millar</td>\n      <td>3.79</td>\n      <td>2:176</td>\n      <td>5:715</td>\n      <td>1904159443</td>\n      <td>3:696</td>\n      <td>The Ultimates vs. the Ultimate X-Men: the batt...</td>\n      <td>NaN</td>\n    </tr>\n  </tbody>\n</table>\n</div>"
     },
     "execution_count": 18,
     "metadata": {},
     "output_type": "execute_result"
    }
   ],
   "source": [
    "book_df[book_df.PublishYear > 2022]"
   ],
   "metadata": {
    "collapsed": false,
    "pycharm": {
     "name": "#%%\n"
    }
   }
  },
  {
   "cell_type": "markdown",
   "source": [
    "An attempt to fix some of the values in PublishYear column"
   ],
   "metadata": {
    "collapsed": false,
    "pycharm": {
     "name": "#%% md\n"
    }
   }
  },
  {
   "cell_type": "code",
   "execution_count": 19,
   "outputs": [],
   "source": [
    "#Fix year > 2022\n",
    "book_df.loc[book_df.Id == 42574, \"PublishYear\"] = 2006\n",
    "book_df.loc[book_df.Id == 1193170, \"PublishYear\"] = 2010\n",
    "book_df.loc[book_df.Id == 1359960, \"PublishYear\"] = 2003\n",
    "book_df.loc[book_df.Id == 1271191, \"PublishYear\"] = 2007\n",
    "book_df.loc[book_df.Id == 1694730, \"PublishYear\"] = 2009\n",
    "book_df.loc[book_df.Id == 1746177, \"PublishYear\"] = 1992\n",
    "book_df.loc[book_df.Id == 2102912, \"PublishYear\"] = 1935\n",
    "book_df.loc[book_df.Id == 2685378, \"PublishYear\"] = 2015\n",
    "book_df.loc[book_df.Id == 4310347, \"PublishYear\"] = 2013\n",
    "book_df.loc[book_df.Id == 582684, \"PublishYear\"] = 1978\n",
    "book_df.loc[book_df.Id == 657982, \"PublishYear\"] = 2004"
   ],
   "metadata": {
    "collapsed": false,
    "pycharm": {
     "name": "#%%\n"
    }
   }
  },
  {
   "cell_type": "markdown",
   "source": [
    "Since it is very time-consuming to verify the published year for all books, I decided it would be better to keep the analysis range of the books from year 1700 to 2022."
   ],
   "metadata": {
    "collapsed": false,
    "pycharm": {
     "name": "#%% md\n"
    }
   }
  },
  {
   "cell_type": "code",
   "execution_count": 20,
   "outputs": [],
   "source": [
    "book_df = book_df[(book_df.PublishYear >= 1700) & (book_df.PublishYear <= 2022)]"
   ],
   "metadata": {
    "collapsed": false,
    "pycharm": {
     "name": "#%%\n"
    }
   }
  },
  {
   "cell_type": "markdown",
   "source": [
    "### Data types converting"
   ],
   "metadata": {
    "collapsed": false,
    "pycharm": {
     "name": "#%% md\n"
    }
   }
  },
  {
   "cell_type": "code",
   "execution_count": 21,
   "outputs": [
    {
     "data": {
      "text/plain": "      RatingDist1 RatingDist2 RatingDist3 RatingDist4 RatingDist5  \\\n0          1:9896     2:25317    3:159960    4:556485   5:1546466   \n1         1:12455     2:37005    3:211781    4:604283   5:1493113   \n2        1:108202    2:130310    3:567458   4:1513191   5:4268227   \n3         1:11896     2:49353    3:288821    4:706082   5:1504505   \n4         1:10128     2:24849    3:194848    4:630534   5:1749958   \n...           ...         ...         ...         ...         ...   \n40885         1:0         2:1         3:6         4:3        5:15   \n40886         1:0         2:0         3:0         4:0         5:0   \n40887         1:2        2:11        3:34        4:35        5:39   \n40888         1:0         2:0         3:0         4:0         5:0   \n40889         1:0         2:0         3:0         4:0         5:2   \n\n      RatingDistTotal  \n0       total:2298124  \n1       total:2358637  \n2       total:6587388  \n3       total:2560657  \n4       total:2610317  \n...               ...  \n40885        total:25  \n40886         total:0  \n40887       total:121  \n40888         total:0  \n40889         total:2  \n\n[1850190 rows x 6 columns]",
      "text/html": "<div>\n<style scoped>\n    .dataframe tbody tr th:only-of-type {\n        vertical-align: middle;\n    }\n\n    .dataframe tbody tr th {\n        vertical-align: top;\n    }\n\n    .dataframe thead th {\n        text-align: right;\n    }\n</style>\n<table border=\"1\" class=\"dataframe\">\n  <thead>\n    <tr style=\"text-align: right;\">\n      <th></th>\n      <th>RatingDist1</th>\n      <th>RatingDist2</th>\n      <th>RatingDist3</th>\n      <th>RatingDist4</th>\n      <th>RatingDist5</th>\n      <th>RatingDistTotal</th>\n    </tr>\n  </thead>\n  <tbody>\n    <tr>\n      <th>0</th>\n      <td>1:9896</td>\n      <td>2:25317</td>\n      <td>3:159960</td>\n      <td>4:556485</td>\n      <td>5:1546466</td>\n      <td>total:2298124</td>\n    </tr>\n    <tr>\n      <th>1</th>\n      <td>1:12455</td>\n      <td>2:37005</td>\n      <td>3:211781</td>\n      <td>4:604283</td>\n      <td>5:1493113</td>\n      <td>total:2358637</td>\n    </tr>\n    <tr>\n      <th>2</th>\n      <td>1:108202</td>\n      <td>2:130310</td>\n      <td>3:567458</td>\n      <td>4:1513191</td>\n      <td>5:4268227</td>\n      <td>total:6587388</td>\n    </tr>\n    <tr>\n      <th>3</th>\n      <td>1:11896</td>\n      <td>2:49353</td>\n      <td>3:288821</td>\n      <td>4:706082</td>\n      <td>5:1504505</td>\n      <td>total:2560657</td>\n    </tr>\n    <tr>\n      <th>4</th>\n      <td>1:10128</td>\n      <td>2:24849</td>\n      <td>3:194848</td>\n      <td>4:630534</td>\n      <td>5:1749958</td>\n      <td>total:2610317</td>\n    </tr>\n    <tr>\n      <th>...</th>\n      <td>...</td>\n      <td>...</td>\n      <td>...</td>\n      <td>...</td>\n      <td>...</td>\n      <td>...</td>\n    </tr>\n    <tr>\n      <th>40885</th>\n      <td>1:0</td>\n      <td>2:1</td>\n      <td>3:6</td>\n      <td>4:3</td>\n      <td>5:15</td>\n      <td>total:25</td>\n    </tr>\n    <tr>\n      <th>40886</th>\n      <td>1:0</td>\n      <td>2:0</td>\n      <td>3:0</td>\n      <td>4:0</td>\n      <td>5:0</td>\n      <td>total:0</td>\n    </tr>\n    <tr>\n      <th>40887</th>\n      <td>1:2</td>\n      <td>2:11</td>\n      <td>3:34</td>\n      <td>4:35</td>\n      <td>5:39</td>\n      <td>total:121</td>\n    </tr>\n    <tr>\n      <th>40888</th>\n      <td>1:0</td>\n      <td>2:0</td>\n      <td>3:0</td>\n      <td>4:0</td>\n      <td>5:0</td>\n      <td>total:0</td>\n    </tr>\n    <tr>\n      <th>40889</th>\n      <td>1:0</td>\n      <td>2:0</td>\n      <td>3:0</td>\n      <td>4:0</td>\n      <td>5:2</td>\n      <td>total:2</td>\n    </tr>\n  </tbody>\n</table>\n<p>1850190 rows × 6 columns</p>\n</div>"
     },
     "execution_count": 21,
     "metadata": {},
     "output_type": "execute_result"
    }
   ],
   "source": [
    "book_df.loc[:, [\"RatingDist1\", \"RatingDist2\", \"RatingDist3\", \"RatingDist4\", \"RatingDist5\", \"RatingDistTotal\"]]"
   ],
   "metadata": {
    "collapsed": false,
    "pycharm": {
     "name": "#%%\n"
    }
   }
  },
  {
   "cell_type": "markdown",
   "source": [
    "All these columns would contain redundant number and its type is in string, we need to convert these into integer. Also, in conlumns RatingDist1, RatingDist2, RatingDist3, RatingDist4, RatingDist5 have inconsistent pattern, hence we need to drop any records which has different pattern to convert the type."
   ],
   "metadata": {
    "collapsed": false,
    "pycharm": {
     "name": "#%% md\n"
    }
   }
  },
  {
   "cell_type": "code",
   "execution_count": 22,
   "outputs": [],
   "source": [
    "book_df = book_df[book_df.RatingDist1.str.contains(pat = \"1:\")]\n",
    "book_df = book_df[book_df.RatingDist2.str.contains(pat = \"2:\")]\n",
    "book_df = book_df[book_df.RatingDist3.str.contains(pat = \"3:\")]\n",
    "book_df = book_df[book_df.RatingDist4.str.contains(pat = \"4:\")]\n",
    "book_df = book_df[book_df.RatingDist5.str.contains(pat = \"5:\")]"
   ],
   "metadata": {
    "collapsed": false,
    "pycharm": {
     "name": "#%%\n"
    }
   }
  },
  {
   "cell_type": "markdown",
   "source": [
    "After several attempts to solve the problem of inconsistent string format, I decided to use the above codes to drop inconsistent pattern. *(Noted that the above code may not be the best method to solve the problem)*"
   ],
   "metadata": {
    "collapsed": false,
    "pycharm": {
     "name": "#%% md\n"
    }
   }
  },
  {
   "cell_type": "code",
   "execution_count": 23,
   "outputs": [],
   "source": [
    "book_df['RatingDistTotal'] = book_df['RatingDistTotal'].apply(lambda rating: rating.split(':')[1]).astype('int')\n",
    "book_df['RatingDist1'] = book_df['RatingDist1'].apply(lambda rating: rating.split(':')[1]).astype('int')\n",
    "book_df['RatingDist2'] = book_df['RatingDist2'].apply(lambda rating: rating.split(':')[1]).astype('int')\n",
    "book_df['RatingDist3'] = book_df['RatingDist3'].apply(lambda rating: rating.split(':')[1]).astype('int')\n",
    "book_df['RatingDist4'] = book_df['RatingDist4'].apply(lambda rating: rating.split(':')[1]).astype('int')\n",
    "book_df['RatingDist5'] = book_df['RatingDist5'].apply(lambda rating: rating.split(':')[1]).astype('int')"
   ],
   "metadata": {
    "collapsed": false,
    "pycharm": {
     "name": "#%%\n"
    }
   }
  },
  {
   "cell_type": "markdown",
   "source": [
    "Verify the changes have been made"
   ],
   "metadata": {
    "collapsed": false,
    "pycharm": {
     "name": "#%% md\n"
    }
   }
  },
  {
   "cell_type": "code",
   "execution_count": 24,
   "outputs": [
    {
     "data": {
      "text/plain": "       RatingDist1  RatingDist2  RatingDist3  RatingDist4  RatingDist5  \\\ncount   1758767.00   1758767.00   1758767.00   1758767.00   1758767.00   \nmean         88.09       188.74       676.66      1181.02      1587.26   \nstd        2274.67      3626.30     11363.47     21038.58     38009.38   \nmin           0.00         0.00         0.00         0.00        -2.00   \n25%           0.00         0.00         0.00         0.00         0.00   \n50%           0.00         0.00         1.00         1.00         1.00   \n75%           1.00         2.00         8.00        10.00         9.00   \nmax      550388.00    544093.00   1013165.00   1912159.00   4608992.00   \n\n       RatingDistTotal  \ncount       1758767.00  \nmean           3721.77  \nstd           72840.97  \nmin              -2.00  \n25%               0.00  \n50%               4.00  \n75%              30.00  \nmax         7094687.00  ",
      "text/html": "<div>\n<style scoped>\n    .dataframe tbody tr th:only-of-type {\n        vertical-align: middle;\n    }\n\n    .dataframe tbody tr th {\n        vertical-align: top;\n    }\n\n    .dataframe thead th {\n        text-align: right;\n    }\n</style>\n<table border=\"1\" class=\"dataframe\">\n  <thead>\n    <tr style=\"text-align: right;\">\n      <th></th>\n      <th>RatingDist1</th>\n      <th>RatingDist2</th>\n      <th>RatingDist3</th>\n      <th>RatingDist4</th>\n      <th>RatingDist5</th>\n      <th>RatingDistTotal</th>\n    </tr>\n  </thead>\n  <tbody>\n    <tr>\n      <th>count</th>\n      <td>1758767.00</td>\n      <td>1758767.00</td>\n      <td>1758767.00</td>\n      <td>1758767.00</td>\n      <td>1758767.00</td>\n      <td>1758767.00</td>\n    </tr>\n    <tr>\n      <th>mean</th>\n      <td>88.09</td>\n      <td>188.74</td>\n      <td>676.66</td>\n      <td>1181.02</td>\n      <td>1587.26</td>\n      <td>3721.77</td>\n    </tr>\n    <tr>\n      <th>std</th>\n      <td>2274.67</td>\n      <td>3626.30</td>\n      <td>11363.47</td>\n      <td>21038.58</td>\n      <td>38009.38</td>\n      <td>72840.97</td>\n    </tr>\n    <tr>\n      <th>min</th>\n      <td>0.00</td>\n      <td>0.00</td>\n      <td>0.00</td>\n      <td>0.00</td>\n      <td>-2.00</td>\n      <td>-2.00</td>\n    </tr>\n    <tr>\n      <th>25%</th>\n      <td>0.00</td>\n      <td>0.00</td>\n      <td>0.00</td>\n      <td>0.00</td>\n      <td>0.00</td>\n      <td>0.00</td>\n    </tr>\n    <tr>\n      <th>50%</th>\n      <td>0.00</td>\n      <td>0.00</td>\n      <td>1.00</td>\n      <td>1.00</td>\n      <td>1.00</td>\n      <td>4.00</td>\n    </tr>\n    <tr>\n      <th>75%</th>\n      <td>1.00</td>\n      <td>2.00</td>\n      <td>8.00</td>\n      <td>10.00</td>\n      <td>9.00</td>\n      <td>30.00</td>\n    </tr>\n    <tr>\n      <th>max</th>\n      <td>550388.00</td>\n      <td>544093.00</td>\n      <td>1013165.00</td>\n      <td>1912159.00</td>\n      <td>4608992.00</td>\n      <td>7094687.00</td>\n    </tr>\n  </tbody>\n</table>\n</div>"
     },
     "execution_count": 24,
     "metadata": {},
     "output_type": "execute_result"
    }
   ],
   "source": [
    "book_df.loc[:, [\"RatingDist1\", \"RatingDist2\", \"RatingDist3\", \"RatingDist4\", \"RatingDist5\", \"RatingDistTotal\"]].describe()"
   ],
   "metadata": {
    "collapsed": false,
    "pycharm": {
     "name": "#%%\n"
    }
   }
  },
  {
   "cell_type": "markdown",
   "source": [
    "Usually, on Goodreads rating section we may not find a negative vote in the number of stars given to a book, hence the RatingDist5 and RatingDistTotal having a negative value seems to be wrong. Let's investigate"
   ],
   "metadata": {
    "collapsed": false,
    "pycharm": {
     "name": "#%% md\n"
    }
   }
  },
  {
   "cell_type": "code",
   "execution_count": 25,
   "outputs": [
    {
     "data": {
      "text/plain": "             Id                                               Name  \\\n171209  3485352  Nonlinear Dynamics and Statistical Theories fo...   \n\n        RatingDist1  pagesNumber  RatingDist4  RatingDistTotal  Publish_Day  \\\n171209            0          551            0               -2           11   \n\n        Publish_Month                   Publisher  CountsOfReview  \\\n171209              5  Cambridge University Press               0   \n\n        PublishYear Language          Authors  Average_rating  RatingDist2  \\\n171209         2006      NaN  Andrew J. Majda            5.00            0   \n\n        RatingDist5       ISBN  RatingDist3  \\\n171209           -2  521834414            0   \n\n                                              Description  \\\n171209  This introduction to the important interplay b...   \n\n        Count of text reviews  \n171209                    NaN  ",
      "text/html": "<div>\n<style scoped>\n    .dataframe tbody tr th:only-of-type {\n        vertical-align: middle;\n    }\n\n    .dataframe tbody tr th {\n        vertical-align: top;\n    }\n\n    .dataframe thead th {\n        text-align: right;\n    }\n</style>\n<table border=\"1\" class=\"dataframe\">\n  <thead>\n    <tr style=\"text-align: right;\">\n      <th></th>\n      <th>Id</th>\n      <th>Name</th>\n      <th>RatingDist1</th>\n      <th>pagesNumber</th>\n      <th>RatingDist4</th>\n      <th>RatingDistTotal</th>\n      <th>Publish_Day</th>\n      <th>Publish_Month</th>\n      <th>Publisher</th>\n      <th>CountsOfReview</th>\n      <th>PublishYear</th>\n      <th>Language</th>\n      <th>Authors</th>\n      <th>Average_rating</th>\n      <th>RatingDist2</th>\n      <th>RatingDist5</th>\n      <th>ISBN</th>\n      <th>RatingDist3</th>\n      <th>Description</th>\n      <th>Count of text reviews</th>\n    </tr>\n  </thead>\n  <tbody>\n    <tr>\n      <th>171209</th>\n      <td>3485352</td>\n      <td>Nonlinear Dynamics and Statistical Theories fo...</td>\n      <td>0</td>\n      <td>551</td>\n      <td>0</td>\n      <td>-2</td>\n      <td>11</td>\n      <td>5</td>\n      <td>Cambridge University Press</td>\n      <td>0</td>\n      <td>2006</td>\n      <td>NaN</td>\n      <td>Andrew J. Majda</td>\n      <td>5.00</td>\n      <td>0</td>\n      <td>-2</td>\n      <td>521834414</td>\n      <td>0</td>\n      <td>This introduction to the important interplay b...</td>\n      <td>NaN</td>\n    </tr>\n  </tbody>\n</table>\n</div>"
     },
     "execution_count": 25,
     "metadata": {},
     "output_type": "execute_result"
    }
   ],
   "source": [
    "book_df[book_df.RatingDist5 < 0]\n",
    "book_df[book_df.RatingDistTotal < 0]"
   ],
   "metadata": {
    "collapsed": false,
    "pycharm": {
     "name": "#%%\n"
    }
   }
  },
  {
   "cell_type": "markdown",
   "source": [
    "Seems like only 1 record has this problem, we can omit this from the dataframe"
   ],
   "metadata": {
    "collapsed": false,
    "pycharm": {
     "name": "#%% md\n"
    }
   }
  },
  {
   "cell_type": "code",
   "execution_count": 26,
   "outputs": [
    {
     "data": {
      "text/plain": "Empty DataFrame\nColumns: [Id, Name, RatingDist1, pagesNumber, RatingDist4, RatingDistTotal, Publish_Day, Publish_Month, Publisher, CountsOfReview, PublishYear, Language, Authors, Average_rating, RatingDist2, RatingDist5, ISBN, RatingDist3, Description, Count of text reviews]\nIndex: []",
      "text/html": "<div>\n<style scoped>\n    .dataframe tbody tr th:only-of-type {\n        vertical-align: middle;\n    }\n\n    .dataframe tbody tr th {\n        vertical-align: top;\n    }\n\n    .dataframe thead th {\n        text-align: right;\n    }\n</style>\n<table border=\"1\" class=\"dataframe\">\n  <thead>\n    <tr style=\"text-align: right;\">\n      <th></th>\n      <th>Id</th>\n      <th>Name</th>\n      <th>RatingDist1</th>\n      <th>pagesNumber</th>\n      <th>RatingDist4</th>\n      <th>RatingDistTotal</th>\n      <th>Publish_Day</th>\n      <th>Publish_Month</th>\n      <th>Publisher</th>\n      <th>CountsOfReview</th>\n      <th>PublishYear</th>\n      <th>Language</th>\n      <th>Authors</th>\n      <th>Average_rating</th>\n      <th>RatingDist2</th>\n      <th>RatingDist5</th>\n      <th>ISBN</th>\n      <th>RatingDist3</th>\n      <th>Description</th>\n      <th>Count of text reviews</th>\n    </tr>\n  </thead>\n  <tbody>\n  </tbody>\n</table>\n</div>"
     },
     "execution_count": 26,
     "metadata": {},
     "output_type": "execute_result"
    }
   ],
   "source": [
    "book_df.drop(book_df[book_df.RatingDist5 < 0].index, inplace=True)\n",
    "book_df[book_df.RatingDistTotal < 0] #Verify"
   ],
   "metadata": {
    "collapsed": false,
    "pycharm": {
     "name": "#%%\n"
    }
   }
  },
  {
   "cell_type": "code",
   "execution_count": 27,
   "outputs": [
    {
     "data": {
      "text/plain": "1758764"
     },
     "execution_count": 27,
     "metadata": {},
     "output_type": "execute_result"
    }
   ],
   "source": [
    "len(book_df)"
   ],
   "metadata": {
    "collapsed": false,
    "pycharm": {
     "name": "#%%\n"
    }
   }
  },
  {
   "cell_type": "markdown",
   "source": [
    "The final version of the dataframe ready for analysis has 1758764 records."
   ],
   "metadata": {
    "collapsed": false,
    "pycharm": {
     "name": "#%% md\n"
    }
   }
  },
  {
   "cell_type": "markdown",
   "source": [
    "## Exploratory Data Analysis"
   ],
   "metadata": {
    "collapsed": false,
    "pycharm": {
     "name": "#%% md\n"
    }
   }
  },
  {
   "cell_type": "code",
   "execution_count": 28,
   "outputs": [
    {
     "data": {
      "text/plain": "    Id                                               Name  RatingDist1  \\\n0    1  Harry Potter and the Half-Blood Prince (Harry ...         9896   \n1    2  Harry Potter and the Order of the Phoenix (Har...        12455   \n2    3  Harry Potter and the Sorcerer's Stone (Harry P...       108202   \n3    4  Harry Potter and the Chamber of Secrets (Harry...        11896   \n4    5  Harry Potter and the Prisoner of Azkaban (Harr...        10128   \n5    6  Harry Potter and the Goblet of Fire (Harry Pot...         9419   \n6    8  Harry Potter Boxed Set, Books 1-5 (Harry Potte...          402   \n7    9  Unauthorized Harry Potter Book Seven News: \"Ha...            0   \n8   10       Harry Potter Collection (Harry Potter, #1-6)          257   \n9   12  The Ultimate Hitchhiker's Guide: Five Complete...         3443   \n10  13  The Ultimate Hitchhiker's Guide to the Galaxy ...         3443   \n11  14  The Hitchhiker's Guide to the Galaxy (Hitchhik...        28636   \n12  18  The Ultimate Hitchhiker's Guide (Hitchhiker's ...         3443   \n13  21               A Short History of Nearly Everything         5140   \n14  22                        Bill Bryson's African Diary          249   \n15  23  Bryson's Dictionary of Troublesome Words: A Wr...           36   \n16  24                             In a Sunburned Country          987   \n17  25  I'm a Stranger Here Myself: Notes on Returning...          741   \n18  26  The Lost Continent: Travels in Small Town America         1373   \n19  27          Neither Here nor There: Travels in Europe         1172   \n\n    pagesNumber  RatingDist4  RatingDistTotal  Publish_Day  Publish_Month  \\\n0           652       556485          2298124           16              9   \n1           870       604283          2358637            1              9   \n2           309      1513191          6587388            1             11   \n3           352       706082          2560657            1             11   \n4           435       630534          2610317            1              5   \n5           734       606800          2431085           28              9   \n6          2690         4650            43968           13              9   \n7           152            7               28           26              4   \n8          3342         4358            30313           12              9   \n9           815        75683           274268            1             11   \n10          815        75683           274268           30              4   \n11          215       396332          1350083            3              8   \n12          815        75683           274268           17              1   \n13          544        94040           276166           14              9   \n14           55         2409             8393            3             12   \n15          256         1069             2656           14              9   \n16          335        34941            85287           15              5   \n17          304        22652            56082           28              6   \n18          299        18427            49012           28              8   \n19          254        20655            54388           28              3   \n\n                    Publisher  CountsOfReview  PublishYear Language  \\\n0             Scholastic Inc.           28062         2006      eng   \n1             Scholastic Inc.           29770         2004      eng   \n2              Scholastic Inc           75911         2003      eng   \n3                  Scholastic             244         2003      eng   \n4             Scholastic Inc.           37093         2004      eng   \n5                  Scholastic           31978         2002      eng   \n6                  Scholastic             166         2004      eng   \n7                Nimble Books               1         2005    en-US   \n8                  Scholastic             809         2005      eng   \n9              Gramercy Books             255         2005      eng   \n10              Del Rey Books            4119         2002      eng   \n11                      Crown             470         2004      eng   \n12                Wings Books             194         1996      eng   \n13             Broadway Books            9545         2004      eng   \n14             Broadway Books             503         2002      eng   \n15             Broadway Books             131         2004      eng   \n16             Broadway Books            4298         2001      eng   \n17             Broadway Books            2224         2000      eng   \n18  William Morrow Paperbacks            2276         1990      eng   \n19  William Morrow Paperbacks            2264         1993      eng   \n\n                   Authors  Average_rating  RatingDist2  RatingDist5  \\\n0             J.K. Rowling            4.57        25317      1546466   \n1             J.K. Rowling            4.50        37005      1493113   \n2             J.K. Rowling            4.47       130310      4268227   \n3             J.K. Rowling            4.42        49353      1504505   \n4             J.K. Rowling            4.57        24849      1749958   \n5             J.K. Rowling            4.56        24282      1612165   \n6             J.K. Rowling            4.78          283        37432   \n7   W. Frederick Zimmerman            3.79            5           10   \n8             J.K. Rowling            4.73          218        24406   \n9            Douglas Adams            4.37         7613       157499   \n10           Douglas Adams            4.37         7613       157499   \n11           Douglas Adams            4.22        54163       682711   \n12           Douglas Adams            4.37         7613       157499   \n13             Bill Bryson            4.21         9367       129555   \n14             Bill Bryson            3.45          985         1408   \n15             Bill Bryson            3.88          128          729   \n16             Bill Bryson            4.07         2900        30483   \n17             Bill Bryson            3.90         2709        15891   \n18             Bill Bryson            3.83         3219        14013   \n19             Bill Bryson            3.86         3305        15888   \n\n          ISBN  RatingDist3 Description  Count of text reviews  \n0          NaN       159960         NaN                    NaN  \n1   0439358078       211781         NaN                    NaN  \n2          NaN       567458         NaN                    NaN  \n3   0439554896       288821         NaN                    NaN  \n4   043965548X       194848         NaN                    NaN  \n5          NaN       178419         NaN                    NaN  \n6   0439682584         1201         NaN                    NaN  \n7   0976540606            6         NaN                    NaN  \n8   0439827604         1074         NaN                    NaN  \n9   0517226952        30030         NaN                    NaN  \n10  0345453743        30030         NaN                    NaN  \n11  1400052920       188241         NaN                    NaN  \n12  0517149257        30030         NaN                    NaN  \n13  076790818X        38064         NaN                    NaN  \n14  0767915062         3342         NaN                    NaN  \n15  0767910435          694         NaN                    NaN  \n16  0767903862        15976         NaN                    NaN  \n17  076790382X        14089         NaN                    NaN  \n18  0060920084        11980         NaN                    NaN  \n19  0380713802        13368         NaN                    NaN  ",
      "text/html": "<div>\n<style scoped>\n    .dataframe tbody tr th:only-of-type {\n        vertical-align: middle;\n    }\n\n    .dataframe tbody tr th {\n        vertical-align: top;\n    }\n\n    .dataframe thead th {\n        text-align: right;\n    }\n</style>\n<table border=\"1\" class=\"dataframe\">\n  <thead>\n    <tr style=\"text-align: right;\">\n      <th></th>\n      <th>Id</th>\n      <th>Name</th>\n      <th>RatingDist1</th>\n      <th>pagesNumber</th>\n      <th>RatingDist4</th>\n      <th>RatingDistTotal</th>\n      <th>Publish_Day</th>\n      <th>Publish_Month</th>\n      <th>Publisher</th>\n      <th>CountsOfReview</th>\n      <th>PublishYear</th>\n      <th>Language</th>\n      <th>Authors</th>\n      <th>Average_rating</th>\n      <th>RatingDist2</th>\n      <th>RatingDist5</th>\n      <th>ISBN</th>\n      <th>RatingDist3</th>\n      <th>Description</th>\n      <th>Count of text reviews</th>\n    </tr>\n  </thead>\n  <tbody>\n    <tr>\n      <th>0</th>\n      <td>1</td>\n      <td>Harry Potter and the Half-Blood Prince (Harry ...</td>\n      <td>9896</td>\n      <td>652</td>\n      <td>556485</td>\n      <td>2298124</td>\n      <td>16</td>\n      <td>9</td>\n      <td>Scholastic Inc.</td>\n      <td>28062</td>\n      <td>2006</td>\n      <td>eng</td>\n      <td>J.K. Rowling</td>\n      <td>4.57</td>\n      <td>25317</td>\n      <td>1546466</td>\n      <td>NaN</td>\n      <td>159960</td>\n      <td>NaN</td>\n      <td>NaN</td>\n    </tr>\n    <tr>\n      <th>1</th>\n      <td>2</td>\n      <td>Harry Potter and the Order of the Phoenix (Har...</td>\n      <td>12455</td>\n      <td>870</td>\n      <td>604283</td>\n      <td>2358637</td>\n      <td>1</td>\n      <td>9</td>\n      <td>Scholastic Inc.</td>\n      <td>29770</td>\n      <td>2004</td>\n      <td>eng</td>\n      <td>J.K. Rowling</td>\n      <td>4.50</td>\n      <td>37005</td>\n      <td>1493113</td>\n      <td>0439358078</td>\n      <td>211781</td>\n      <td>NaN</td>\n      <td>NaN</td>\n    </tr>\n    <tr>\n      <th>2</th>\n      <td>3</td>\n      <td>Harry Potter and the Sorcerer's Stone (Harry P...</td>\n      <td>108202</td>\n      <td>309</td>\n      <td>1513191</td>\n      <td>6587388</td>\n      <td>1</td>\n      <td>11</td>\n      <td>Scholastic Inc</td>\n      <td>75911</td>\n      <td>2003</td>\n      <td>eng</td>\n      <td>J.K. Rowling</td>\n      <td>4.47</td>\n      <td>130310</td>\n      <td>4268227</td>\n      <td>NaN</td>\n      <td>567458</td>\n      <td>NaN</td>\n      <td>NaN</td>\n    </tr>\n    <tr>\n      <th>3</th>\n      <td>4</td>\n      <td>Harry Potter and the Chamber of Secrets (Harry...</td>\n      <td>11896</td>\n      <td>352</td>\n      <td>706082</td>\n      <td>2560657</td>\n      <td>1</td>\n      <td>11</td>\n      <td>Scholastic</td>\n      <td>244</td>\n      <td>2003</td>\n      <td>eng</td>\n      <td>J.K. Rowling</td>\n      <td>4.42</td>\n      <td>49353</td>\n      <td>1504505</td>\n      <td>0439554896</td>\n      <td>288821</td>\n      <td>NaN</td>\n      <td>NaN</td>\n    </tr>\n    <tr>\n      <th>4</th>\n      <td>5</td>\n      <td>Harry Potter and the Prisoner of Azkaban (Harr...</td>\n      <td>10128</td>\n      <td>435</td>\n      <td>630534</td>\n      <td>2610317</td>\n      <td>1</td>\n      <td>5</td>\n      <td>Scholastic Inc.</td>\n      <td>37093</td>\n      <td>2004</td>\n      <td>eng</td>\n      <td>J.K. Rowling</td>\n      <td>4.57</td>\n      <td>24849</td>\n      <td>1749958</td>\n      <td>043965548X</td>\n      <td>194848</td>\n      <td>NaN</td>\n      <td>NaN</td>\n    </tr>\n    <tr>\n      <th>5</th>\n      <td>6</td>\n      <td>Harry Potter and the Goblet of Fire (Harry Pot...</td>\n      <td>9419</td>\n      <td>734</td>\n      <td>606800</td>\n      <td>2431085</td>\n      <td>28</td>\n      <td>9</td>\n      <td>Scholastic</td>\n      <td>31978</td>\n      <td>2002</td>\n      <td>eng</td>\n      <td>J.K. Rowling</td>\n      <td>4.56</td>\n      <td>24282</td>\n      <td>1612165</td>\n      <td>NaN</td>\n      <td>178419</td>\n      <td>NaN</td>\n      <td>NaN</td>\n    </tr>\n    <tr>\n      <th>6</th>\n      <td>8</td>\n      <td>Harry Potter Boxed Set, Books 1-5 (Harry Potte...</td>\n      <td>402</td>\n      <td>2690</td>\n      <td>4650</td>\n      <td>43968</td>\n      <td>13</td>\n      <td>9</td>\n      <td>Scholastic</td>\n      <td>166</td>\n      <td>2004</td>\n      <td>eng</td>\n      <td>J.K. Rowling</td>\n      <td>4.78</td>\n      <td>283</td>\n      <td>37432</td>\n      <td>0439682584</td>\n      <td>1201</td>\n      <td>NaN</td>\n      <td>NaN</td>\n    </tr>\n    <tr>\n      <th>7</th>\n      <td>9</td>\n      <td>Unauthorized Harry Potter Book Seven News: \"Ha...</td>\n      <td>0</td>\n      <td>152</td>\n      <td>7</td>\n      <td>28</td>\n      <td>26</td>\n      <td>4</td>\n      <td>Nimble Books</td>\n      <td>1</td>\n      <td>2005</td>\n      <td>en-US</td>\n      <td>W. Frederick Zimmerman</td>\n      <td>3.79</td>\n      <td>5</td>\n      <td>10</td>\n      <td>0976540606</td>\n      <td>6</td>\n      <td>NaN</td>\n      <td>NaN</td>\n    </tr>\n    <tr>\n      <th>8</th>\n      <td>10</td>\n      <td>Harry Potter Collection (Harry Potter, #1-6)</td>\n      <td>257</td>\n      <td>3342</td>\n      <td>4358</td>\n      <td>30313</td>\n      <td>12</td>\n      <td>9</td>\n      <td>Scholastic</td>\n      <td>809</td>\n      <td>2005</td>\n      <td>eng</td>\n      <td>J.K. Rowling</td>\n      <td>4.73</td>\n      <td>218</td>\n      <td>24406</td>\n      <td>0439827604</td>\n      <td>1074</td>\n      <td>NaN</td>\n      <td>NaN</td>\n    </tr>\n    <tr>\n      <th>9</th>\n      <td>12</td>\n      <td>The Ultimate Hitchhiker's Guide: Five Complete...</td>\n      <td>3443</td>\n      <td>815</td>\n      <td>75683</td>\n      <td>274268</td>\n      <td>1</td>\n      <td>11</td>\n      <td>Gramercy Books</td>\n      <td>255</td>\n      <td>2005</td>\n      <td>eng</td>\n      <td>Douglas Adams</td>\n      <td>4.37</td>\n      <td>7613</td>\n      <td>157499</td>\n      <td>0517226952</td>\n      <td>30030</td>\n      <td>NaN</td>\n      <td>NaN</td>\n    </tr>\n    <tr>\n      <th>10</th>\n      <td>13</td>\n      <td>The Ultimate Hitchhiker's Guide to the Galaxy ...</td>\n      <td>3443</td>\n      <td>815</td>\n      <td>75683</td>\n      <td>274268</td>\n      <td>30</td>\n      <td>4</td>\n      <td>Del Rey Books</td>\n      <td>4119</td>\n      <td>2002</td>\n      <td>eng</td>\n      <td>Douglas Adams</td>\n      <td>4.37</td>\n      <td>7613</td>\n      <td>157499</td>\n      <td>0345453743</td>\n      <td>30030</td>\n      <td>NaN</td>\n      <td>NaN</td>\n    </tr>\n    <tr>\n      <th>11</th>\n      <td>14</td>\n      <td>The Hitchhiker's Guide to the Galaxy (Hitchhik...</td>\n      <td>28636</td>\n      <td>215</td>\n      <td>396332</td>\n      <td>1350083</td>\n      <td>3</td>\n      <td>8</td>\n      <td>Crown</td>\n      <td>470</td>\n      <td>2004</td>\n      <td>eng</td>\n      <td>Douglas Adams</td>\n      <td>4.22</td>\n      <td>54163</td>\n      <td>682711</td>\n      <td>1400052920</td>\n      <td>188241</td>\n      <td>NaN</td>\n      <td>NaN</td>\n    </tr>\n    <tr>\n      <th>12</th>\n      <td>18</td>\n      <td>The Ultimate Hitchhiker's Guide (Hitchhiker's ...</td>\n      <td>3443</td>\n      <td>815</td>\n      <td>75683</td>\n      <td>274268</td>\n      <td>17</td>\n      <td>1</td>\n      <td>Wings Books</td>\n      <td>194</td>\n      <td>1996</td>\n      <td>eng</td>\n      <td>Douglas Adams</td>\n      <td>4.37</td>\n      <td>7613</td>\n      <td>157499</td>\n      <td>0517149257</td>\n      <td>30030</td>\n      <td>NaN</td>\n      <td>NaN</td>\n    </tr>\n    <tr>\n      <th>13</th>\n      <td>21</td>\n      <td>A Short History of Nearly Everything</td>\n      <td>5140</td>\n      <td>544</td>\n      <td>94040</td>\n      <td>276166</td>\n      <td>14</td>\n      <td>9</td>\n      <td>Broadway Books</td>\n      <td>9545</td>\n      <td>2004</td>\n      <td>eng</td>\n      <td>Bill Bryson</td>\n      <td>4.21</td>\n      <td>9367</td>\n      <td>129555</td>\n      <td>076790818X</td>\n      <td>38064</td>\n      <td>NaN</td>\n      <td>NaN</td>\n    </tr>\n    <tr>\n      <th>14</th>\n      <td>22</td>\n      <td>Bill Bryson's African Diary</td>\n      <td>249</td>\n      <td>55</td>\n      <td>2409</td>\n      <td>8393</td>\n      <td>3</td>\n      <td>12</td>\n      <td>Broadway Books</td>\n      <td>503</td>\n      <td>2002</td>\n      <td>eng</td>\n      <td>Bill Bryson</td>\n      <td>3.45</td>\n      <td>985</td>\n      <td>1408</td>\n      <td>0767915062</td>\n      <td>3342</td>\n      <td>NaN</td>\n      <td>NaN</td>\n    </tr>\n    <tr>\n      <th>15</th>\n      <td>23</td>\n      <td>Bryson's Dictionary of Troublesome Words: A Wr...</td>\n      <td>36</td>\n      <td>256</td>\n      <td>1069</td>\n      <td>2656</td>\n      <td>14</td>\n      <td>9</td>\n      <td>Broadway Books</td>\n      <td>131</td>\n      <td>2004</td>\n      <td>eng</td>\n      <td>Bill Bryson</td>\n      <td>3.88</td>\n      <td>128</td>\n      <td>729</td>\n      <td>0767910435</td>\n      <td>694</td>\n      <td>NaN</td>\n      <td>NaN</td>\n    </tr>\n    <tr>\n      <th>16</th>\n      <td>24</td>\n      <td>In a Sunburned Country</td>\n      <td>987</td>\n      <td>335</td>\n      <td>34941</td>\n      <td>85287</td>\n      <td>15</td>\n      <td>5</td>\n      <td>Broadway Books</td>\n      <td>4298</td>\n      <td>2001</td>\n      <td>eng</td>\n      <td>Bill Bryson</td>\n      <td>4.07</td>\n      <td>2900</td>\n      <td>30483</td>\n      <td>0767903862</td>\n      <td>15976</td>\n      <td>NaN</td>\n      <td>NaN</td>\n    </tr>\n    <tr>\n      <th>17</th>\n      <td>25</td>\n      <td>I'm a Stranger Here Myself: Notes on Returning...</td>\n      <td>741</td>\n      <td>304</td>\n      <td>22652</td>\n      <td>56082</td>\n      <td>28</td>\n      <td>6</td>\n      <td>Broadway Books</td>\n      <td>2224</td>\n      <td>2000</td>\n      <td>eng</td>\n      <td>Bill Bryson</td>\n      <td>3.90</td>\n      <td>2709</td>\n      <td>15891</td>\n      <td>076790382X</td>\n      <td>14089</td>\n      <td>NaN</td>\n      <td>NaN</td>\n    </tr>\n    <tr>\n      <th>18</th>\n      <td>26</td>\n      <td>The Lost Continent: Travels in Small Town America</td>\n      <td>1373</td>\n      <td>299</td>\n      <td>18427</td>\n      <td>49012</td>\n      <td>28</td>\n      <td>8</td>\n      <td>William Morrow Paperbacks</td>\n      <td>2276</td>\n      <td>1990</td>\n      <td>eng</td>\n      <td>Bill Bryson</td>\n      <td>3.83</td>\n      <td>3219</td>\n      <td>14013</td>\n      <td>0060920084</td>\n      <td>11980</td>\n      <td>NaN</td>\n      <td>NaN</td>\n    </tr>\n    <tr>\n      <th>19</th>\n      <td>27</td>\n      <td>Neither Here nor There: Travels in Europe</td>\n      <td>1172</td>\n      <td>254</td>\n      <td>20655</td>\n      <td>54388</td>\n      <td>28</td>\n      <td>3</td>\n      <td>William Morrow Paperbacks</td>\n      <td>2264</td>\n      <td>1993</td>\n      <td>eng</td>\n      <td>Bill Bryson</td>\n      <td>3.86</td>\n      <td>3305</td>\n      <td>15888</td>\n      <td>0380713802</td>\n      <td>13368</td>\n      <td>NaN</td>\n      <td>NaN</td>\n    </tr>\n  </tbody>\n</table>\n</div>"
     },
     "execution_count": 28,
     "metadata": {},
     "output_type": "execute_result"
    }
   ],
   "source": [
    "book_df.head(20)"
   ],
   "metadata": {
    "collapsed": false,
    "pycharm": {
     "name": "#%%\n"
    }
   }
  },
  {
   "cell_type": "markdown",
   "source": [
    "Columns to analyze:\n",
    "1. Name\n",
    "2. Authors\n",
    "3. Rating columns (RatingDist1, RatingDist2, RatingDist3, RatingDist4, RatingDist5, RatingDistTotal, Average_rating)\n",
    "4. Publishers\n",
    "5. Language\n",
    "6. Pages number\n",
    "7. Counts of review\n",
    "8. Time Data (Publish_Day, Publish_Month, PublishYear)"
   ],
   "metadata": {
    "collapsed": false,
    "pycharm": {
     "name": "#%% md\n"
    }
   }
  },
  {
   "cell_type": "markdown",
   "source": [
    "### Analysis on Book titles"
   ],
   "metadata": {
    "collapsed": false,
    "pycharm": {
     "name": "#%% md\n"
    }
   }
  },
  {
   "cell_type": "markdown",
   "source": [
    "EDA question: How many different book titles can be found in the dataset ?"
   ],
   "metadata": {
    "collapsed": false,
    "pycharm": {
     "name": "#%% md\n"
    }
   }
  },
  {
   "cell_type": "code",
   "execution_count": 29,
   "outputs": [
    {
     "data": {
      "text/plain": "1585220"
     },
     "execution_count": 29,
     "metadata": {},
     "output_type": "execute_result"
    }
   ],
   "source": [
    "book_df.Name.nunique()"
   ],
   "metadata": {
    "collapsed": false,
    "pycharm": {
     "name": "#%%\n"
    }
   }
  },
  {
   "cell_type": "markdown",
   "source": [
    "**Observation:** There are more than 1.7 million records but only more than 1.5 million records are unique, meaning there could be books with the same name but are published by different Publishers."
   ],
   "metadata": {
    "collapsed": false,
    "pycharm": {
     "name": "#%% md\n"
    }
   }
  },
  {
   "cell_type": "code",
   "execution_count": 30,
   "outputs": [
    {
     "data": {
      "text/plain": "             Id                                               Name  \\\n187321  3529667  \"A Trade Like Any Other\": Female Singers and D...   \n33743    560791  \"A Trade Like Any Other\": Female Singers and D...   \n202956  3573192                                     \"Ace\" Any Test   \n145488  2340088                                     \"Ace\" Any Test   \n35550    362418  \"After Mecca\": Women Poets and the Black Arts ...   \n...         ...                                                ...   \n4256    1210051                                             鹿鼎記（一）   \n269     1500766              �buen Viaje! Level 2, Student Edition   \n10970   1734000              �buen Viaje! Level 2, Student Edition   \n161298  4489958       �umar Ibn Al-Farid: Sufi Verse, Saintly Life   \n48208    587465       �umar Ibn Al-Farid: Sufi Verse, Saintly Life   \n\n                        Publisher                      Authors  \n187321  University of Texas Press          Karin van Nieuwkerk  \n33743   University of Texas Press          Karin van Nieuwkerk  \n202956               Career Press                      Ron Fry  \n145488               Career Press                      Ron Fry  \n35550    Rutgers University Press                 Cheryl Clark  \n...                           ...                          ...  \n4256                 遠流出版事業股份有限公司                     Jin Yong  \n269         McGraw-Hill Education          Protase E. Woodford  \n10970       McGraw-Hill Education          Protase E. Woodford  \n161298              Paulist Press  'Umar Ibn 'Ali Ibn Al-Farid  \n48208               Paulist Press                   ابن الفارض  \n\n[304891 rows x 4 columns]",
      "text/html": "<div>\n<style scoped>\n    .dataframe tbody tr th:only-of-type {\n        vertical-align: middle;\n    }\n\n    .dataframe tbody tr th {\n        vertical-align: top;\n    }\n\n    .dataframe thead th {\n        text-align: right;\n    }\n</style>\n<table border=\"1\" class=\"dataframe\">\n  <thead>\n    <tr style=\"text-align: right;\">\n      <th></th>\n      <th>Id</th>\n      <th>Name</th>\n      <th>Publisher</th>\n      <th>Authors</th>\n    </tr>\n  </thead>\n  <tbody>\n    <tr>\n      <th>187321</th>\n      <td>3529667</td>\n      <td>\"A Trade Like Any Other\": Female Singers and D...</td>\n      <td>University of Texas Press</td>\n      <td>Karin van Nieuwkerk</td>\n    </tr>\n    <tr>\n      <th>33743</th>\n      <td>560791</td>\n      <td>\"A Trade Like Any Other\": Female Singers and D...</td>\n      <td>University of Texas Press</td>\n      <td>Karin van Nieuwkerk</td>\n    </tr>\n    <tr>\n      <th>202956</th>\n      <td>3573192</td>\n      <td>\"Ace\" Any Test</td>\n      <td>Career Press</td>\n      <td>Ron Fry</td>\n    </tr>\n    <tr>\n      <th>145488</th>\n      <td>2340088</td>\n      <td>\"Ace\" Any Test</td>\n      <td>Career Press</td>\n      <td>Ron Fry</td>\n    </tr>\n    <tr>\n      <th>35550</th>\n      <td>362418</td>\n      <td>\"After Mecca\": Women Poets and the Black Arts ...</td>\n      <td>Rutgers University Press</td>\n      <td>Cheryl Clark</td>\n    </tr>\n    <tr>\n      <th>...</th>\n      <td>...</td>\n      <td>...</td>\n      <td>...</td>\n      <td>...</td>\n    </tr>\n    <tr>\n      <th>4256</th>\n      <td>1210051</td>\n      <td>鹿鼎記（一）</td>\n      <td>遠流出版事業股份有限公司</td>\n      <td>Jin Yong</td>\n    </tr>\n    <tr>\n      <th>269</th>\n      <td>1500766</td>\n      <td>�buen Viaje! Level 2, Student Edition</td>\n      <td>McGraw-Hill Education</td>\n      <td>Protase E. Woodford</td>\n    </tr>\n    <tr>\n      <th>10970</th>\n      <td>1734000</td>\n      <td>�buen Viaje! Level 2, Student Edition</td>\n      <td>McGraw-Hill Education</td>\n      <td>Protase E. Woodford</td>\n    </tr>\n    <tr>\n      <th>161298</th>\n      <td>4489958</td>\n      <td>�umar Ibn Al-Farid: Sufi Verse, Saintly Life</td>\n      <td>Paulist Press</td>\n      <td>'Umar Ibn 'Ali Ibn Al-Farid</td>\n    </tr>\n    <tr>\n      <th>48208</th>\n      <td>587465</td>\n      <td>�umar Ibn Al-Farid: Sufi Verse, Saintly Life</td>\n      <td>Paulist Press</td>\n      <td>ابن الفارض</td>\n    </tr>\n  </tbody>\n</table>\n<p>304891 rows × 4 columns</p>\n</div>"
     },
     "execution_count": 30,
     "metadata": {},
     "output_type": "execute_result"
    }
   ],
   "source": [
    "book_df[book_df.Name.duplicated(keep = False)].loc[:, [\"Id\", \"Name\", \"Publisher\", \"Authors\"]].sort_values('Name')"
   ],
   "metadata": {
    "collapsed": false,
    "pycharm": {
     "name": "#%%\n"
    }
   }
  },
  {
   "cell_type": "markdown",
   "source": [
    "**Observation:** More than 30 thousand records of duplication, including those with different publishers. But are there 100% duplicated records ?"
   ],
   "metadata": {
    "collapsed": false,
    "pycharm": {
     "name": "#%% md\n"
    }
   }
  },
  {
   "cell_type": "code",
   "execution_count": 31,
   "outputs": [
    {
     "data": {
      "text/plain": "          Id                                               Name  RatingDist1  \\\n44113  76770                     Recommended Dietary Allowances            0   \n44114  76772  The Circle Comes Full: New England Southern Ba...            0   \n44115  76773  The God We Never Knew: Beyond Dogmatic Religio...            7   \n44116  76774  Living the Heart of Christianity: A Companion ...            1   \n44122  76784                               A Stone of the Heart            6   \n...      ...                                                ...          ...   \n49928  86037  The Eleanor Roosevelt Papers: The Human Rights...            1   \n50041  86199   A Place in El Paso: A Mexican-American Childhood            0   \n50042  86203                                      Paso Adelante            1   \n50043  86199   A Place in El Paso: A Mexican-American Childhood            0   \n50044  86203                                      Paso Adelante            1   \n\n       pagesNumber  RatingDist4  RatingDistTotal  Publish_Day  Publish_Month  \\\n44113          302            0                0            1              2   \n44114          400            0                0            1              1   \n44115          192          279              749           19              5   \n44116          180           26               61           31             10   \n44122          256           36               93            1              8   \n...            ...          ...              ...          ...            ...   \n49928         1121            1                8            1              1   \n50041          212            0                0            1              3   \n50042          400            0                2           11              7   \n50043          212            0                0            1              3   \n50044          400            0                2           11              7   \n\n                            Publisher  CountsOfReview  PublishYear Language  \\\n44113        National Academies Press               0         1989      NaN   \n44114     Providence House Publishers               0         1998      NaN   \n44115                       HarperOne              65         2015      NaN   \n44116                       HarperOne               2         2006      NaN   \n44122                   Penguin Books               0         1990      NaN   \n...                               ...             ...          ...      ...   \n49928                    Gale Cengage               0         2007      NaN   \n50041  University of New Mexico Press               0         1996      NaN   \n50042                Cengage Learning               1         2006      NaN   \n50043  University of New Mexico Press               0         1996      NaN   \n50044                Cengage Learning               1         2006      NaN   \n\n                         Authors  Average_rating  RatingDist2  RatingDist5  \\\n44113  National Research Council            0.00            0            0   \n44114             Merwyn Borders            0.00            0            0   \n44115             Marcus J. Borg            4.21           25          335   \n44116             Marcus J. Borg            4.10            3           23   \n44122                 John Brady            3.33           13           10   \n...                          ...             ...          ...          ...   \n49928          Eleanor Roosevelt            4.12            0            5   \n50041      Gloria Lopes-Stafford            0.00            0            0   \n50042       Sharon Ahern Fechter            3.00            0            1   \n50043      Gloria Lopes-Stafford            0.00            0            0   \n50044       Sharon Ahern Fechter            3.00            0            1   \n\n             ISBN  RatingDist3 Description  Count of text reviews  \n44113  0309046335            0         NaN                    NaN  \n44114  1577360877            0         NaN                    NaN  \n44115  0060610352          103         NaN                    NaN  \n44116  0061118427            8         NaN                    NaN  \n44122  0140138471           28         NaN                    NaN  \n...           ...          ...         ...                    ...  \n49928  0684314754            1         NaN                    NaN  \n50041  0826316875            0         NaN                    NaN  \n50042  0618253327            0         NaN                    NaN  \n50043  0826316875            0         NaN                    NaN  \n50044  0618253327            0         NaN                    NaN  \n\n[224 rows x 20 columns]",
      "text/html": "<div>\n<style scoped>\n    .dataframe tbody tr th:only-of-type {\n        vertical-align: middle;\n    }\n\n    .dataframe tbody tr th {\n        vertical-align: top;\n    }\n\n    .dataframe thead th {\n        text-align: right;\n    }\n</style>\n<table border=\"1\" class=\"dataframe\">\n  <thead>\n    <tr style=\"text-align: right;\">\n      <th></th>\n      <th>Id</th>\n      <th>Name</th>\n      <th>RatingDist1</th>\n      <th>pagesNumber</th>\n      <th>RatingDist4</th>\n      <th>RatingDistTotal</th>\n      <th>Publish_Day</th>\n      <th>Publish_Month</th>\n      <th>Publisher</th>\n      <th>CountsOfReview</th>\n      <th>PublishYear</th>\n      <th>Language</th>\n      <th>Authors</th>\n      <th>Average_rating</th>\n      <th>RatingDist2</th>\n      <th>RatingDist5</th>\n      <th>ISBN</th>\n      <th>RatingDist3</th>\n      <th>Description</th>\n      <th>Count of text reviews</th>\n    </tr>\n  </thead>\n  <tbody>\n    <tr>\n      <th>44113</th>\n      <td>76770</td>\n      <td>Recommended Dietary Allowances</td>\n      <td>0</td>\n      <td>302</td>\n      <td>0</td>\n      <td>0</td>\n      <td>1</td>\n      <td>2</td>\n      <td>National Academies Press</td>\n      <td>0</td>\n      <td>1989</td>\n      <td>NaN</td>\n      <td>National Research Council</td>\n      <td>0.00</td>\n      <td>0</td>\n      <td>0</td>\n      <td>0309046335</td>\n      <td>0</td>\n      <td>NaN</td>\n      <td>NaN</td>\n    </tr>\n    <tr>\n      <th>44114</th>\n      <td>76772</td>\n      <td>The Circle Comes Full: New England Southern Ba...</td>\n      <td>0</td>\n      <td>400</td>\n      <td>0</td>\n      <td>0</td>\n      <td>1</td>\n      <td>1</td>\n      <td>Providence House Publishers</td>\n      <td>0</td>\n      <td>1998</td>\n      <td>NaN</td>\n      <td>Merwyn Borders</td>\n      <td>0.00</td>\n      <td>0</td>\n      <td>0</td>\n      <td>1577360877</td>\n      <td>0</td>\n      <td>NaN</td>\n      <td>NaN</td>\n    </tr>\n    <tr>\n      <th>44115</th>\n      <td>76773</td>\n      <td>The God We Never Knew: Beyond Dogmatic Religio...</td>\n      <td>7</td>\n      <td>192</td>\n      <td>279</td>\n      <td>749</td>\n      <td>19</td>\n      <td>5</td>\n      <td>HarperOne</td>\n      <td>65</td>\n      <td>2015</td>\n      <td>NaN</td>\n      <td>Marcus J. Borg</td>\n      <td>4.21</td>\n      <td>25</td>\n      <td>335</td>\n      <td>0060610352</td>\n      <td>103</td>\n      <td>NaN</td>\n      <td>NaN</td>\n    </tr>\n    <tr>\n      <th>44116</th>\n      <td>76774</td>\n      <td>Living the Heart of Christianity: A Companion ...</td>\n      <td>1</td>\n      <td>180</td>\n      <td>26</td>\n      <td>61</td>\n      <td>31</td>\n      <td>10</td>\n      <td>HarperOne</td>\n      <td>2</td>\n      <td>2006</td>\n      <td>NaN</td>\n      <td>Marcus J. Borg</td>\n      <td>4.10</td>\n      <td>3</td>\n      <td>23</td>\n      <td>0061118427</td>\n      <td>8</td>\n      <td>NaN</td>\n      <td>NaN</td>\n    </tr>\n    <tr>\n      <th>44122</th>\n      <td>76784</td>\n      <td>A Stone of the Heart</td>\n      <td>6</td>\n      <td>256</td>\n      <td>36</td>\n      <td>93</td>\n      <td>1</td>\n      <td>8</td>\n      <td>Penguin Books</td>\n      <td>0</td>\n      <td>1990</td>\n      <td>NaN</td>\n      <td>John Brady</td>\n      <td>3.33</td>\n      <td>13</td>\n      <td>10</td>\n      <td>0140138471</td>\n      <td>28</td>\n      <td>NaN</td>\n      <td>NaN</td>\n    </tr>\n    <tr>\n      <th>...</th>\n      <td>...</td>\n      <td>...</td>\n      <td>...</td>\n      <td>...</td>\n      <td>...</td>\n      <td>...</td>\n      <td>...</td>\n      <td>...</td>\n      <td>...</td>\n      <td>...</td>\n      <td>...</td>\n      <td>...</td>\n      <td>...</td>\n      <td>...</td>\n      <td>...</td>\n      <td>...</td>\n      <td>...</td>\n      <td>...</td>\n      <td>...</td>\n      <td>...</td>\n    </tr>\n    <tr>\n      <th>49928</th>\n      <td>86037</td>\n      <td>The Eleanor Roosevelt Papers: The Human Rights...</td>\n      <td>1</td>\n      <td>1121</td>\n      <td>1</td>\n      <td>8</td>\n      <td>1</td>\n      <td>1</td>\n      <td>Gale Cengage</td>\n      <td>0</td>\n      <td>2007</td>\n      <td>NaN</td>\n      <td>Eleanor Roosevelt</td>\n      <td>4.12</td>\n      <td>0</td>\n      <td>5</td>\n      <td>0684314754</td>\n      <td>1</td>\n      <td>NaN</td>\n      <td>NaN</td>\n    </tr>\n    <tr>\n      <th>50041</th>\n      <td>86199</td>\n      <td>A Place in El Paso: A Mexican-American Childhood</td>\n      <td>0</td>\n      <td>212</td>\n      <td>0</td>\n      <td>0</td>\n      <td>1</td>\n      <td>3</td>\n      <td>University of New Mexico Press</td>\n      <td>0</td>\n      <td>1996</td>\n      <td>NaN</td>\n      <td>Gloria Lopes-Stafford</td>\n      <td>0.00</td>\n      <td>0</td>\n      <td>0</td>\n      <td>0826316875</td>\n      <td>0</td>\n      <td>NaN</td>\n      <td>NaN</td>\n    </tr>\n    <tr>\n      <th>50042</th>\n      <td>86203</td>\n      <td>Paso Adelante</td>\n      <td>1</td>\n      <td>400</td>\n      <td>0</td>\n      <td>2</td>\n      <td>11</td>\n      <td>7</td>\n      <td>Cengage Learning</td>\n      <td>1</td>\n      <td>2006</td>\n      <td>NaN</td>\n      <td>Sharon Ahern Fechter</td>\n      <td>3.00</td>\n      <td>0</td>\n      <td>1</td>\n      <td>0618253327</td>\n      <td>0</td>\n      <td>NaN</td>\n      <td>NaN</td>\n    </tr>\n    <tr>\n      <th>50043</th>\n      <td>86199</td>\n      <td>A Place in El Paso: A Mexican-American Childhood</td>\n      <td>0</td>\n      <td>212</td>\n      <td>0</td>\n      <td>0</td>\n      <td>1</td>\n      <td>3</td>\n      <td>University of New Mexico Press</td>\n      <td>0</td>\n      <td>1996</td>\n      <td>NaN</td>\n      <td>Gloria Lopes-Stafford</td>\n      <td>0.00</td>\n      <td>0</td>\n      <td>0</td>\n      <td>0826316875</td>\n      <td>0</td>\n      <td>NaN</td>\n      <td>NaN</td>\n    </tr>\n    <tr>\n      <th>50044</th>\n      <td>86203</td>\n      <td>Paso Adelante</td>\n      <td>1</td>\n      <td>400</td>\n      <td>0</td>\n      <td>2</td>\n      <td>11</td>\n      <td>7</td>\n      <td>Cengage Learning</td>\n      <td>1</td>\n      <td>2006</td>\n      <td>NaN</td>\n      <td>Sharon Ahern Fechter</td>\n      <td>3.00</td>\n      <td>0</td>\n      <td>1</td>\n      <td>0618253327</td>\n      <td>0</td>\n      <td>NaN</td>\n      <td>NaN</td>\n    </tr>\n  </tbody>\n</table>\n<p>224 rows × 20 columns</p>\n</div>"
     },
     "execution_count": 31,
     "metadata": {},
     "output_type": "execute_result"
    }
   ],
   "source": [
    "book_df[book_df.duplicated(keep=False)]"
   ],
   "metadata": {
    "collapsed": false,
    "pycharm": {
     "name": "#%%\n"
    }
   }
  },
  {
   "cell_type": "markdown",
   "source": [
    "**Observation:** There are 224 duplicated records and since there are more than 1.7 million books, we can safely delete those from the dataframe."
   ],
   "metadata": {
    "collapsed": false,
    "pycharm": {
     "name": "#%% md\n"
    }
   }
  },
  {
   "cell_type": "markdown",
   "source": [
    "EDA question: What is the most popular book ?"
   ],
   "metadata": {
    "collapsed": false,
    "pycharm": {
     "name": "#%% md\n"
    }
   }
  },
  {
   "cell_type": "code",
   "execution_count": 32,
   "outputs": [
    {
     "data": {
      "text/plain": "           Id                                               Name  RatingDist1  \\\n230       380                    A Colorful Symphony: Full Score            0   \n238       392                      Bullets, Badges, and Bullshit            0   \n276       438  New York Trilogy: New York Underground, Trappe...            0   \n320       499  21st Century Mysteries: Nikola Tesla: Federal ...            0   \n501       752                              The Guitar Chord Deck            0   \n...       ...                                                ...          ...   \n40736  999581  The Brainerd Journal: A Mission to the Cheroke...            0   \n40807  999797                           An Arrow Full of Quivers            0   \n40861  999938  Cinema for Italian Conversation: Ciak... si pa...            0   \n40866  999950                              Albertanus of Brescia            0   \n40889  999998                                     Within/Without            0   \n\n       pagesNumber  RatingDist4  RatingDistTotal  Publish_Day  Publish_Month  \\\n230             68            0                1            1              5   \n238            444            0                2            6              3   \n276            156            0                2           20              4   \n320          23931            0                2            3              2   \n501             45            0                2            1             12   \n...            ...          ...              ...          ...            ...   \n40736          586            0                1            1             11   \n40807          256            0                1            1             12   \n40861          290            0                1            1              5   \n40866          168            0                1           29              1   \n40889           36            0                2            1              3   \n\n                              Publisher  CountsOfReview  PublishYear Language  \\\n230                   G. Schirmer, Inc.               1         1997      NaN   \n238                      PublishAmerica               0         2006      NaN   \n276                           iUniverse               0         2000      NaN   \n320              Progressive Management               0         2006      NaN   \n501                         Music Sales               0         1999      NaN   \n...                                 ...             ...          ...      ...   \n40736      University of Nebraska Press               1         1998      NaN   \n40807                       Ulverscroft               0         1996      NaN   \n40861   Focus Publishing/R. Pullins Co.               1         2005      NaN   \n40866  University of Pennsylvania Press               0         1992      NaN   \n40889            Pilgrims Process, Inc.               0         2005      NaN   \n\n                       Authors  Average_rating  RatingDist2  RatingDist5  \\\n230    Robert Xavier Rodríguez            5.00            0            1   \n238            Phil T. O'Brien            5.00            0            2   \n276               Paul Hallasy            5.00            0            2   \n320            U.S. Government            5.00            0            2   \n501                  Ed Lozano            5.00            0            2   \n...                        ...             ...          ...          ...   \n40736          Joyce  Phillips            5.00            0            1   \n40807          Robert Clifford            5.00            0            1   \n40861           Piero Garofalo            5.00            0            1   \n40866          James M. Powell            5.00            0            1   \n40889        Kathryn T.S. Bass            5.00            0            2   \n\n             ISBN  RatingDist3  \\\n230    0793565561            0   \n238    1424124255            0   \n276    0595002234            0   \n320    1422004848            0   \n501    0825617545            0   \n...           ...          ...   \n40736  0803237189            0   \n40807  0708936431            0   \n40861  1585100943            0   \n40866  0812231384            0   \n40889  097495974X            0   \n\n                                             Description  \\\n230                                                  NaN   \n238                                                  NaN   \n276                                                  NaN   \n320                                                  NaN   \n501                                                  NaN   \n...                                                  ...   \n40736  The journal of the Brainerd Mission is an indi...   \n40807  A collection of stories, anecdotes and slices ...   \n40861  Ciak... si parla italiano is a text designed s...   \n40866  Albertanus of Brescia is an important figure i...   \n40889                                                NaN   \n\n       Count of text reviews  \n230                      NaN  \n238                      NaN  \n276                      NaN  \n320                      NaN  \n501                      NaN  \n...                      ...  \n40736                   1.00  \n40807                   0.00  \n40861                   1.00  \n40866                   0.00  \n40889                   0.00  \n\n[79818 rows x 20 columns]",
      "text/html": "<div>\n<style scoped>\n    .dataframe tbody tr th:only-of-type {\n        vertical-align: middle;\n    }\n\n    .dataframe tbody tr th {\n        vertical-align: top;\n    }\n\n    .dataframe thead th {\n        text-align: right;\n    }\n</style>\n<table border=\"1\" class=\"dataframe\">\n  <thead>\n    <tr style=\"text-align: right;\">\n      <th></th>\n      <th>Id</th>\n      <th>Name</th>\n      <th>RatingDist1</th>\n      <th>pagesNumber</th>\n      <th>RatingDist4</th>\n      <th>RatingDistTotal</th>\n      <th>Publish_Day</th>\n      <th>Publish_Month</th>\n      <th>Publisher</th>\n      <th>CountsOfReview</th>\n      <th>PublishYear</th>\n      <th>Language</th>\n      <th>Authors</th>\n      <th>Average_rating</th>\n      <th>RatingDist2</th>\n      <th>RatingDist5</th>\n      <th>ISBN</th>\n      <th>RatingDist3</th>\n      <th>Description</th>\n      <th>Count of text reviews</th>\n    </tr>\n  </thead>\n  <tbody>\n    <tr>\n      <th>230</th>\n      <td>380</td>\n      <td>A Colorful Symphony: Full Score</td>\n      <td>0</td>\n      <td>68</td>\n      <td>0</td>\n      <td>1</td>\n      <td>1</td>\n      <td>5</td>\n      <td>G. Schirmer, Inc.</td>\n      <td>1</td>\n      <td>1997</td>\n      <td>NaN</td>\n      <td>Robert Xavier Rodríguez</td>\n      <td>5.00</td>\n      <td>0</td>\n      <td>1</td>\n      <td>0793565561</td>\n      <td>0</td>\n      <td>NaN</td>\n      <td>NaN</td>\n    </tr>\n    <tr>\n      <th>238</th>\n      <td>392</td>\n      <td>Bullets, Badges, and Bullshit</td>\n      <td>0</td>\n      <td>444</td>\n      <td>0</td>\n      <td>2</td>\n      <td>6</td>\n      <td>3</td>\n      <td>PublishAmerica</td>\n      <td>0</td>\n      <td>2006</td>\n      <td>NaN</td>\n      <td>Phil T. O'Brien</td>\n      <td>5.00</td>\n      <td>0</td>\n      <td>2</td>\n      <td>1424124255</td>\n      <td>0</td>\n      <td>NaN</td>\n      <td>NaN</td>\n    </tr>\n    <tr>\n      <th>276</th>\n      <td>438</td>\n      <td>New York Trilogy: New York Underground, Trappe...</td>\n      <td>0</td>\n      <td>156</td>\n      <td>0</td>\n      <td>2</td>\n      <td>20</td>\n      <td>4</td>\n      <td>iUniverse</td>\n      <td>0</td>\n      <td>2000</td>\n      <td>NaN</td>\n      <td>Paul Hallasy</td>\n      <td>5.00</td>\n      <td>0</td>\n      <td>2</td>\n      <td>0595002234</td>\n      <td>0</td>\n      <td>NaN</td>\n      <td>NaN</td>\n    </tr>\n    <tr>\n      <th>320</th>\n      <td>499</td>\n      <td>21st Century Mysteries: Nikola Tesla: Federal ...</td>\n      <td>0</td>\n      <td>23931</td>\n      <td>0</td>\n      <td>2</td>\n      <td>3</td>\n      <td>2</td>\n      <td>Progressive Management</td>\n      <td>0</td>\n      <td>2006</td>\n      <td>NaN</td>\n      <td>U.S. Government</td>\n      <td>5.00</td>\n      <td>0</td>\n      <td>2</td>\n      <td>1422004848</td>\n      <td>0</td>\n      <td>NaN</td>\n      <td>NaN</td>\n    </tr>\n    <tr>\n      <th>501</th>\n      <td>752</td>\n      <td>The Guitar Chord Deck</td>\n      <td>0</td>\n      <td>45</td>\n      <td>0</td>\n      <td>2</td>\n      <td>1</td>\n      <td>12</td>\n      <td>Music Sales</td>\n      <td>0</td>\n      <td>1999</td>\n      <td>NaN</td>\n      <td>Ed Lozano</td>\n      <td>5.00</td>\n      <td>0</td>\n      <td>2</td>\n      <td>0825617545</td>\n      <td>0</td>\n      <td>NaN</td>\n      <td>NaN</td>\n    </tr>\n    <tr>\n      <th>...</th>\n      <td>...</td>\n      <td>...</td>\n      <td>...</td>\n      <td>...</td>\n      <td>...</td>\n      <td>...</td>\n      <td>...</td>\n      <td>...</td>\n      <td>...</td>\n      <td>...</td>\n      <td>...</td>\n      <td>...</td>\n      <td>...</td>\n      <td>...</td>\n      <td>...</td>\n      <td>...</td>\n      <td>...</td>\n      <td>...</td>\n      <td>...</td>\n      <td>...</td>\n    </tr>\n    <tr>\n      <th>40736</th>\n      <td>999581</td>\n      <td>The Brainerd Journal: A Mission to the Cheroke...</td>\n      <td>0</td>\n      <td>586</td>\n      <td>0</td>\n      <td>1</td>\n      <td>1</td>\n      <td>11</td>\n      <td>University of Nebraska Press</td>\n      <td>1</td>\n      <td>1998</td>\n      <td>NaN</td>\n      <td>Joyce  Phillips</td>\n      <td>5.00</td>\n      <td>0</td>\n      <td>1</td>\n      <td>0803237189</td>\n      <td>0</td>\n      <td>The journal of the Brainerd Mission is an indi...</td>\n      <td>1.00</td>\n    </tr>\n    <tr>\n      <th>40807</th>\n      <td>999797</td>\n      <td>An Arrow Full of Quivers</td>\n      <td>0</td>\n      <td>256</td>\n      <td>0</td>\n      <td>1</td>\n      <td>1</td>\n      <td>12</td>\n      <td>Ulverscroft</td>\n      <td>0</td>\n      <td>1996</td>\n      <td>NaN</td>\n      <td>Robert Clifford</td>\n      <td>5.00</td>\n      <td>0</td>\n      <td>1</td>\n      <td>0708936431</td>\n      <td>0</td>\n      <td>A collection of stories, anecdotes and slices ...</td>\n      <td>0.00</td>\n    </tr>\n    <tr>\n      <th>40861</th>\n      <td>999938</td>\n      <td>Cinema for Italian Conversation: Ciak... si pa...</td>\n      <td>0</td>\n      <td>290</td>\n      <td>0</td>\n      <td>1</td>\n      <td>1</td>\n      <td>5</td>\n      <td>Focus Publishing/R. Pullins Co.</td>\n      <td>1</td>\n      <td>2005</td>\n      <td>NaN</td>\n      <td>Piero Garofalo</td>\n      <td>5.00</td>\n      <td>0</td>\n      <td>1</td>\n      <td>1585100943</td>\n      <td>0</td>\n      <td>Ciak... si parla italiano is a text designed s...</td>\n      <td>1.00</td>\n    </tr>\n    <tr>\n      <th>40866</th>\n      <td>999950</td>\n      <td>Albertanus of Brescia</td>\n      <td>0</td>\n      <td>168</td>\n      <td>0</td>\n      <td>1</td>\n      <td>29</td>\n      <td>1</td>\n      <td>University of Pennsylvania Press</td>\n      <td>0</td>\n      <td>1992</td>\n      <td>NaN</td>\n      <td>James M. Powell</td>\n      <td>5.00</td>\n      <td>0</td>\n      <td>1</td>\n      <td>0812231384</td>\n      <td>0</td>\n      <td>Albertanus of Brescia is an important figure i...</td>\n      <td>0.00</td>\n    </tr>\n    <tr>\n      <th>40889</th>\n      <td>999998</td>\n      <td>Within/Without</td>\n      <td>0</td>\n      <td>36</td>\n      <td>0</td>\n      <td>2</td>\n      <td>1</td>\n      <td>3</td>\n      <td>Pilgrims Process, Inc.</td>\n      <td>0</td>\n      <td>2005</td>\n      <td>NaN</td>\n      <td>Kathryn T.S. Bass</td>\n      <td>5.00</td>\n      <td>0</td>\n      <td>2</td>\n      <td>097495974X</td>\n      <td>0</td>\n      <td>NaN</td>\n      <td>0.00</td>\n    </tr>\n  </tbody>\n</table>\n<p>79818 rows × 20 columns</p>\n</div>"
     },
     "execution_count": 32,
     "metadata": {},
     "output_type": "execute_result"
    }
   ],
   "source": [
    "book_df[book_df.Average_rating == 5]"
   ],
   "metadata": {
    "collapsed": false,
    "pycharm": {
     "name": "#%%\n"
    }
   }
  },
  {
   "cell_type": "markdown",
   "source": [
    "**Observation:** There are too many results, we may need to narrow down more."
   ],
   "metadata": {
    "collapsed": false,
    "pycharm": {
     "name": "#%% md\n"
    }
   }
  },
  {
   "cell_type": "code",
   "execution_count": 33,
   "outputs": [
    {
     "data": {
      "text/plain": "             Id                                               Name  \\\n196492  4593339  Ο Χάρι Πότερ και η φιλοσοφική λίθος (Χάρι Πότε...   \n\n        RatingDist1  pagesNumber  RatingDist4  RatingDistTotal  Publish_Day  \\\n196492       119534          360      1621963          7094687            1   \n\n        Publish_Month          Publisher  CountsOfReview  PublishYear  \\\n196492             11  Εκδόσεις Ψυχογιός              51         1998   \n\n       Language       Authors  Average_rating  RatingDist2  RatingDist5 ISBN  \\\n196492      gre  J.K. Rowling            4.47       140565      4608992  NaN   \n\n        RatingDist3                                        Description  \\\n196492       603633  <i>Alternate cover edition can be found <a hre...   \n\n        Count of text reviews  \n196492                    NaN  ",
      "text/html": "<div>\n<style scoped>\n    .dataframe tbody tr th:only-of-type {\n        vertical-align: middle;\n    }\n\n    .dataframe tbody tr th {\n        vertical-align: top;\n    }\n\n    .dataframe thead th {\n        text-align: right;\n    }\n</style>\n<table border=\"1\" class=\"dataframe\">\n  <thead>\n    <tr style=\"text-align: right;\">\n      <th></th>\n      <th>Id</th>\n      <th>Name</th>\n      <th>RatingDist1</th>\n      <th>pagesNumber</th>\n      <th>RatingDist4</th>\n      <th>RatingDistTotal</th>\n      <th>Publish_Day</th>\n      <th>Publish_Month</th>\n      <th>Publisher</th>\n      <th>CountsOfReview</th>\n      <th>PublishYear</th>\n      <th>Language</th>\n      <th>Authors</th>\n      <th>Average_rating</th>\n      <th>RatingDist2</th>\n      <th>RatingDist5</th>\n      <th>ISBN</th>\n      <th>RatingDist3</th>\n      <th>Description</th>\n      <th>Count of text reviews</th>\n    </tr>\n  </thead>\n  <tbody>\n    <tr>\n      <th>196492</th>\n      <td>4593339</td>\n      <td>Ο Χάρι Πότερ και η φιλοσοφική λίθος (Χάρι Πότε...</td>\n      <td>119534</td>\n      <td>360</td>\n      <td>1621963</td>\n      <td>7094687</td>\n      <td>1</td>\n      <td>11</td>\n      <td>Εκδόσεις Ψυχογιός</td>\n      <td>51</td>\n      <td>1998</td>\n      <td>gre</td>\n      <td>J.K. Rowling</td>\n      <td>4.47</td>\n      <td>140565</td>\n      <td>4608992</td>\n      <td>NaN</td>\n      <td>603633</td>\n      <td>&lt;i&gt;Alternate cover edition can be found &lt;a hre...</td>\n      <td>NaN</td>\n    </tr>\n  </tbody>\n</table>\n</div>"
     },
     "execution_count": 33,
     "metadata": {},
     "output_type": "execute_result"
    }
   ],
   "source": [
    "book_df[book_df.RatingDistTotal == book_df.RatingDistTotal.max()]"
   ],
   "metadata": {
    "collapsed": false,
    "pycharm": {
     "name": "#%%\n"
    }
   }
  },
  {
   "cell_type": "markdown",
   "source": [
    "**Observation:** Quite interesting result, we can add one more condition to find the most popular title."
   ],
   "metadata": {
    "collapsed": false,
    "pycharm": {
     "name": "#%% md\n"
    }
   }
  },
  {
   "cell_type": "code",
   "execution_count": 34,
   "outputs": [
    {
     "data": {
      "text/plain": "             Id                                               Name  \\\n196492  4593339  Ο Χάρι Πότερ και η φιλοσοφική λίθος (Χάρι Πότε...   \n\n        RatingDist1  pagesNumber  RatingDist4  RatingDistTotal  Publish_Day  \\\n196492       119534          360      1621963          7094687            1   \n\n        Publish_Month          Publisher  CountsOfReview  PublishYear  \\\n196492             11  Εκδόσεις Ψυχογιός              51         1998   \n\n       Language       Authors  Average_rating  RatingDist2  RatingDist5 ISBN  \\\n196492      gre  J.K. Rowling            4.47       140565      4608992  NaN   \n\n        RatingDist3                                        Description  \\\n196492       603633  <i>Alternate cover edition can be found <a hre...   \n\n        Count of text reviews  \n196492                    NaN  ",
      "text/html": "<div>\n<style scoped>\n    .dataframe tbody tr th:only-of-type {\n        vertical-align: middle;\n    }\n\n    .dataframe tbody tr th {\n        vertical-align: top;\n    }\n\n    .dataframe thead th {\n        text-align: right;\n    }\n</style>\n<table border=\"1\" class=\"dataframe\">\n  <thead>\n    <tr style=\"text-align: right;\">\n      <th></th>\n      <th>Id</th>\n      <th>Name</th>\n      <th>RatingDist1</th>\n      <th>pagesNumber</th>\n      <th>RatingDist4</th>\n      <th>RatingDistTotal</th>\n      <th>Publish_Day</th>\n      <th>Publish_Month</th>\n      <th>Publisher</th>\n      <th>CountsOfReview</th>\n      <th>PublishYear</th>\n      <th>Language</th>\n      <th>Authors</th>\n      <th>Average_rating</th>\n      <th>RatingDist2</th>\n      <th>RatingDist5</th>\n      <th>ISBN</th>\n      <th>RatingDist3</th>\n      <th>Description</th>\n      <th>Count of text reviews</th>\n    </tr>\n  </thead>\n  <tbody>\n    <tr>\n      <th>196492</th>\n      <td>4593339</td>\n      <td>Ο Χάρι Πότερ και η φιλοσοφική λίθος (Χάρι Πότε...</td>\n      <td>119534</td>\n      <td>360</td>\n      <td>1621963</td>\n      <td>7094687</td>\n      <td>1</td>\n      <td>11</td>\n      <td>Εκδόσεις Ψυχογιός</td>\n      <td>51</td>\n      <td>1998</td>\n      <td>gre</td>\n      <td>J.K. Rowling</td>\n      <td>4.47</td>\n      <td>140565</td>\n      <td>4608992</td>\n      <td>NaN</td>\n      <td>603633</td>\n      <td>&lt;i&gt;Alternate cover edition can be found &lt;a hre...</td>\n      <td>NaN</td>\n    </tr>\n  </tbody>\n</table>\n</div>"
     },
     "execution_count": 34,
     "metadata": {},
     "output_type": "execute_result"
    }
   ],
   "source": [
    "book_df[book_df.RatingDist5 == book_df.RatingDist5.max()]"
   ],
   "metadata": {
    "collapsed": false,
    "pycharm": {
     "name": "#%%\n"
    }
   }
  },
  {
   "cell_type": "code",
   "execution_count": 35,
   "outputs": [
    {
     "data": {
      "text/plain": "Empty DataFrame\nColumns: [Id, Name, RatingDist1, pagesNumber, RatingDist4, RatingDistTotal, Publish_Day, Publish_Month, Publisher, CountsOfReview, PublishYear, Language, Authors, Average_rating, RatingDist2, RatingDist5, ISBN, RatingDist3, Description, Count of text reviews]\nIndex: []",
      "text/html": "<div>\n<style scoped>\n    .dataframe tbody tr th:only-of-type {\n        vertical-align: middle;\n    }\n\n    .dataframe tbody tr th {\n        vertical-align: top;\n    }\n\n    .dataframe thead th {\n        text-align: right;\n    }\n</style>\n<table border=\"1\" class=\"dataframe\">\n  <thead>\n    <tr style=\"text-align: right;\">\n      <th></th>\n      <th>Id</th>\n      <th>Name</th>\n      <th>RatingDist1</th>\n      <th>pagesNumber</th>\n      <th>RatingDist4</th>\n      <th>RatingDistTotal</th>\n      <th>Publish_Day</th>\n      <th>Publish_Month</th>\n      <th>Publisher</th>\n      <th>CountsOfReview</th>\n      <th>PublishYear</th>\n      <th>Language</th>\n      <th>Authors</th>\n      <th>Average_rating</th>\n      <th>RatingDist2</th>\n      <th>RatingDist5</th>\n      <th>ISBN</th>\n      <th>RatingDist3</th>\n      <th>Description</th>\n      <th>Count of text reviews</th>\n    </tr>\n  </thead>\n  <tbody>\n  </tbody>\n</table>\n</div>"
     },
     "execution_count": 35,
     "metadata": {},
     "output_type": "execute_result"
    }
   ],
   "source": [
    "book_df[(book_df.Average_rating == 5) & (book_df.RatingDistTotal > 10000)]"
   ],
   "metadata": {
    "collapsed": false,
    "pycharm": {
     "name": "#%%\n"
    }
   }
  },
  {
   "cell_type": "markdown",
   "source": [
    "**Observation:** Selecting book with average rating of 5 and with more than 10000 reviews is likely to get the answer for the question. However, the above code block did not return any result. We can try to decrease the standard"
   ],
   "metadata": {
    "collapsed": false,
    "pycharm": {
     "name": "#%% md\n"
    }
   }
  },
  {
   "cell_type": "code",
   "execution_count": 36,
   "outputs": [
    {
     "data": {
      "text/plain": "             Id                                               Name  \\\n1             2  Harry Potter and the Order of the Phoenix (Har...   \n14064   1642703  Der Herr der Ringe: Die Gefährten / Die zwei T...   \n35184    462306            The Complete Works: Red Leather Edition   \n34308    460802                                 The Complete Works   \n25166    444327  Harry Potter and the Order of the Phoenix (Har...   \n16289    428548  The Complete Works (The Globe Illustrated Shak...   \n16211    428439  Complete Works of Shakespeare, The, Portable E...   \n15144    426441              Complete Works of William Shakespeare   \n196556  4593490  Ο Χάρι Πότερ και το τάγμα του Φοίνικα (Χάρι Πό...   \n48162    385250       The Jolly Postman, or Other People's Letters   \n\n                    Authors  RatingDistTotal  Average_rating  \n1              J.K. Rowling          2358637            4.50  \n14064        J.R.R. Tolkien           550635            4.50  \n35184   William Shakespeare            50824            4.50  \n34308   William Shakespeare            50824            4.50  \n25166          J.K. Rowling          2376146            4.50  \n16289   William Shakespeare            50826            4.50  \n16211   William Shakespeare            50826            4.50  \n15144   William Shakespeare            50826            4.50  \n196556         J.K. Rowling          2523750            4.50  \n48162         Janet Ahlberg            11381            4.50  ",
      "text/html": "<div>\n<style scoped>\n    .dataframe tbody tr th:only-of-type {\n        vertical-align: middle;\n    }\n\n    .dataframe tbody tr th {\n        vertical-align: top;\n    }\n\n    .dataframe thead th {\n        text-align: right;\n    }\n</style>\n<table border=\"1\" class=\"dataframe\">\n  <thead>\n    <tr style=\"text-align: right;\">\n      <th></th>\n      <th>Id</th>\n      <th>Name</th>\n      <th>Authors</th>\n      <th>RatingDistTotal</th>\n      <th>Average_rating</th>\n    </tr>\n  </thead>\n  <tbody>\n    <tr>\n      <th>1</th>\n      <td>2</td>\n      <td>Harry Potter and the Order of the Phoenix (Har...</td>\n      <td>J.K. Rowling</td>\n      <td>2358637</td>\n      <td>4.50</td>\n    </tr>\n    <tr>\n      <th>14064</th>\n      <td>1642703</td>\n      <td>Der Herr der Ringe: Die Gefährten / Die zwei T...</td>\n      <td>J.R.R. Tolkien</td>\n      <td>550635</td>\n      <td>4.50</td>\n    </tr>\n    <tr>\n      <th>35184</th>\n      <td>462306</td>\n      <td>The Complete Works: Red Leather Edition</td>\n      <td>William Shakespeare</td>\n      <td>50824</td>\n      <td>4.50</td>\n    </tr>\n    <tr>\n      <th>34308</th>\n      <td>460802</td>\n      <td>The Complete Works</td>\n      <td>William Shakespeare</td>\n      <td>50824</td>\n      <td>4.50</td>\n    </tr>\n    <tr>\n      <th>25166</th>\n      <td>444327</td>\n      <td>Harry Potter and the Order of the Phoenix (Har...</td>\n      <td>J.K. Rowling</td>\n      <td>2376146</td>\n      <td>4.50</td>\n    </tr>\n    <tr>\n      <th>16289</th>\n      <td>428548</td>\n      <td>The Complete Works (The Globe Illustrated Shak...</td>\n      <td>William Shakespeare</td>\n      <td>50826</td>\n      <td>4.50</td>\n    </tr>\n    <tr>\n      <th>16211</th>\n      <td>428439</td>\n      <td>Complete Works of Shakespeare, The, Portable E...</td>\n      <td>William Shakespeare</td>\n      <td>50826</td>\n      <td>4.50</td>\n    </tr>\n    <tr>\n      <th>15144</th>\n      <td>426441</td>\n      <td>Complete Works of William Shakespeare</td>\n      <td>William Shakespeare</td>\n      <td>50826</td>\n      <td>4.50</td>\n    </tr>\n    <tr>\n      <th>196556</th>\n      <td>4593490</td>\n      <td>Ο Χάρι Πότερ και το τάγμα του Φοίνικα (Χάρι Πό...</td>\n      <td>J.K. Rowling</td>\n      <td>2523750</td>\n      <td>4.50</td>\n    </tr>\n    <tr>\n      <th>48162</th>\n      <td>385250</td>\n      <td>The Jolly Postman, or Other People's Letters</td>\n      <td>Janet Ahlberg</td>\n      <td>11381</td>\n      <td>4.50</td>\n    </tr>\n  </tbody>\n</table>\n</div>"
     },
     "execution_count": 36,
     "metadata": {},
     "output_type": "execute_result"
    }
   ],
   "source": [
    "book_df[(book_df.Average_rating == 4.5) & (book_df.RatingDistTotal > 10000)].sort_values(\"Average_rating\", ascending = False).head(10).loc[:, [\"Id\", \"Name\", \"Authors\", \"RatingDistTotal\", \"Average_rating\"]]"
   ],
   "metadata": {
    "collapsed": false,
    "pycharm": {
     "name": "#%%\n"
    }
   }
  },
  {
   "cell_type": "markdown",
   "source": [
    "**Observation:** To answer the EDA question *(What is the most popular book)*, Harry Potter and the Order of the Phoenix by J.K. Rowling is the most popular. The Lord of the Rings by J.R.R. Tolkien in german version is in second place while third plat the The Complete Works: Red Leather Edition by William Shakespeare"
   ],
   "metadata": {
    "collapsed": false,
    "pycharm": {
     "name": "#%% md\n"
    }
   }
  },
  {
   "cell_type": "markdown",
   "source": [
    "EDA question: Best book released every year?"
   ],
   "metadata": {
    "collapsed": false,
    "pycharm": {
     "name": "#%% md\n"
    }
   }
  },
  {
   "cell_type": "markdown",
   "source": [
    "To answer the question, I used the method which consist of: sorted the dataframe by release year, average rating and RatingDistTotal columns. The book which has the highest average rating and the total number of people giving rating should be the best book released in that year. Then, used a for loop to loop through each publish year and select the record ranked first in order."
   ],
   "metadata": {
    "collapsed": false,
    "pycharm": {
     "name": "#%% md\n"
    }
   }
  },
  {
   "cell_type": "code",
   "execution_count": 37,
   "outputs": [
    {
     "data": {
      "text/plain": "             Id                                               Name  \\\n37491   3098402  Three Distinct Knocks On the Door of the Most ...   \n189588  2448024  Discovering Geometry: An Investigative Approac...   \n87877   4265642  Self Esteem In The Classroom: Techniques For T...   \n3274    1907756  West-Indian pretensions refuted: being an extr...   \n111834  3311966                A Universal Biographical Dictionary   \n...         ...                                                ...   \n38152   4109529  Ponds, Pools and Puddles (Collins New Naturali...   \n60225   4177760                  Rose of Jericho and Other Stories   \n80388   4241942  The Living Word: Inner Land � \" a Guide Into t...   \n87246   4263641  Computational Photography: Mastering New Techn...   \n9549    1922038  Teaching Children With Autism To Mind Read: A ...   \n\n                   Authors  PublishYear  Average_rating  RatingDistTotal  \n37491     Samuel Pritchard         1730            0.00                0  \n189588       Michael Serra         1753            3.67                3  \n87877           Lila Swell         1753            0.00                0  \n3274         James Stephen         1824            5.00                1  \n111834  Charles N. Baldwin         1825            4.00                1  \n...                    ...          ...             ...              ...  \n38152         Jeremy Biggs         2021            0.00                0  \n60225          Tage Aurell         2021            0.00                0  \n80388      Eberhard Arnold         2021            0.00                0  \n87246        Ramesh Raskar         2021            0.00                0  \n9549       Patricia Howlin         2022            3.89               35  \n\n[1758764 rows x 6 columns]",
      "text/html": "<div>\n<style scoped>\n    .dataframe tbody tr th:only-of-type {\n        vertical-align: middle;\n    }\n\n    .dataframe tbody tr th {\n        vertical-align: top;\n    }\n\n    .dataframe thead th {\n        text-align: right;\n    }\n</style>\n<table border=\"1\" class=\"dataframe\">\n  <thead>\n    <tr style=\"text-align: right;\">\n      <th></th>\n      <th>Id</th>\n      <th>Name</th>\n      <th>Authors</th>\n      <th>PublishYear</th>\n      <th>Average_rating</th>\n      <th>RatingDistTotal</th>\n    </tr>\n  </thead>\n  <tbody>\n    <tr>\n      <th>37491</th>\n      <td>3098402</td>\n      <td>Three Distinct Knocks On the Door of the Most ...</td>\n      <td>Samuel Pritchard</td>\n      <td>1730</td>\n      <td>0.00</td>\n      <td>0</td>\n    </tr>\n    <tr>\n      <th>189588</th>\n      <td>2448024</td>\n      <td>Discovering Geometry: An Investigative Approac...</td>\n      <td>Michael Serra</td>\n      <td>1753</td>\n      <td>3.67</td>\n      <td>3</td>\n    </tr>\n    <tr>\n      <th>87877</th>\n      <td>4265642</td>\n      <td>Self Esteem In The Classroom: Techniques For T...</td>\n      <td>Lila Swell</td>\n      <td>1753</td>\n      <td>0.00</td>\n      <td>0</td>\n    </tr>\n    <tr>\n      <th>3274</th>\n      <td>1907756</td>\n      <td>West-Indian pretensions refuted: being an extr...</td>\n      <td>James Stephen</td>\n      <td>1824</td>\n      <td>5.00</td>\n      <td>1</td>\n    </tr>\n    <tr>\n      <th>111834</th>\n      <td>3311966</td>\n      <td>A Universal Biographical Dictionary</td>\n      <td>Charles N. Baldwin</td>\n      <td>1825</td>\n      <td>4.00</td>\n      <td>1</td>\n    </tr>\n    <tr>\n      <th>...</th>\n      <td>...</td>\n      <td>...</td>\n      <td>...</td>\n      <td>...</td>\n      <td>...</td>\n      <td>...</td>\n    </tr>\n    <tr>\n      <th>38152</th>\n      <td>4109529</td>\n      <td>Ponds, Pools and Puddles (Collins New Naturali...</td>\n      <td>Jeremy Biggs</td>\n      <td>2021</td>\n      <td>0.00</td>\n      <td>0</td>\n    </tr>\n    <tr>\n      <th>60225</th>\n      <td>4177760</td>\n      <td>Rose of Jericho and Other Stories</td>\n      <td>Tage Aurell</td>\n      <td>2021</td>\n      <td>0.00</td>\n      <td>0</td>\n    </tr>\n    <tr>\n      <th>80388</th>\n      <td>4241942</td>\n      <td>The Living Word: Inner Land � \" a Guide Into t...</td>\n      <td>Eberhard Arnold</td>\n      <td>2021</td>\n      <td>0.00</td>\n      <td>0</td>\n    </tr>\n    <tr>\n      <th>87246</th>\n      <td>4263641</td>\n      <td>Computational Photography: Mastering New Techn...</td>\n      <td>Ramesh Raskar</td>\n      <td>2021</td>\n      <td>0.00</td>\n      <td>0</td>\n    </tr>\n    <tr>\n      <th>9549</th>\n      <td>1922038</td>\n      <td>Teaching Children With Autism To Mind Read: A ...</td>\n      <td>Patricia Howlin</td>\n      <td>2022</td>\n      <td>3.89</td>\n      <td>35</td>\n    </tr>\n  </tbody>\n</table>\n<p>1758764 rows × 6 columns</p>\n</div>"
     },
     "execution_count": 37,
     "metadata": {},
     "output_type": "execute_result"
    }
   ],
   "source": [
    "df_test = book_df.sort_values(by=[\"PublishYear\", \"RatingDistTotal\", \"Average_rating\"], ascending=[True, False, False]).loc[:, [\"Id\", \"Name\", \"Authors\", \"PublishYear\", \"Average_rating\", \"RatingDistTotal\"]]\n",
    "df_test"
   ],
   "metadata": {
    "collapsed": false,
    "pycharm": {
     "name": "#%%\n"
    }
   }
  },
  {
   "cell_type": "code",
   "execution_count": 38,
   "outputs": [
    {
     "data": {
      "text/plain": "          Id                                               Name  \\\n0    3098402  Three Distinct Knocks On the Door of the Most ...   \n1    2448024  Discovering Geometry: An Investigative Approac...   \n2    1907756  West-Indian pretensions refuted: being an extr...   \n3    3311966                A Universal Biographical Dictionary   \n4    2550274  Letter addressed to the members of the Society...   \n..       ...                                                ...   \n163    45495   El alquimista: una fábula para seguir tus sueños   \n164    44184                                            Monster   \n165  1331682                                  Beezus and Ramona   \n166  4039639  The Kingdoms and the Elves of the Reaches 2: K...   \n167  1922038  Teaching Children With Autism To Mind Read: A ...   \n\n                Authors  PublishYear  Average_rating  RatingDistTotal  \n0      Samuel Pritchard         1730            0.00                0  \n1         Michael Serra         1753            3.67                3  \n2         James Stephen         1824            5.00                1  \n3    Charles N. Baldwin         1825            4.00                1  \n4          Edward Smith         1833            0.00                0  \n..                  ...          ...             ...              ...  \n163        Paulo Coelho         2018            3.87          1956934  \n164   Walter Dean Myers         2019            3.72            58109  \n165      Beverly Cleary         2020            4.00            92039  \n166       Robert Stanek         2021            3.19              115  \n167     Patricia Howlin         2022            3.89               35  \n\n[168 rows x 6 columns]",
      "text/html": "<div>\n<style scoped>\n    .dataframe tbody tr th:only-of-type {\n        vertical-align: middle;\n    }\n\n    .dataframe tbody tr th {\n        vertical-align: top;\n    }\n\n    .dataframe thead th {\n        text-align: right;\n    }\n</style>\n<table border=\"1\" class=\"dataframe\">\n  <thead>\n    <tr style=\"text-align: right;\">\n      <th></th>\n      <th>Id</th>\n      <th>Name</th>\n      <th>Authors</th>\n      <th>PublishYear</th>\n      <th>Average_rating</th>\n      <th>RatingDistTotal</th>\n    </tr>\n  </thead>\n  <tbody>\n    <tr>\n      <th>0</th>\n      <td>3098402</td>\n      <td>Three Distinct Knocks On the Door of the Most ...</td>\n      <td>Samuel Pritchard</td>\n      <td>1730</td>\n      <td>0.00</td>\n      <td>0</td>\n    </tr>\n    <tr>\n      <th>1</th>\n      <td>2448024</td>\n      <td>Discovering Geometry: An Investigative Approac...</td>\n      <td>Michael Serra</td>\n      <td>1753</td>\n      <td>3.67</td>\n      <td>3</td>\n    </tr>\n    <tr>\n      <th>2</th>\n      <td>1907756</td>\n      <td>West-Indian pretensions refuted: being an extr...</td>\n      <td>James Stephen</td>\n      <td>1824</td>\n      <td>5.00</td>\n      <td>1</td>\n    </tr>\n    <tr>\n      <th>3</th>\n      <td>3311966</td>\n      <td>A Universal Biographical Dictionary</td>\n      <td>Charles N. Baldwin</td>\n      <td>1825</td>\n      <td>4.00</td>\n      <td>1</td>\n    </tr>\n    <tr>\n      <th>4</th>\n      <td>2550274</td>\n      <td>Letter addressed to the members of the Society...</td>\n      <td>Edward Smith</td>\n      <td>1833</td>\n      <td>0.00</td>\n      <td>0</td>\n    </tr>\n    <tr>\n      <th>...</th>\n      <td>...</td>\n      <td>...</td>\n      <td>...</td>\n      <td>...</td>\n      <td>...</td>\n      <td>...</td>\n    </tr>\n    <tr>\n      <th>163</th>\n      <td>45495</td>\n      <td>El alquimista: una fábula para seguir tus sueños</td>\n      <td>Paulo Coelho</td>\n      <td>2018</td>\n      <td>3.87</td>\n      <td>1956934</td>\n    </tr>\n    <tr>\n      <th>164</th>\n      <td>44184</td>\n      <td>Monster</td>\n      <td>Walter Dean Myers</td>\n      <td>2019</td>\n      <td>3.72</td>\n      <td>58109</td>\n    </tr>\n    <tr>\n      <th>165</th>\n      <td>1331682</td>\n      <td>Beezus and Ramona</td>\n      <td>Beverly Cleary</td>\n      <td>2020</td>\n      <td>4.00</td>\n      <td>92039</td>\n    </tr>\n    <tr>\n      <th>166</th>\n      <td>4039639</td>\n      <td>The Kingdoms and the Elves of the Reaches 2: K...</td>\n      <td>Robert Stanek</td>\n      <td>2021</td>\n      <td>3.19</td>\n      <td>115</td>\n    </tr>\n    <tr>\n      <th>167</th>\n      <td>1922038</td>\n      <td>Teaching Children With Autism To Mind Read: A ...</td>\n      <td>Patricia Howlin</td>\n      <td>2022</td>\n      <td>3.89</td>\n      <td>35</td>\n    </tr>\n  </tbody>\n</table>\n<p>168 rows × 6 columns</p>\n</div>"
     },
     "execution_count": 38,
     "metadata": {},
     "output_type": "execute_result"
    }
   ],
   "source": [
    "i = []\n",
    "for year in range(1730, 2023):\n",
    "    try:\n",
    "        test_1 = df_test[df_test.PublishYear == year].iloc[0]\n",
    "        i.append(test_1)\n",
    "        df_test_1 = pd.DataFrame(i)\n",
    "    except:\n",
    "        continue\n",
    "\n",
    "df_test_1 = df_test_1.reset_index()\n",
    "df_test_1 = df_test_1.drop(columns=[\"index\"])\n",
    "df_test_1"
   ],
   "metadata": {
    "collapsed": false,
    "pycharm": {
     "name": "#%%\n"
    }
   }
  },
  {
   "cell_type": "markdown",
   "source": [
    "### Analysis on Authors"
   ],
   "metadata": {
    "collapsed": false,
    "pycharm": {
     "name": "#%% md\n"
    }
   }
  },
  {
   "cell_type": "markdown",
   "source": [
    "EDA question: How many different can be found in the dataset?"
   ],
   "metadata": {
    "collapsed": false,
    "pycharm": {
     "name": "#%% md\n"
    }
   }
  },
  {
   "cell_type": "code",
   "execution_count": 39,
   "outputs": [
    {
     "data": {
      "text/plain": "671681"
     },
     "execution_count": 39,
     "metadata": {},
     "output_type": "execute_result"
    }
   ],
   "source": [
    "book_df.Authors.nunique()"
   ],
   "metadata": {
    "collapsed": false,
    "pycharm": {
     "name": "#%%\n"
    }
   }
  },
  {
   "cell_type": "markdown",
   "source": [
    "Only a third number of authors compared to the number of book titles, which leads to the next EDA question: how many books would a author write?"
   ],
   "metadata": {
    "collapsed": false,
    "pycharm": {
     "name": "#%% md\n"
    }
   }
  },
  {
   "cell_type": "code",
   "execution_count": 40,
   "outputs": [
    {
     "data": {
      "text/plain": "Authors\nAnonymous                           2255\nUnknown                             2007\nWilliam Shakespeare                 1042\nNational Research Council            884\nCram101 Textbook Reviews             876\nFodor's Travel Publications Inc.     832\nFrancine Pascal                      821\nHarold Bloom                         762\nVarious                              729\nIsaac Asimov                         631\nName: Name, dtype: int64"
     },
     "execution_count": 40,
     "metadata": {},
     "output_type": "execute_result"
    }
   ],
   "source": [
    "book_df.groupby('Authors')['Name'].count().sort_values(ascending = False).head(10)"
   ],
   "metadata": {
    "collapsed": false,
    "pycharm": {
     "name": "#%%\n"
    }
   }
  },
  {
   "cell_type": "markdown",
   "source": [
    "Excluding unknown writers, we can clearly see that William Shakespeare wrote the most number of books."
   ],
   "metadata": {
    "collapsed": false,
    "pycharm": {
     "name": "#%% md\n"
    }
   }
  },
  {
   "cell_type": "markdown",
   "source": [
    "EDA question: Who is the most popular author based on rating?"
   ],
   "metadata": {
    "collapsed": false,
    "pycharm": {
     "name": "#%% md\n"
    }
   }
  },
  {
   "cell_type": "code",
   "execution_count": 40,
   "outputs": [],
   "source": [],
   "metadata": {
    "collapsed": false,
    "pycharm": {
     "name": "#%%\n"
    }
   }
  },
  {
   "cell_type": "markdown",
   "source": [
    "### Analysis on Rating"
   ],
   "metadata": {
    "collapsed": false,
    "pycharm": {
     "name": "#%% md\n"
    }
   }
  },
  {
   "cell_type": "markdown",
   "source": [
    "EDA question: What is the distribution of average rating ?"
   ],
   "metadata": {
    "collapsed": false,
    "pycharm": {
     "name": "#%% md\n"
    }
   }
  },
  {
   "cell_type": "code",
   "execution_count": 40,
   "outputs": [],
   "source": [],
   "metadata": {
    "collapsed": false,
    "pycharm": {
     "name": "#%%\n"
    }
   }
  },
  {
   "cell_type": "markdown",
   "source": [
    "### Analysis on Publishers"
   ],
   "metadata": {
    "collapsed": false,
    "pycharm": {
     "name": "#%% md\n"
    }
   }
  },
  {
   "cell_type": "markdown",
   "source": [
    "EDA question: Which publishers published the most number of books ?"
   ],
   "metadata": {
    "collapsed": false,
    "pycharm": {
     "name": "#%% md\n"
    }
   }
  },
  {
   "cell_type": "code",
   "execution_count": 40,
   "outputs": [],
   "source": [],
   "metadata": {
    "collapsed": false,
    "pycharm": {
     "name": "#%%\n"
    }
   }
  },
  {
   "cell_type": "markdown",
   "source": [
    "EDA question: Which book is published by several publishers ?"
   ],
   "metadata": {
    "collapsed": false,
    "pycharm": {
     "name": "#%% md\n"
    }
   }
  },
  {
   "cell_type": "code",
   "execution_count": 40,
   "outputs": [],
   "source": [],
   "metadata": {
    "collapsed": false,
    "pycharm": {
     "name": "#%%\n"
    }
   }
  },
  {
   "cell_type": "markdown",
   "source": [
    "### Analysis on Language"
   ],
   "metadata": {
    "collapsed": false,
    "pycharm": {
     "name": "#%% md\n"
    }
   }
  },
  {
   "cell_type": "markdown",
   "source": [
    "EDA question: Which language is written in most of the books ?"
   ],
   "metadata": {
    "collapsed": false,
    "pycharm": {
     "name": "#%% md\n"
    }
   }
  },
  {
   "cell_type": "code",
   "execution_count": 40,
   "outputs": [],
   "source": [],
   "metadata": {
    "collapsed": false,
    "pycharm": {
     "name": "#%%\n"
    }
   }
  },
  {
   "cell_type": "markdown",
   "source": [
    "EDA question: Which book is the most popular in each language written ?"
   ],
   "metadata": {
    "collapsed": false,
    "pycharm": {
     "name": "#%% md\n"
    }
   }
  },
  {
   "cell_type": "markdown",
   "source": [
    "### Analysis on Pages number"
   ],
   "metadata": {
    "collapsed": false,
    "pycharm": {
     "name": "#%% md\n"
    }
   }
  },
  {
   "cell_type": "markdown",
   "source": [
    "EDA question: Is there a correlation between pages number and average rating ?"
   ],
   "metadata": {
    "collapsed": false,
    "pycharm": {
     "name": "#%% md\n"
    }
   }
  },
  {
   "cell_type": "code",
   "execution_count": 40,
   "outputs": [],
   "source": [],
   "metadata": {
    "collapsed": false,
    "pycharm": {
     "name": "#%%\n"
    }
   }
  },
  {
   "cell_type": "markdown",
   "source": [
    "EDA question: for each year, how many pages can be found in a book ?"
   ],
   "metadata": {
    "collapsed": false,
    "pycharm": {
     "name": "#%% md\n"
    }
   }
  },
  {
   "cell_type": "markdown",
   "source": [
    "### Analysis on Counts of review"
   ],
   "metadata": {
    "collapsed": false,
    "pycharm": {
     "name": "#%% md\n"
    }
   }
  },
  {
   "cell_type": "markdown",
   "source": [
    "EDA question: Is there a correlation between Counts of review and average rating ?"
   ],
   "metadata": {
    "collapsed": false,
    "pycharm": {
     "name": "#%% md\n"
    }
   }
  },
  {
   "cell_type": "code",
   "execution_count": 40,
   "outputs": [],
   "source": [],
   "metadata": {
    "collapsed": false,
    "pycharm": {
     "name": "#%%\n"
    }
   }
  },
  {
   "cell_type": "markdown",
   "source": [],
   "metadata": {
    "collapsed": false,
    "pycharm": {
     "name": "#%% md\n"
    }
   }
  }
 ],
 "metadata": {
  "kernelspec": {
   "display_name": "Python 3",
   "language": "python",
   "name": "python3"
  },
  "language_info": {
   "codemirror_mode": {
    "name": "ipython",
    "version": 2
   },
   "file_extension": ".py",
   "mimetype": "text/x-python",
   "name": "python",
   "nbconvert_exporter": "python",
   "pygments_lexer": "ipython2",
   "version": "2.7.6"
  }
 },
 "nbformat": 4,
 "nbformat_minor": 0
}