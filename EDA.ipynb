{
 "cells": [
  {
   "cell_type": "markdown",
   "source": [
    "## Import essential packages"
   ],
   "metadata": {
    "collapsed": false,
    "pycharm": {
     "name": "#%% md\n"
    }
   }
  },
  {
   "cell_type": "code",
   "execution_count": 18,
   "metadata": {
    "collapsed": true,
    "pycharm": {
     "name": "#%%\n"
    }
   },
   "outputs": [],
   "source": [
    "import numpy as np\n",
    "import pandas as pd\n",
    "import seaborn as sns\n",
    "import matplotlib.pyplot as plt\n",
    "from glob import glob"
   ]
  },
  {
   "cell_type": "markdown",
   "source": [
    "## Import datasets"
   ],
   "metadata": {
    "collapsed": false,
    "pycharm": {
     "name": "#%% md\n"
    }
   }
  },
  {
   "cell_type": "code",
   "execution_count": 19,
   "outputs": [],
   "source": [
    "files = glob(\"datasets/book*.csv\")\n",
    "book_df = pd.concat((pd.read_csv(f) for f in files))"
   ],
   "metadata": {
    "collapsed": false,
    "pycharm": {
     "name": "#%%\n"
    }
   }
  },
  {
   "cell_type": "code",
   "execution_count": 20,
   "outputs": [
    {
     "data": {
      "text/plain": "   Id                                               Name RatingDist1  \\\n0   1  Harry Potter and the Half-Blood Prince (Harry ...      1:9896   \n1   2  Harry Potter and the Order of the Phoenix (Har...     1:12455   \n2   3  Harry Potter and the Sorcerer's Stone (Harry P...    1:108202   \n3   4  Harry Potter and the Chamber of Secrets (Harry...     1:11896   \n4   5  Harry Potter and the Prisoner of Azkaban (Harr...     1:10128   \n5   6  Harry Potter and the Goblet of Fire (Harry Pot...      1:9419   \n6   8  Harry Potter Boxed Set, Books 1-5 (Harry Potte...       1:402   \n7   9  Unauthorized Harry Potter Book Seven News: \"Ha...         1:0   \n8  10       Harry Potter Collection (Harry Potter, #1-6)       1:257   \n9  12  The Ultimate Hitchhiker's Guide: Five Complete...      1:3443   \n\n   pagesNumber RatingDist4 RatingDistTotal  PublishMonth  PublishDay  \\\n0          652    4:556485   total:2298124            16           9   \n1          870    4:604283   total:2358637             1           9   \n2          309   4:1513191   total:6587388             1          11   \n3          352    4:706082   total:2560657             1          11   \n4          435    4:630534   total:2610317             1           5   \n5          734    4:606800   total:2431085            28           9   \n6         2690      4:4650     total:43968            13           9   \n7          152         4:7        total:28            26           4   \n8         3342      4:4358     total:30313            12           9   \n9          815     4:75683    total:274268             1          11   \n\n         Publisher  CountsOfReview  PublishYear Language  \\\n0  Scholastic Inc.           28062         2006      eng   \n1  Scholastic Inc.           29770         2004      eng   \n2   Scholastic Inc           75911         2003      eng   \n3       Scholastic             244         2003      eng   \n4  Scholastic Inc.           37093         2004      eng   \n5       Scholastic           31978         2002      eng   \n6       Scholastic             166         2004      eng   \n7     Nimble Books               1         2005    en-US   \n8       Scholastic             809         2005      eng   \n9   Gramercy Books             255         2005      eng   \n\n                  Authors  Rating RatingDist2 RatingDist5        ISBN  \\\n0            J.K. Rowling    4.57     2:25317   5:1546466         NaN   \n1            J.K. Rowling    4.50     2:37005   5:1493113  0439358078   \n2            J.K. Rowling    4.47    2:130310   5:4268227         NaN   \n3            J.K. Rowling    4.42     2:49353   5:1504505  0439554896   \n4            J.K. Rowling    4.57     2:24849   5:1749958  043965548X   \n5            J.K. Rowling    4.56     2:24282   5:1612165         NaN   \n6            J.K. Rowling    4.78       2:283     5:37432  0439682584   \n7  W. Frederick Zimmerman    3.79         2:5        5:10  0976540606   \n8            J.K. Rowling    4.73       2:218     5:24406  0439827604   \n9           Douglas Adams    4.37      2:7613    5:157499  0517226952   \n\n  RatingDist3 Description  Count of text reviews  \n0    3:159960         NaN                    NaN  \n1    3:211781         NaN                    NaN  \n2    3:567458         NaN                    NaN  \n3    3:288821         NaN                    NaN  \n4    3:194848         NaN                    NaN  \n5    3:178419         NaN                    NaN  \n6      3:1201         NaN                    NaN  \n7         3:6         NaN                    NaN  \n8      3:1074         NaN                    NaN  \n9     3:30030         NaN                    NaN  ",
      "text/html": "<div>\n<style scoped>\n    .dataframe tbody tr th:only-of-type {\n        vertical-align: middle;\n    }\n\n    .dataframe tbody tr th {\n        vertical-align: top;\n    }\n\n    .dataframe thead th {\n        text-align: right;\n    }\n</style>\n<table border=\"1\" class=\"dataframe\">\n  <thead>\n    <tr style=\"text-align: right;\">\n      <th></th>\n      <th>Id</th>\n      <th>Name</th>\n      <th>RatingDist1</th>\n      <th>pagesNumber</th>\n      <th>RatingDist4</th>\n      <th>RatingDistTotal</th>\n      <th>PublishMonth</th>\n      <th>PublishDay</th>\n      <th>Publisher</th>\n      <th>CountsOfReview</th>\n      <th>PublishYear</th>\n      <th>Language</th>\n      <th>Authors</th>\n      <th>Rating</th>\n      <th>RatingDist2</th>\n      <th>RatingDist5</th>\n      <th>ISBN</th>\n      <th>RatingDist3</th>\n      <th>Description</th>\n      <th>Count of text reviews</th>\n    </tr>\n  </thead>\n  <tbody>\n    <tr>\n      <th>0</th>\n      <td>1</td>\n      <td>Harry Potter and the Half-Blood Prince (Harry ...</td>\n      <td>1:9896</td>\n      <td>652</td>\n      <td>4:556485</td>\n      <td>total:2298124</td>\n      <td>16</td>\n      <td>9</td>\n      <td>Scholastic Inc.</td>\n      <td>28062</td>\n      <td>2006</td>\n      <td>eng</td>\n      <td>J.K. Rowling</td>\n      <td>4.57</td>\n      <td>2:25317</td>\n      <td>5:1546466</td>\n      <td>NaN</td>\n      <td>3:159960</td>\n      <td>NaN</td>\n      <td>NaN</td>\n    </tr>\n    <tr>\n      <th>1</th>\n      <td>2</td>\n      <td>Harry Potter and the Order of the Phoenix (Har...</td>\n      <td>1:12455</td>\n      <td>870</td>\n      <td>4:604283</td>\n      <td>total:2358637</td>\n      <td>1</td>\n      <td>9</td>\n      <td>Scholastic Inc.</td>\n      <td>29770</td>\n      <td>2004</td>\n      <td>eng</td>\n      <td>J.K. Rowling</td>\n      <td>4.50</td>\n      <td>2:37005</td>\n      <td>5:1493113</td>\n      <td>0439358078</td>\n      <td>3:211781</td>\n      <td>NaN</td>\n      <td>NaN</td>\n    </tr>\n    <tr>\n      <th>2</th>\n      <td>3</td>\n      <td>Harry Potter and the Sorcerer's Stone (Harry P...</td>\n      <td>1:108202</td>\n      <td>309</td>\n      <td>4:1513191</td>\n      <td>total:6587388</td>\n      <td>1</td>\n      <td>11</td>\n      <td>Scholastic Inc</td>\n      <td>75911</td>\n      <td>2003</td>\n      <td>eng</td>\n      <td>J.K. Rowling</td>\n      <td>4.47</td>\n      <td>2:130310</td>\n      <td>5:4268227</td>\n      <td>NaN</td>\n      <td>3:567458</td>\n      <td>NaN</td>\n      <td>NaN</td>\n    </tr>\n    <tr>\n      <th>3</th>\n      <td>4</td>\n      <td>Harry Potter and the Chamber of Secrets (Harry...</td>\n      <td>1:11896</td>\n      <td>352</td>\n      <td>4:706082</td>\n      <td>total:2560657</td>\n      <td>1</td>\n      <td>11</td>\n      <td>Scholastic</td>\n      <td>244</td>\n      <td>2003</td>\n      <td>eng</td>\n      <td>J.K. Rowling</td>\n      <td>4.42</td>\n      <td>2:49353</td>\n      <td>5:1504505</td>\n      <td>0439554896</td>\n      <td>3:288821</td>\n      <td>NaN</td>\n      <td>NaN</td>\n    </tr>\n    <tr>\n      <th>4</th>\n      <td>5</td>\n      <td>Harry Potter and the Prisoner of Azkaban (Harr...</td>\n      <td>1:10128</td>\n      <td>435</td>\n      <td>4:630534</td>\n      <td>total:2610317</td>\n      <td>1</td>\n      <td>5</td>\n      <td>Scholastic Inc.</td>\n      <td>37093</td>\n      <td>2004</td>\n      <td>eng</td>\n      <td>J.K. Rowling</td>\n      <td>4.57</td>\n      <td>2:24849</td>\n      <td>5:1749958</td>\n      <td>043965548X</td>\n      <td>3:194848</td>\n      <td>NaN</td>\n      <td>NaN</td>\n    </tr>\n    <tr>\n      <th>5</th>\n      <td>6</td>\n      <td>Harry Potter and the Goblet of Fire (Harry Pot...</td>\n      <td>1:9419</td>\n      <td>734</td>\n      <td>4:606800</td>\n      <td>total:2431085</td>\n      <td>28</td>\n      <td>9</td>\n      <td>Scholastic</td>\n      <td>31978</td>\n      <td>2002</td>\n      <td>eng</td>\n      <td>J.K. Rowling</td>\n      <td>4.56</td>\n      <td>2:24282</td>\n      <td>5:1612165</td>\n      <td>NaN</td>\n      <td>3:178419</td>\n      <td>NaN</td>\n      <td>NaN</td>\n    </tr>\n    <tr>\n      <th>6</th>\n      <td>8</td>\n      <td>Harry Potter Boxed Set, Books 1-5 (Harry Potte...</td>\n      <td>1:402</td>\n      <td>2690</td>\n      <td>4:4650</td>\n      <td>total:43968</td>\n      <td>13</td>\n      <td>9</td>\n      <td>Scholastic</td>\n      <td>166</td>\n      <td>2004</td>\n      <td>eng</td>\n      <td>J.K. Rowling</td>\n      <td>4.78</td>\n      <td>2:283</td>\n      <td>5:37432</td>\n      <td>0439682584</td>\n      <td>3:1201</td>\n      <td>NaN</td>\n      <td>NaN</td>\n    </tr>\n    <tr>\n      <th>7</th>\n      <td>9</td>\n      <td>Unauthorized Harry Potter Book Seven News: \"Ha...</td>\n      <td>1:0</td>\n      <td>152</td>\n      <td>4:7</td>\n      <td>total:28</td>\n      <td>26</td>\n      <td>4</td>\n      <td>Nimble Books</td>\n      <td>1</td>\n      <td>2005</td>\n      <td>en-US</td>\n      <td>W. Frederick Zimmerman</td>\n      <td>3.79</td>\n      <td>2:5</td>\n      <td>5:10</td>\n      <td>0976540606</td>\n      <td>3:6</td>\n      <td>NaN</td>\n      <td>NaN</td>\n    </tr>\n    <tr>\n      <th>8</th>\n      <td>10</td>\n      <td>Harry Potter Collection (Harry Potter, #1-6)</td>\n      <td>1:257</td>\n      <td>3342</td>\n      <td>4:4358</td>\n      <td>total:30313</td>\n      <td>12</td>\n      <td>9</td>\n      <td>Scholastic</td>\n      <td>809</td>\n      <td>2005</td>\n      <td>eng</td>\n      <td>J.K. Rowling</td>\n      <td>4.73</td>\n      <td>2:218</td>\n      <td>5:24406</td>\n      <td>0439827604</td>\n      <td>3:1074</td>\n      <td>NaN</td>\n      <td>NaN</td>\n    </tr>\n    <tr>\n      <th>9</th>\n      <td>12</td>\n      <td>The Ultimate Hitchhiker's Guide: Five Complete...</td>\n      <td>1:3443</td>\n      <td>815</td>\n      <td>4:75683</td>\n      <td>total:274268</td>\n      <td>1</td>\n      <td>11</td>\n      <td>Gramercy Books</td>\n      <td>255</td>\n      <td>2005</td>\n      <td>eng</td>\n      <td>Douglas Adams</td>\n      <td>4.37</td>\n      <td>2:7613</td>\n      <td>5:157499</td>\n      <td>0517226952</td>\n      <td>3:30030</td>\n      <td>NaN</td>\n      <td>NaN</td>\n    </tr>\n  </tbody>\n</table>\n</div>"
     },
     "execution_count": 20,
     "metadata": {},
     "output_type": "execute_result"
    }
   ],
   "source": [
    "book_df.head(10)"
   ],
   "metadata": {
    "collapsed": false,
    "pycharm": {
     "name": "#%%\n"
    }
   }
  },
  {
   "cell_type": "markdown",
   "source": [
    "## Data Cleaning & Preparation"
   ],
   "metadata": {
    "collapsed": false,
    "pycharm": {
     "name": "#%% md\n"
    }
   }
  },
  {
   "cell_type": "code",
   "execution_count": 28,
   "outputs": [
    {
     "data": {
      "text/plain": "Index(['Id', 'Name', 'RatingDist1', 'pagesNumber', 'RatingDist4',\n       'RatingDistTotal', 'PublishMonth', 'PublishDay', 'Publisher',\n       'CountsOfReview', 'PublishYear', 'Language', 'Authors', 'Rating',\n       'RatingDist2', 'RatingDist5', 'ISBN', 'RatingDist3', 'Description',\n       'Count of text reviews'],\n      dtype='object')"
     },
     "execution_count": 28,
     "metadata": {},
     "output_type": "execute_result"
    }
   ],
   "source": [
    "book_df.columns"
   ],
   "metadata": {
    "collapsed": false,
    "pycharm": {
     "name": "#%%\n"
    }
   }
  },
  {
   "cell_type": "code",
   "execution_count": 22,
   "outputs": [
    {
     "name": "stdout",
     "output_type": "stream",
     "text": [
      "<class 'pandas.core.frame.DataFrame'>\n",
      "Int64Index: 1850310 entries, 0 to 40889\n",
      "Data columns (total 20 columns):\n",
      " #   Column                 Dtype  \n",
      "---  ------                 -----  \n",
      " 0   Id                     int64  \n",
      " 1   Name                   object \n",
      " 2   RatingDist1            object \n",
      " 3   pagesNumber            int64  \n",
      " 4   RatingDist4            object \n",
      " 5   RatingDistTotal        object \n",
      " 6   PublishMonth           int64  \n",
      " 7   PublishDay             int64  \n",
      " 8   Publisher              object \n",
      " 9   CountsOfReview         int64  \n",
      " 10  PublishYear            int64  \n",
      " 11  Language               object \n",
      " 12  Authors                object \n",
      " 13  Rating                 float64\n",
      " 14  RatingDist2            object \n",
      " 15  RatingDist5            object \n",
      " 16  ISBN                   object \n",
      " 17  RatingDist3            object \n",
      " 18  Description            object \n",
      " 19  Count of text reviews  float64\n",
      "dtypes: float64(2), int64(6), object(12)\n",
      "memory usage: 296.5+ MB\n"
     ]
    }
   ],
   "source": [
    "book_df.info()"
   ],
   "metadata": {
    "collapsed": false,
    "pycharm": {
     "name": "#%%\n"
    }
   }
  },
  {
   "cell_type": "code",
   "execution_count": 26,
   "outputs": [
    {
     "data": {
      "text/plain": "Language                 1598488\nCount of text reviews    1440613\nDescription               679122\nPublisher                  17826\nISBN                        5923\nRatingDist3                    0\nRatingDist5                    0\nRatingDist2                    0\nRating                         0\nAuthors                        0\nId                             0\nName                           0\nCountsOfReview                 0\nPublishDay                     0\nPublishMonth                   0\nRatingDistTotal                0\nRatingDist4                    0\npagesNumber                    0\nRatingDist1                    0\nPublishYear                    0\ndtype: int64"
     },
     "execution_count": 26,
     "metadata": {},
     "output_type": "execute_result"
    }
   ],
   "source": [
    "missing_values = book_df.isna().sum().sort_values(ascending=False)\n",
    "missing_values"
   ],
   "metadata": {
    "collapsed": false,
    "pycharm": {
     "name": "#%%\n"
    }
   }
  },
  {
   "cell_type": "code",
   "execution_count": 27,
   "outputs": [
    {
     "name": "stderr",
     "output_type": "stream",
     "text": [
      "C:\\Users\\Duong\\anaconda3\\lib\\site-packages\\seaborn\\_decorators.py:36: FutureWarning: Pass the following variable as a keyword arg: x. From version 0.12, the only valid positional argument will be `data`, and passing other arguments without an explicit keyword will result in an error or misinterpretation.\n",
      "  warnings.warn(\n"
     ]
    },
    {
     "data": {
      "text/plain": "<Figure size 432x288 with 1 Axes>",
      "image/png": "[encoded data removed]"
     },
     "metadata": {},
     "output_type": "display_data"
    }
   ],
   "source": [
    "sns.barplot(x = missing_values)\n",
    "plt.show()"
   ],
   "metadata": {
    "collapsed": false,
    "pycharm": {
     "name": "#%%\n"
    }
   }
  },
  {
   "cell_type": "code",
   "execution_count": null,
   "outputs": [],
   "source": [],
   "metadata": {
    "collapsed": false,
    "pycharm": {
     "name": "#%%\n"
    }
   }
  }
 ],
 "metadata": {
  "kernelspec": {
   "display_name": "Python 3",
   "language": "python",
   "name": "python3"
  },
  "language_info": {
   "codemirror_mode": {
    "name": "ipython",
    "version": 2
   },
   "file_extension": ".py",
   "mimetype": "text/x-python",
   "name": "python",
   "nbconvert_exporter": "python",
   "pygments_lexer": "ipython2",
   "version": "2.7.6"
  }
 },
 "nbformat": 4,
 "nbformat_minor": 0
}