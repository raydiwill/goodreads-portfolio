{
 "cells": [
  {
   "cell_type": "markdown",
   "source": [
    "### Import essential packages"
   ],
   "metadata": {
    "collapsed": false,
    "pycharm": {
     "name": "#%% md\n"
    }
   }
  },
  {
   "cell_type": "code",
   "execution_count": 1,
   "metadata": {
    "collapsed": true,
    "pycharm": {
     "name": "#%%\n"
    }
   },
   "outputs": [],
   "source": [
    "import numpy as np\n",
    "import pandas as pd\n",
    "import seaborn as sns\n",
    "import matplotlib.pyplot as plt\n",
    "from glob import glob"
   ]
  },
  {
   "cell_type": "markdown",
   "source": [
    "### Import datasets"
   ],
   "metadata": {
    "collapsed": false,
    "pycharm": {
     "name": "#%% md\n"
    }
   }
  },
  {
   "cell_type": "code",
   "execution_count": 2,
   "outputs": [],
   "source": [
    "files = glob(\"datasets/book*.csv\")\n",
    "book_df = pd.concat((pd.read_csv(f) for f in files))"
   ],
   "metadata": {
    "collapsed": false,
    "pycharm": {
     "name": "#%%\n"
    }
   }
  },
  {
   "cell_type": "code",
   "execution_count": 3,
   "outputs": [
    {
     "data": {
      "text/plain": "   Id                                               Name RatingDist1  \\\n0   1  Harry Potter and the Half-Blood Prince (Harry ...      1:9896   \n1   2  Harry Potter and the Order of the Phoenix (Har...     1:12455   \n2   3  Harry Potter and the Sorcerer's Stone (Harry P...    1:108202   \n3   4  Harry Potter and the Chamber of Secrets (Harry...     1:11896   \n4   5  Harry Potter and the Prisoner of Azkaban (Harr...     1:10128   \n5   6  Harry Potter and the Goblet of Fire (Harry Pot...      1:9419   \n6   8  Harry Potter Boxed Set, Books 1-5 (Harry Potte...       1:402   \n7   9  Unauthorized Harry Potter Book Seven News: \"Ha...         1:0   \n8  10       Harry Potter Collection (Harry Potter, #1-6)       1:257   \n9  12  The Ultimate Hitchhiker's Guide: Five Complete...      1:3443   \n\n   pagesNumber RatingDist4 RatingDistTotal  PublishMonth  PublishDay  \\\n0          652    4:556485   total:2298124            16           9   \n1          870    4:604283   total:2358637             1           9   \n2          309   4:1513191   total:6587388             1          11   \n3          352    4:706082   total:2560657             1          11   \n4          435    4:630534   total:2610317             1           5   \n5          734    4:606800   total:2431085            28           9   \n6         2690      4:4650     total:43968            13           9   \n7          152         4:7        total:28            26           4   \n8         3342      4:4358     total:30313            12           9   \n9          815     4:75683    total:274268             1          11   \n\n         Publisher  CountsOfReview  PublishYear Language  \\\n0  Scholastic Inc.           28062         2006      eng   \n1  Scholastic Inc.           29770         2004      eng   \n2   Scholastic Inc           75911         2003      eng   \n3       Scholastic             244         2003      eng   \n4  Scholastic Inc.           37093         2004      eng   \n5       Scholastic           31978         2002      eng   \n6       Scholastic             166         2004      eng   \n7     Nimble Books               1         2005    en-US   \n8       Scholastic             809         2005      eng   \n9   Gramercy Books             255         2005      eng   \n\n                  Authors  Rating RatingDist2 RatingDist5        ISBN  \\\n0            J.K. Rowling    4.57     2:25317   5:1546466         NaN   \n1            J.K. Rowling    4.50     2:37005   5:1493113  0439358078   \n2            J.K. Rowling    4.47    2:130310   5:4268227         NaN   \n3            J.K. Rowling    4.42     2:49353   5:1504505  0439554896   \n4            J.K. Rowling    4.57     2:24849   5:1749958  043965548X   \n5            J.K. Rowling    4.56     2:24282   5:1612165         NaN   \n6            J.K. Rowling    4.78       2:283     5:37432  0439682584   \n7  W. Frederick Zimmerman    3.79         2:5        5:10  0976540606   \n8            J.K. Rowling    4.73       2:218     5:24406  0439827604   \n9           Douglas Adams    4.37      2:7613    5:157499  0517226952   \n\n  RatingDist3 Description  Count of text reviews  \n0    3:159960         NaN                    NaN  \n1    3:211781         NaN                    NaN  \n2    3:567458         NaN                    NaN  \n3    3:288821         NaN                    NaN  \n4    3:194848         NaN                    NaN  \n5    3:178419         NaN                    NaN  \n6      3:1201         NaN                    NaN  \n7         3:6         NaN                    NaN  \n8      3:1074         NaN                    NaN  \n9     3:30030         NaN                    NaN  ",
      "text/html": "<div>\n<style scoped>\n    .dataframe tbody tr th:only-of-type {\n        vertical-align: middle;\n    }\n\n    .dataframe tbody tr th {\n        vertical-align: top;\n    }\n\n    .dataframe thead th {\n        text-align: right;\n    }\n</style>\n<table border=\"1\" class=\"dataframe\">\n  <thead>\n    <tr style=\"text-align: right;\">\n      <th></th>\n      <th>Id</th>\n      <th>Name</th>\n      <th>RatingDist1</th>\n      <th>pagesNumber</th>\n      <th>RatingDist4</th>\n      <th>RatingDistTotal</th>\n      <th>PublishMonth</th>\n      <th>PublishDay</th>\n      <th>Publisher</th>\n      <th>CountsOfReview</th>\n      <th>PublishYear</th>\n      <th>Language</th>\n      <th>Authors</th>\n      <th>Rating</th>\n      <th>RatingDist2</th>\n      <th>RatingDist5</th>\n      <th>ISBN</th>\n      <th>RatingDist3</th>\n      <th>Description</th>\n      <th>Count of text reviews</th>\n    </tr>\n  </thead>\n  <tbody>\n    <tr>\n      <th>0</th>\n      <td>1</td>\n      <td>Harry Potter and the Half-Blood Prince (Harry ...</td>\n      <td>1:9896</td>\n      <td>652</td>\n      <td>4:556485</td>\n      <td>total:2298124</td>\n      <td>16</td>\n      <td>9</td>\n      <td>Scholastic Inc.</td>\n      <td>28062</td>\n      <td>2006</td>\n      <td>eng</td>\n      <td>J.K. Rowling</td>\n      <td>4.57</td>\n      <td>2:25317</td>\n      <td>5:1546466</td>\n      <td>NaN</td>\n      <td>3:159960</td>\n      <td>NaN</td>\n      <td>NaN</td>\n    </tr>\n    <tr>\n      <th>1</th>\n      <td>2</td>\n      <td>Harry Potter and the Order of the Phoenix (Har...</td>\n      <td>1:12455</td>\n      <td>870</td>\n      <td>4:604283</td>\n      <td>total:2358637</td>\n      <td>1</td>\n      <td>9</td>\n      <td>Scholastic Inc.</td>\n      <td>29770</td>\n      <td>2004</td>\n      <td>eng</td>\n      <td>J.K. Rowling</td>\n      <td>4.50</td>\n      <td>2:37005</td>\n      <td>5:1493113</td>\n      <td>0439358078</td>\n      <td>3:211781</td>\n      <td>NaN</td>\n      <td>NaN</td>\n    </tr>\n    <tr>\n      <th>2</th>\n      <td>3</td>\n      <td>Harry Potter and the Sorcerer's Stone (Harry P...</td>\n      <td>1:108202</td>\n      <td>309</td>\n      <td>4:1513191</td>\n      <td>total:6587388</td>\n      <td>1</td>\n      <td>11</td>\n      <td>Scholastic Inc</td>\n      <td>75911</td>\n      <td>2003</td>\n      <td>eng</td>\n      <td>J.K. Rowling</td>\n      <td>4.47</td>\n      <td>2:130310</td>\n      <td>5:4268227</td>\n      <td>NaN</td>\n      <td>3:567458</td>\n      <td>NaN</td>\n      <td>NaN</td>\n    </tr>\n    <tr>\n      <th>3</th>\n      <td>4</td>\n      <td>Harry Potter and the Chamber of Secrets (Harry...</td>\n      <td>1:11896</td>\n      <td>352</td>\n      <td>4:706082</td>\n      <td>total:2560657</td>\n      <td>1</td>\n      <td>11</td>\n      <td>Scholastic</td>\n      <td>244</td>\n      <td>2003</td>\n      <td>eng</td>\n      <td>J.K. Rowling</td>\n      <td>4.42</td>\n      <td>2:49353</td>\n      <td>5:1504505</td>\n      <td>0439554896</td>\n      <td>3:288821</td>\n      <td>NaN</td>\n      <td>NaN</td>\n    </tr>\n    <tr>\n      <th>4</th>\n      <td>5</td>\n      <td>Harry Potter and the Prisoner of Azkaban (Harr...</td>\n      <td>1:10128</td>\n      <td>435</td>\n      <td>4:630534</td>\n      <td>total:2610317</td>\n      <td>1</td>\n      <td>5</td>\n      <td>Scholastic Inc.</td>\n      <td>37093</td>\n      <td>2004</td>\n      <td>eng</td>\n      <td>J.K. Rowling</td>\n      <td>4.57</td>\n      <td>2:24849</td>\n      <td>5:1749958</td>\n      <td>043965548X</td>\n      <td>3:194848</td>\n      <td>NaN</td>\n      <td>NaN</td>\n    </tr>\n    <tr>\n      <th>5</th>\n      <td>6</td>\n      <td>Harry Potter and the Goblet of Fire (Harry Pot...</td>\n      <td>1:9419</td>\n      <td>734</td>\n      <td>4:606800</td>\n      <td>total:2431085</td>\n      <td>28</td>\n      <td>9</td>\n      <td>Scholastic</td>\n      <td>31978</td>\n      <td>2002</td>\n      <td>eng</td>\n      <td>J.K. Rowling</td>\n      <td>4.56</td>\n      <td>2:24282</td>\n      <td>5:1612165</td>\n      <td>NaN</td>\n      <td>3:178419</td>\n      <td>NaN</td>\n      <td>NaN</td>\n    </tr>\n    <tr>\n      <th>6</th>\n      <td>8</td>\n      <td>Harry Potter Boxed Set, Books 1-5 (Harry Potte...</td>\n      <td>1:402</td>\n      <td>2690</td>\n      <td>4:4650</td>\n      <td>total:43968</td>\n      <td>13</td>\n      <td>9</td>\n      <td>Scholastic</td>\n      <td>166</td>\n      <td>2004</td>\n      <td>eng</td>\n      <td>J.K. Rowling</td>\n      <td>4.78</td>\n      <td>2:283</td>\n      <td>5:37432</td>\n      <td>0439682584</td>\n      <td>3:1201</td>\n      <td>NaN</td>\n      <td>NaN</td>\n    </tr>\n    <tr>\n      <th>7</th>\n      <td>9</td>\n      <td>Unauthorized Harry Potter Book Seven News: \"Ha...</td>\n      <td>1:0</td>\n      <td>152</td>\n      <td>4:7</td>\n      <td>total:28</td>\n      <td>26</td>\n      <td>4</td>\n      <td>Nimble Books</td>\n      <td>1</td>\n      <td>2005</td>\n      <td>en-US</td>\n      <td>W. Frederick Zimmerman</td>\n      <td>3.79</td>\n      <td>2:5</td>\n      <td>5:10</td>\n      <td>0976540606</td>\n      <td>3:6</td>\n      <td>NaN</td>\n      <td>NaN</td>\n    </tr>\n    <tr>\n      <th>8</th>\n      <td>10</td>\n      <td>Harry Potter Collection (Harry Potter, #1-6)</td>\n      <td>1:257</td>\n      <td>3342</td>\n      <td>4:4358</td>\n      <td>total:30313</td>\n      <td>12</td>\n      <td>9</td>\n      <td>Scholastic</td>\n      <td>809</td>\n      <td>2005</td>\n      <td>eng</td>\n      <td>J.K. Rowling</td>\n      <td>4.73</td>\n      <td>2:218</td>\n      <td>5:24406</td>\n      <td>0439827604</td>\n      <td>3:1074</td>\n      <td>NaN</td>\n      <td>NaN</td>\n    </tr>\n    <tr>\n      <th>9</th>\n      <td>12</td>\n      <td>The Ultimate Hitchhiker's Guide: Five Complete...</td>\n      <td>1:3443</td>\n      <td>815</td>\n      <td>4:75683</td>\n      <td>total:274268</td>\n      <td>1</td>\n      <td>11</td>\n      <td>Gramercy Books</td>\n      <td>255</td>\n      <td>2005</td>\n      <td>eng</td>\n      <td>Douglas Adams</td>\n      <td>4.37</td>\n      <td>2:7613</td>\n      <td>5:157499</td>\n      <td>0517226952</td>\n      <td>3:30030</td>\n      <td>NaN</td>\n      <td>NaN</td>\n    </tr>\n  </tbody>\n</table>\n</div>"
     },
     "execution_count": 3,
     "metadata": {},
     "output_type": "execute_result"
    }
   ],
   "source": [
    "book_df.head(10)"
   ],
   "metadata": {
    "collapsed": false,
    "pycharm": {
     "name": "#%%\n"
    }
   }
  },
  {
   "cell_type": "code",
   "execution_count": 4,
   "outputs": [
    {
     "data": {
      "text/plain": "1850310"
     },
     "execution_count": 4,
     "metadata": {},
     "output_type": "execute_result"
    }
   ],
   "source": [
    "len(book_df)"
   ],
   "metadata": {
    "collapsed": false,
    "pycharm": {
     "name": "#%%\n"
    }
   }
  },
  {
   "cell_type": "markdown",
   "source": [
    "## Data Cleaning & Preparation"
   ],
   "metadata": {
    "collapsed": false,
    "pycharm": {
     "name": "#%% md\n"
    }
   }
  },
  {
   "cell_type": "code",
   "execution_count": 5,
   "outputs": [
    {
     "data": {
      "text/plain": "Index(['Id', 'Name', 'RatingDist1', 'pagesNumber', 'RatingDist4',\n       'RatingDistTotal', 'PublishMonth', 'PublishDay', 'Publisher',\n       'CountsOfReview', 'PublishYear', 'Language', 'Authors', 'Rating',\n       'RatingDist2', 'RatingDist5', 'ISBN', 'RatingDist3', 'Description',\n       'Count of text reviews'],\n      dtype='object')"
     },
     "execution_count": 5,
     "metadata": {},
     "output_type": "execute_result"
    }
   ],
   "source": [
    "book_df.columns"
   ],
   "metadata": {
    "collapsed": false,
    "pycharm": {
     "name": "#%%\n"
    }
   }
  },
  {
   "cell_type": "code",
   "execution_count": 6,
   "outputs": [
    {
     "data": {
      "text/plain": "   Id                                               Name RatingDist1  \\\n0   1  Harry Potter and the Half-Blood Prince (Harry ...      1:9896   \n1   2  Harry Potter and the Order of the Phoenix (Har...     1:12455   \n2   3  Harry Potter and the Sorcerer's Stone (Harry P...    1:108202   \n3   4  Harry Potter and the Chamber of Secrets (Harry...     1:11896   \n4   5  Harry Potter and the Prisoner of Azkaban (Harr...     1:10128   \n\n   pagesNumber RatingDist4 RatingDistTotal  PublishDay  PublishMonth  \\\n0          652    4:556485   total:2298124          16             9   \n1          870    4:604283   total:2358637           1             9   \n2          309   4:1513191   total:6587388           1            11   \n3          352    4:706082   total:2560657           1            11   \n4          435    4:630534   total:2610317           1             5   \n\n         Publisher  CountsOfReview  PublishYear Language       Authors  \\\n0  Scholastic Inc.           28062         2006      eng  J.K. Rowling   \n1  Scholastic Inc.           29770         2004      eng  J.K. Rowling   \n2   Scholastic Inc           75911         2003      eng  J.K. Rowling   \n3       Scholastic             244         2003      eng  J.K. Rowling   \n4  Scholastic Inc.           37093         2004      eng  J.K. Rowling   \n\n   Rating RatingDist2 RatingDist5        ISBN RatingDist3 Description  \\\n0    4.57     2:25317   5:1546466         NaN    3:159960         NaN   \n1    4.50     2:37005   5:1493113  0439358078    3:211781         NaN   \n2    4.47    2:130310   5:4268227         NaN    3:567458         NaN   \n3    4.42     2:49353   5:1504505  0439554896    3:288821         NaN   \n4    4.57     2:24849   5:1749958  043965548X    3:194848         NaN   \n\n   Count of text reviews  \n0                    NaN  \n1                    NaN  \n2                    NaN  \n3                    NaN  \n4                    NaN  ",
      "text/html": "<div>\n<style scoped>\n    .dataframe tbody tr th:only-of-type {\n        vertical-align: middle;\n    }\n\n    .dataframe tbody tr th {\n        vertical-align: top;\n    }\n\n    .dataframe thead th {\n        text-align: right;\n    }\n</style>\n<table border=\"1\" class=\"dataframe\">\n  <thead>\n    <tr style=\"text-align: right;\">\n      <th></th>\n      <th>Id</th>\n      <th>Name</th>\n      <th>RatingDist1</th>\n      <th>pagesNumber</th>\n      <th>RatingDist4</th>\n      <th>RatingDistTotal</th>\n      <th>PublishDay</th>\n      <th>PublishMonth</th>\n      <th>Publisher</th>\n      <th>CountsOfReview</th>\n      <th>PublishYear</th>\n      <th>Language</th>\n      <th>Authors</th>\n      <th>Rating</th>\n      <th>RatingDist2</th>\n      <th>RatingDist5</th>\n      <th>ISBN</th>\n      <th>RatingDist3</th>\n      <th>Description</th>\n      <th>Count of text reviews</th>\n    </tr>\n  </thead>\n  <tbody>\n    <tr>\n      <th>0</th>\n      <td>1</td>\n      <td>Harry Potter and the Half-Blood Prince (Harry ...</td>\n      <td>1:9896</td>\n      <td>652</td>\n      <td>4:556485</td>\n      <td>total:2298124</td>\n      <td>16</td>\n      <td>9</td>\n      <td>Scholastic Inc.</td>\n      <td>28062</td>\n      <td>2006</td>\n      <td>eng</td>\n      <td>J.K. Rowling</td>\n      <td>4.57</td>\n      <td>2:25317</td>\n      <td>5:1546466</td>\n      <td>NaN</td>\n      <td>3:159960</td>\n      <td>NaN</td>\n      <td>NaN</td>\n    </tr>\n    <tr>\n      <th>1</th>\n      <td>2</td>\n      <td>Harry Potter and the Order of the Phoenix (Har...</td>\n      <td>1:12455</td>\n      <td>870</td>\n      <td>4:604283</td>\n      <td>total:2358637</td>\n      <td>1</td>\n      <td>9</td>\n      <td>Scholastic Inc.</td>\n      <td>29770</td>\n      <td>2004</td>\n      <td>eng</td>\n      <td>J.K. Rowling</td>\n      <td>4.50</td>\n      <td>2:37005</td>\n      <td>5:1493113</td>\n      <td>0439358078</td>\n      <td>3:211781</td>\n      <td>NaN</td>\n      <td>NaN</td>\n    </tr>\n    <tr>\n      <th>2</th>\n      <td>3</td>\n      <td>Harry Potter and the Sorcerer's Stone (Harry P...</td>\n      <td>1:108202</td>\n      <td>309</td>\n      <td>4:1513191</td>\n      <td>total:6587388</td>\n      <td>1</td>\n      <td>11</td>\n      <td>Scholastic Inc</td>\n      <td>75911</td>\n      <td>2003</td>\n      <td>eng</td>\n      <td>J.K. Rowling</td>\n      <td>4.47</td>\n      <td>2:130310</td>\n      <td>5:4268227</td>\n      <td>NaN</td>\n      <td>3:567458</td>\n      <td>NaN</td>\n      <td>NaN</td>\n    </tr>\n    <tr>\n      <th>3</th>\n      <td>4</td>\n      <td>Harry Potter and the Chamber of Secrets (Harry...</td>\n      <td>1:11896</td>\n      <td>352</td>\n      <td>4:706082</td>\n      <td>total:2560657</td>\n      <td>1</td>\n      <td>11</td>\n      <td>Scholastic</td>\n      <td>244</td>\n      <td>2003</td>\n      <td>eng</td>\n      <td>J.K. Rowling</td>\n      <td>4.42</td>\n      <td>2:49353</td>\n      <td>5:1504505</td>\n      <td>0439554896</td>\n      <td>3:288821</td>\n      <td>NaN</td>\n      <td>NaN</td>\n    </tr>\n    <tr>\n      <th>4</th>\n      <td>5</td>\n      <td>Harry Potter and the Prisoner of Azkaban (Harr...</td>\n      <td>1:10128</td>\n      <td>435</td>\n      <td>4:630534</td>\n      <td>total:2610317</td>\n      <td>1</td>\n      <td>5</td>\n      <td>Scholastic Inc.</td>\n      <td>37093</td>\n      <td>2004</td>\n      <td>eng</td>\n      <td>J.K. Rowling</td>\n      <td>4.57</td>\n      <td>2:24849</td>\n      <td>5:1749958</td>\n      <td>043965548X</td>\n      <td>3:194848</td>\n      <td>NaN</td>\n      <td>NaN</td>\n    </tr>\n  </tbody>\n</table>\n</div>"
     },
     "execution_count": 6,
     "metadata": {},
     "output_type": "execute_result"
    }
   ],
   "source": [
    "book_df = book_df.rename(columns={\"PublishMonth\": \"PublishDay\", \"PublishDay\": \"PublishMonth\"})\n",
    "book_df.head(5)"
   ],
   "metadata": {
    "collapsed": false,
    "pycharm": {
     "name": "#%%\n"
    }
   }
  },
  {
   "cell_type": "code",
   "execution_count": 8,
   "outputs": [
    {
     "data": {
      "text/plain": "              Id  pagesNumber  PublishDay  PublishMonth  CountsOfReview  \\\ncount 1850310.00   1850310.00  1850310.00    1850310.00      1850310.00   \nmean  2111590.36       276.55        7.70          7.99           11.58   \nstd   1408184.23      5006.02        7.76          8.43          295.27   \nmin         1.00         0.00        1.00          1.00            0.00   \n25%    827332.50       144.00        1.00          1.00            0.00   \n50%   2017784.50       239.00        6.00          5.00            0.00   \n75%   3200678.75       338.00       11.00         11.00            2.00   \nmax   4846451.00   4517845.00       31.00         31.00       154447.00   \n\n       PublishYear     Rating  Count of text reviews  \ncount   1850310.00 1850310.00              409697.00  \nmean       1997.84       2.89                   7.17  \nstd          87.89       1.73                 124.84  \nmin           1.00       0.00                   0.00  \n25%        1993.00       2.00                   0.00  \n50%        2000.00       3.68                   1.00  \n75%        2005.00       4.00                   3.00  \nmax       65535.00       5.00               43652.00  ",
      "text/html": "<div>\n<style scoped>\n    .dataframe tbody tr th:only-of-type {\n        vertical-align: middle;\n    }\n\n    .dataframe tbody tr th {\n        vertical-align: top;\n    }\n\n    .dataframe thead th {\n        text-align: right;\n    }\n</style>\n<table border=\"1\" class=\"dataframe\">\n  <thead>\n    <tr style=\"text-align: right;\">\n      <th></th>\n      <th>Id</th>\n      <th>pagesNumber</th>\n      <th>PublishDay</th>\n      <th>PublishMonth</th>\n      <th>CountsOfReview</th>\n      <th>PublishYear</th>\n      <th>Rating</th>\n      <th>Count of text reviews</th>\n    </tr>\n  </thead>\n  <tbody>\n    <tr>\n      <th>count</th>\n      <td>1850310.00</td>\n      <td>1850310.00</td>\n      <td>1850310.00</td>\n      <td>1850310.00</td>\n      <td>1850310.00</td>\n      <td>1850310.00</td>\n      <td>1850310.00</td>\n      <td>409697.00</td>\n    </tr>\n    <tr>\n      <th>mean</th>\n      <td>2111590.36</td>\n      <td>276.55</td>\n      <td>7.70</td>\n      <td>7.99</td>\n      <td>11.58</td>\n      <td>1997.84</td>\n      <td>2.89</td>\n      <td>7.17</td>\n    </tr>\n    <tr>\n      <th>std</th>\n      <td>1408184.23</td>\n      <td>5006.02</td>\n      <td>7.76</td>\n      <td>8.43</td>\n      <td>295.27</td>\n      <td>87.89</td>\n      <td>1.73</td>\n      <td>124.84</td>\n    </tr>\n    <tr>\n      <th>min</th>\n      <td>1.00</td>\n      <td>0.00</td>\n      <td>1.00</td>\n      <td>1.00</td>\n      <td>0.00</td>\n      <td>1.00</td>\n      <td>0.00</td>\n      <td>0.00</td>\n    </tr>\n    <tr>\n      <th>25%</th>\n      <td>827332.50</td>\n      <td>144.00</td>\n      <td>1.00</td>\n      <td>1.00</td>\n      <td>0.00</td>\n      <td>1993.00</td>\n      <td>2.00</td>\n      <td>0.00</td>\n    </tr>\n    <tr>\n      <th>50%</th>\n      <td>2017784.50</td>\n      <td>239.00</td>\n      <td>6.00</td>\n      <td>5.00</td>\n      <td>0.00</td>\n      <td>2000.00</td>\n      <td>3.68</td>\n      <td>1.00</td>\n    </tr>\n    <tr>\n      <th>75%</th>\n      <td>3200678.75</td>\n      <td>338.00</td>\n      <td>11.00</td>\n      <td>11.00</td>\n      <td>2.00</td>\n      <td>2005.00</td>\n      <td>4.00</td>\n      <td>3.00</td>\n    </tr>\n    <tr>\n      <th>max</th>\n      <td>4846451.00</td>\n      <td>4517845.00</td>\n      <td>31.00</td>\n      <td>31.00</td>\n      <td>154447.00</td>\n      <td>65535.00</td>\n      <td>5.00</td>\n      <td>43652.00</td>\n    </tr>\n  </tbody>\n</table>\n</div>"
     },
     "execution_count": 8,
     "metadata": {},
     "output_type": "execute_result"
    }
   ],
   "source": [
    "pd.set_option('display.float_format', lambda x: '%.2f' % x)\n",
    "book_df.describe()"
   ],
   "metadata": {
    "collapsed": false,
    "pycharm": {
     "name": "#%%\n"
    }
   }
  },
  {
   "cell_type": "code",
   "execution_count": 9,
   "outputs": [
    {
     "name": "stdout",
     "output_type": "stream",
     "text": [
      "<class 'pandas.core.frame.DataFrame'>\n",
      "Int64Index: 1850310 entries, 0 to 40889\n",
      "Data columns (total 20 columns):\n",
      " #   Column                 Dtype  \n",
      "---  ------                 -----  \n",
      " 0   Id                     int64  \n",
      " 1   Name                   object \n",
      " 2   RatingDist1            object \n",
      " 3   pagesNumber            int64  \n",
      " 4   RatingDist4            object \n",
      " 5   RatingDistTotal        object \n",
      " 6   PublishDay             int64  \n",
      " 7   PublishMonth           int64  \n",
      " 8   Publisher              object \n",
      " 9   CountsOfReview         int64  \n",
      " 10  PublishYear            int64  \n",
      " 11  Language               object \n",
      " 12  Authors                object \n",
      " 13  Rating                 float64\n",
      " 14  RatingDist2            object \n",
      " 15  RatingDist5            object \n",
      " 16  ISBN                   object \n",
      " 17  RatingDist3            object \n",
      " 18  Description            object \n",
      " 19  Count of text reviews  float64\n",
      "dtypes: float64(2), int64(6), object(12)\n",
      "memory usage: 296.5+ MB\n"
     ]
    }
   ],
   "source": [
    "book_df.info()"
   ],
   "metadata": {
    "collapsed": false,
    "pycharm": {
     "name": "#%%\n"
    }
   }
  },
  {
   "cell_type": "markdown",
   "source": [
    "RatingDist columns (RatingDist1, RatingDist2, RatingDist3, RatingDist4, RatingDist5, RatingDistTotal) are in string, this should be in numerical and need to be replaced by splitting the string.\n",
    "\n",
    "PublishMonth and PublishDay are in wrong order and should be changed.\n",
    "\n",
    "Columns pagesNumber, PublishYear have interesting record and should be investigated further.\n"
   ],
   "metadata": {
    "collapsed": false,
    "pycharm": {
     "name": "#%% md\n"
    }
   }
  },
  {
   "cell_type": "code",
   "execution_count": 10,
   "outputs": [
    {
     "data": {
      "text/plain": "Language                0.86\nCount of text reviews   0.78\nDescription             0.37\nPublisher               0.01\nISBN                    0.00\nRatingDist3             0.00\nRatingDist5             0.00\nRatingDist2             0.00\nRating                  0.00\nAuthors                 0.00\nId                      0.00\nName                    0.00\nCountsOfReview          0.00\nPublishMonth            0.00\nPublishDay              0.00\nRatingDistTotal         0.00\nRatingDist4             0.00\npagesNumber             0.00\nRatingDist1             0.00\nPublishYear             0.00\ndtype: float64"
     },
     "execution_count": 10,
     "metadata": {},
     "output_type": "execute_result"
    }
   ],
   "source": [
    "missing_percentage = book_df.isna().sum().sort_values(ascending=False) / len(book_df)\n",
    "missing_percentage"
   ],
   "metadata": {
    "collapsed": false,
    "pycharm": {
     "name": "#%%\n"
    }
   }
  },
  {
   "cell_type": "code",
   "execution_count": 11,
   "outputs": [
    {
     "data": {
      "text/plain": "<AxesSubplot:>"
     },
     "execution_count": 11,
     "metadata": {},
     "output_type": "execute_result"
    },
    {
     "data": {
      "text/plain": "<Figure size 432x288 with 1 Axes>",
      "image/png": "[encoded data removed]"
     },
     "metadata": {},
     "output_type": "display_data"
    }
   ],
   "source": [
    "missing_percentage.plot(kind=\"barh\")"
   ],
   "metadata": {
    "collapsed": false,
    "pycharm": {
     "name": "#%%\n"
    }
   }
  },
  {
   "cell_type": "code",
   "execution_count": 17,
   "outputs": [
    {
     "data": {
      "text/plain": "<Figure size 432x288 with 1 Axes>",
      "image/png": "[encoded data removed]"
     },
     "metadata": {},
     "output_type": "display_data"
    }
   ],
   "source": [
    "book_df.pagesNumber.max()\n",
    "\n",
    "sns.boxplot(data=book_df, x = \"pagesNumber\")\n",
    "plt.show()"
   ],
   "metadata": {
    "collapsed": false,
    "pycharm": {
     "name": "#%%\n"
    }
   }
  },
  {
   "cell_type": "code",
   "execution_count": 20,
   "outputs": [
    {
     "data": {
      "text/plain": "<Figure size 360x360 with 1 Axes>",
      "image/png": "[encoded data removed]"
     },
     "metadata": {},
     "output_type": "display_data"
    }
   ],
   "source": [
    "book_df.PublishYear.max()\n",
    "\n",
    "sns.boxplot(data=book_df, x = \"PublishYear\")\n",
    "plt.show()"
   ],
   "metadata": {
    "collapsed": false,
    "pycharm": {
     "name": "#%%\n"
    }
   }
  },
  {
   "cell_type": "code",
   "execution_count": 28,
   "outputs": [
    {
     "data": {
      "text/plain": "             Id                                               Name  \\\n25597     42574     The Water Babies: A Fairy Tale for a Land Baby   \n5049    1012420                     Jared Grace's How-to-Draw Book   \n38977   1193170                          The Back Door of Midnight   \n30825   1271191          Rama Beyond Price (Clay Sanskrit Library)   \n23871   1359960     Guidance For Women In Twelfth Century Convents   \n31274   1694730                Global Politics: A New Introduction   \n14830   1746177      La femme de guerre (Les colonnes du ciel, #3)   \n4327    1814546  My Scrumptious Scottish Dumplings: The Life of...   \n25805   1868339  National Geographic Countries of the World: Ke...   \n28508   1874849                                              Ouest   \n29432   1877272                                          Battaglia   \n46191   2102912                                       Le Sang noir   \n122581  2283161  La Normandie Avant Les Normands:  De La Conquê...   \n130018  2301252  China (National Geographic Countries of the Wo...   \n281582  2685378        Die Drachenbotschaft (Drachen Trilogie, #3)   \n365847  2915845  Straight Talk: A New Way to Get Closer to Othe...   \n816     3001922       Jane Eyre, Shirley, Villette & The Professor   \n30547   3080023                    Amnesie (Joseph O'Loughlin, #2)   \n88876   3243016      Trials of Death (The Saga of Darren Shan, #5)   \n102144  4310347                                Twenty Fathoms Down   \n222257  4670608                             The Power of he Center   \n29014    451206  The Black Stallion's Ghost (The Black Stallion...   \n45624    582684                    The graphic work of M.C. Escher   \n32271    657982             Ultimate X-Men, Volume 5: Ultimate War   \n\n        RatingDist1  pagesNumber  RatingDist4 RatingDistTotal  PublishDay  \\\n25597         1:494          372       4:1929      total:7645          21   \n5049            1:0           48          4:0         total:0          31   \n38977          1:28          224       4:1360      total:4167          30   \n30825           1:0          638          4:0         total:0           1   \n23871           1:0          203          4:2         total:2           6   \n31274           1:4          568         4:21        total:64           1   \n14830           1:0          270          4:2        total:13          20   \n4327           1:02          192         4:26        total:88           7   \n25805          1:00           64         4:00         total:6           2   \n28508          1:05          266         4:22        total:61           8   \n29432          1:00          104         4:00         total:0          10   \n46191          1:02          515  0.209722222       total:159          10   \n122581         1:00          448         4:00         total:0           9   \n130018         1:00           64         4:00         total:9          12   \n281582  0.090277778          288  1.413194444      total:5150           4   \n365847         1:00            1         4:03         total:8           2   \n816            1:03         1167  0.225694444       total:295           9   \n30547          1:54          448  2.092361111      total:6294           8   \n88876   0.140277778          176  6.489583333     total:27841           1   \n102144         1:03          136         4:13        total:36           6   \n222257         1:00          256         4:03         total:3           4   \n29014          1:62          166        4:729      total:2454          12   \n45624        1:4197           16      4:16415     total:62435           1   \n32271          1:53          112        4:726      total:2366          31   \n\n        PublishMonth                             Publisher  CountsOfReview  \\\n25597              8             Adamant Media Corporation               0   \n5049              12                       Simon Scribbles               0   \n38977             12                           Simon Pulse               0   \n30825              1                         Clay Sanskrit               0   \n23871             11                                Brewer               0   \n31274              1                             Routledge               0   \n14830             11                                Pocket               0   \n4327              30                           Simon Pulse               0   \n25805             28  National Geographic Children's Books               1   \n28508             25                               V. Hamy               4   \n29432             19                              Mosquito               0   \n46191             11                             Gallimard               0   \n122581            16                          Ouest-France               0   \n130018            31  National Geographic Children's Books               0   \n281582            15                       Beltz & Gelberg               0   \n365847             1                                   NaN               3   \n816               25                      Barnes and Noble               3   \n30547             21                       Goldmann Verlag               3   \n88876             14                Gramedia Pustaka Utama               5   \n102144            22                          Galaxy Press               3   \n222257            15                                   NaN               1   \n29014              6  Random House Books for Young Readers               1   \n45624              1                                  Taco               0   \n32271              8                             Panini UK               2   \n\n        PublishYear Language               Authors  Rating  RatingDist2  \\\n25597          3002      NaN      Charles Kingsley    3.42       2:1132   \n5049           2030      NaN       Benjamin Harper    0.00          2:0   \n38977          2030      NaN    Elizabeth Chandler    4.22        2:134   \n30825         20067      NaN                Murari    0.00          2:0   \n23871          2100      NaN  Jocelyn Wogan-Browne    4.00          2:0   \n31274         20099      NaN          Jenny Edkins    3.62          2:3   \n14830         65535      fre        Bernard Clavel    3.31          2:2   \n4327           2030      NaN        Cherry Whytock    3.38         2:09   \n25805          2030      NaN         Bridget Giles    3.67         2:00   \n28508          2099      fre      François Vallejo    3.44         2:07   \n29432          2099      NaN           Michel Jans    0.00         2:00   \n46191          2035      NaN        Louis Guilloux    3.99         2:13   \n122581         2202      fre     Elisabeth Deniaux    0.00         2:00   \n130018         2030      NaN             Jen Green    3.44         2:02   \n281582        20015      ger            Jane Yolen    3.92        0.275   \n365847        65535      eng         Sherod Miller    4.00         2:01   \n816            3006      NaN      Charlotte Brontë    4.31         2:08   \n30547         20016      ger      Michael Robotham    3.86  0.297916667   \n88876          2994      NaN           Darren Shan    4.25  0.651388889   \n102144         2103      NaN        L. Ron Hubbard    3.33         2:07   \n222257        65535      NaN     Daniel D. Arnheim    4.00         2:00   \n29014         19769      eng         Walter Farley    3.83        2:166   \n45624          4989      eng           M.C. Escher    3.91       2:4388   \n32271         20040      eng           Mark Millar    3.79        2:176   \n\n        RatingDist5        ISBN  RatingDist3  \\\n25597        5:1711  0543956121       3:2379   \n5049            5:0  1416949526          3:0   \n38977        5:1950  0689866429        3:695   \n30825           5:0  0814782957          3:0   \n23871           5:0  0859918254          3:0   \n31274          5:15  0415431301         3:21   \n14830           5:2  2266136682          3:7   \n4327           5:10  068986552X         3:41   \n25805          5:02   792276280         3:04   \n28508          5:11  2878582357         3:16   \n29432          5:00  2908551896         3:00   \n46191          5:56  2070230570         3:26   \n122581         5:00  2737311179         3:00   \n130018         5:03   792275756         3:04   \n281582  1.379861111  3407786263  1.043055556   \n365847         5:03   451153847         3:01   \n816     0.318055556    76074000         3:41   \n30547   1.265972222  3442310148  1.260416667   \n88876       5:13444  1554680662  3.133333333   \n102144         5:06  1592122515         3:07   \n222257         5:00   520062418         3:00   \n29014         5:804  0394806182        3:693   \n45624       5:26498         NaN      3:10937   \n32271         5:715  1904159443        3:696   \n\n                                              Description  \\\n25597                                                 NaN   \n5049    The <em>Spiderwick Stained Glass Book</em> fea...   \n38977   Elizabeth Chandler is a pseudonym for Mary Cla...   \n30825   Rama Beyond Price, a dramatized remake of the ...   \n23871   A significant and lasting contribution to the ...   \n31274   Global Politics: A New Introduction is an inno...   \n14830   En cette année 1639, quel contraste entre la F...   \n4327    <br />\"Almost forgot, Cherub, I got something ...   \n25805   Welcome to Kenya, land of light and infinite v...   \n28508   Un soir, aux tréfonds des terres normandes, un...   \n29432                                                 NaN   \n46191   \"Il luogo dove si svolge la vicenda di SANGUE ...   \n122581                                                NaN   \n130018  National Geographic invites you to journey thr...   \n281582  Jakkin und Akki haben zwar ihre Verfolger absc...   \n365847  Do you have trouble telling your spouse you ar...   \n816                       In her fiction, Charlotte Bront   \n30547   Mit Schusswunden im Bein, einem abgeschossenen...   \n88876   <strong>'ANNIHILATION BECKONS THE VAMPIRE'S AS...   \n102144  <b>As daring and defiant as Kirk Douglas journ...   \n222257  Using a wealth of examples, Arnheim considers ...   \n29014                                                 NaN   \n45624                                                 NaN   \n32271   The Ultimates vs. the Ultimate X-Men: the batt...   \n\n        Count of text reviews  \n25597                     NaN  \n5049                     0.00  \n38977                    0.00  \n30825                    0.00  \n23871                    0.00  \n31274                    0.00  \n14830                     NaN  \n4327                      NaN  \n25805                     NaN  \n28508                     NaN  \n29432                     NaN  \n46191                     NaN  \n122581                    NaN  \n130018                    NaN  \n281582                    NaN  \n365847                    NaN  \n816                       NaN  \n30547                     NaN  \n88876                     NaN  \n102144                    NaN  \n222257                    NaN  \n29014                     NaN  \n45624                     NaN  \n32271                     NaN  ",
      "text/html": "<div>\n<style scoped>\n    .dataframe tbody tr th:only-of-type {\n        vertical-align: middle;\n    }\n\n    .dataframe tbody tr th {\n        vertical-align: top;\n    }\n\n    .dataframe thead th {\n        text-align: right;\n    }\n</style>\n<table border=\"1\" class=\"dataframe\">\n  <thead>\n    <tr style=\"text-align: right;\">\n      <th></th>\n      <th>Id</th>\n      <th>Name</th>\n      <th>RatingDist1</th>\n      <th>pagesNumber</th>\n      <th>RatingDist4</th>\n      <th>RatingDistTotal</th>\n      <th>PublishDay</th>\n      <th>PublishMonth</th>\n      <th>Publisher</th>\n      <th>CountsOfReview</th>\n      <th>PublishYear</th>\n      <th>Language</th>\n      <th>Authors</th>\n      <th>Rating</th>\n      <th>RatingDist2</th>\n      <th>RatingDist5</th>\n      <th>ISBN</th>\n      <th>RatingDist3</th>\n      <th>Description</th>\n      <th>Count of text reviews</th>\n    </tr>\n  </thead>\n  <tbody>\n    <tr>\n      <th>25597</th>\n      <td>42574</td>\n      <td>The Water Babies: A Fairy Tale for a Land Baby</td>\n      <td>1:494</td>\n      <td>372</td>\n      <td>4:1929</td>\n      <td>total:7645</td>\n      <td>21</td>\n      <td>8</td>\n      <td>Adamant Media Corporation</td>\n      <td>0</td>\n      <td>3002</td>\n      <td>NaN</td>\n      <td>Charles Kingsley</td>\n      <td>3.42</td>\n      <td>2:1132</td>\n      <td>5:1711</td>\n      <td>0543956121</td>\n      <td>3:2379</td>\n      <td>NaN</td>\n      <td>NaN</td>\n    </tr>\n    <tr>\n      <th>5049</th>\n      <td>1012420</td>\n      <td>Jared Grace's How-to-Draw Book</td>\n      <td>1:0</td>\n      <td>48</td>\n      <td>4:0</td>\n      <td>total:0</td>\n      <td>31</td>\n      <td>12</td>\n      <td>Simon Scribbles</td>\n      <td>0</td>\n      <td>2030</td>\n      <td>NaN</td>\n      <td>Benjamin Harper</td>\n      <td>0.00</td>\n      <td>2:0</td>\n      <td>5:0</td>\n      <td>1416949526</td>\n      <td>3:0</td>\n      <td>The &lt;em&gt;Spiderwick Stained Glass Book&lt;/em&gt; fea...</td>\n      <td>0.00</td>\n    </tr>\n    <tr>\n      <th>38977</th>\n      <td>1193170</td>\n      <td>The Back Door of Midnight</td>\n      <td>1:28</td>\n      <td>224</td>\n      <td>4:1360</td>\n      <td>total:4167</td>\n      <td>30</td>\n      <td>12</td>\n      <td>Simon Pulse</td>\n      <td>0</td>\n      <td>2030</td>\n      <td>NaN</td>\n      <td>Elizabeth Chandler</td>\n      <td>4.22</td>\n      <td>2:134</td>\n      <td>5:1950</td>\n      <td>0689866429</td>\n      <td>3:695</td>\n      <td>Elizabeth Chandler is a pseudonym for Mary Cla...</td>\n      <td>0.00</td>\n    </tr>\n    <tr>\n      <th>30825</th>\n      <td>1271191</td>\n      <td>Rama Beyond Price (Clay Sanskrit Library)</td>\n      <td>1:0</td>\n      <td>638</td>\n      <td>4:0</td>\n      <td>total:0</td>\n      <td>1</td>\n      <td>1</td>\n      <td>Clay Sanskrit</td>\n      <td>0</td>\n      <td>20067</td>\n      <td>NaN</td>\n      <td>Murari</td>\n      <td>0.00</td>\n      <td>2:0</td>\n      <td>5:0</td>\n      <td>0814782957</td>\n      <td>3:0</td>\n      <td>Rama Beyond Price, a dramatized remake of the ...</td>\n      <td>0.00</td>\n    </tr>\n    <tr>\n      <th>23871</th>\n      <td>1359960</td>\n      <td>Guidance For Women In Twelfth Century Convents</td>\n      <td>1:0</td>\n      <td>203</td>\n      <td>4:2</td>\n      <td>total:2</td>\n      <td>6</td>\n      <td>11</td>\n      <td>Brewer</td>\n      <td>0</td>\n      <td>2100</td>\n      <td>NaN</td>\n      <td>Jocelyn Wogan-Browne</td>\n      <td>4.00</td>\n      <td>2:0</td>\n      <td>5:0</td>\n      <td>0859918254</td>\n      <td>3:0</td>\n      <td>A significant and lasting contribution to the ...</td>\n      <td>0.00</td>\n    </tr>\n    <tr>\n      <th>31274</th>\n      <td>1694730</td>\n      <td>Global Politics: A New Introduction</td>\n      <td>1:4</td>\n      <td>568</td>\n      <td>4:21</td>\n      <td>total:64</td>\n      <td>1</td>\n      <td>1</td>\n      <td>Routledge</td>\n      <td>0</td>\n      <td>20099</td>\n      <td>NaN</td>\n      <td>Jenny Edkins</td>\n      <td>3.62</td>\n      <td>2:3</td>\n      <td>5:15</td>\n      <td>0415431301</td>\n      <td>3:21</td>\n      <td>Global Politics: A New Introduction is an inno...</td>\n      <td>0.00</td>\n    </tr>\n    <tr>\n      <th>14830</th>\n      <td>1746177</td>\n      <td>La femme de guerre (Les colonnes du ciel, #3)</td>\n      <td>1:0</td>\n      <td>270</td>\n      <td>4:2</td>\n      <td>total:13</td>\n      <td>20</td>\n      <td>11</td>\n      <td>Pocket</td>\n      <td>0</td>\n      <td>65535</td>\n      <td>fre</td>\n      <td>Bernard Clavel</td>\n      <td>3.31</td>\n      <td>2:2</td>\n      <td>5:2</td>\n      <td>2266136682</td>\n      <td>3:7</td>\n      <td>En cette année 1639, quel contraste entre la F...</td>\n      <td>NaN</td>\n    </tr>\n    <tr>\n      <th>4327</th>\n      <td>1814546</td>\n      <td>My Scrumptious Scottish Dumplings: The Life of...</td>\n      <td>1:02</td>\n      <td>192</td>\n      <td>4:26</td>\n      <td>total:88</td>\n      <td>7</td>\n      <td>30</td>\n      <td>Simon Pulse</td>\n      <td>0</td>\n      <td>2030</td>\n      <td>NaN</td>\n      <td>Cherry Whytock</td>\n      <td>3.38</td>\n      <td>2:09</td>\n      <td>5:10</td>\n      <td>068986552X</td>\n      <td>3:41</td>\n      <td>&lt;br /&gt;\"Almost forgot, Cherub, I got something ...</td>\n      <td>NaN</td>\n    </tr>\n    <tr>\n      <th>25805</th>\n      <td>1868339</td>\n      <td>National Geographic Countries of the World: Ke...</td>\n      <td>1:00</td>\n      <td>64</td>\n      <td>4:00</td>\n      <td>total:6</td>\n      <td>2</td>\n      <td>28</td>\n      <td>National Geographic Children's Books</td>\n      <td>1</td>\n      <td>2030</td>\n      <td>NaN</td>\n      <td>Bridget Giles</td>\n      <td>3.67</td>\n      <td>2:00</td>\n      <td>5:02</td>\n      <td>792276280</td>\n      <td>3:04</td>\n      <td>Welcome to Kenya, land of light and infinite v...</td>\n      <td>NaN</td>\n    </tr>\n    <tr>\n      <th>28508</th>\n      <td>1874849</td>\n      <td>Ouest</td>\n      <td>1:05</td>\n      <td>266</td>\n      <td>4:22</td>\n      <td>total:61</td>\n      <td>8</td>\n      <td>25</td>\n      <td>V. Hamy</td>\n      <td>4</td>\n      <td>2099</td>\n      <td>fre</td>\n      <td>François Vallejo</td>\n      <td>3.44</td>\n      <td>2:07</td>\n      <td>5:11</td>\n      <td>2878582357</td>\n      <td>3:16</td>\n      <td>Un soir, aux tréfonds des terres normandes, un...</td>\n      <td>NaN</td>\n    </tr>\n    <tr>\n      <th>29432</th>\n      <td>1877272</td>\n      <td>Battaglia</td>\n      <td>1:00</td>\n      <td>104</td>\n      <td>4:00</td>\n      <td>total:0</td>\n      <td>10</td>\n      <td>19</td>\n      <td>Mosquito</td>\n      <td>0</td>\n      <td>2099</td>\n      <td>NaN</td>\n      <td>Michel Jans</td>\n      <td>0.00</td>\n      <td>2:00</td>\n      <td>5:00</td>\n      <td>2908551896</td>\n      <td>3:00</td>\n      <td>NaN</td>\n      <td>NaN</td>\n    </tr>\n    <tr>\n      <th>46191</th>\n      <td>2102912</td>\n      <td>Le Sang noir</td>\n      <td>1:02</td>\n      <td>515</td>\n      <td>0.209722222</td>\n      <td>total:159</td>\n      <td>10</td>\n      <td>11</td>\n      <td>Gallimard</td>\n      <td>0</td>\n      <td>2035</td>\n      <td>NaN</td>\n      <td>Louis Guilloux</td>\n      <td>3.99</td>\n      <td>2:13</td>\n      <td>5:56</td>\n      <td>2070230570</td>\n      <td>3:26</td>\n      <td>\"Il luogo dove si svolge la vicenda di SANGUE ...</td>\n      <td>NaN</td>\n    </tr>\n    <tr>\n      <th>122581</th>\n      <td>2283161</td>\n      <td>La Normandie Avant Les Normands:  De La Conquê...</td>\n      <td>1:00</td>\n      <td>448</td>\n      <td>4:00</td>\n      <td>total:0</td>\n      <td>9</td>\n      <td>16</td>\n      <td>Ouest-France</td>\n      <td>0</td>\n      <td>2202</td>\n      <td>fre</td>\n      <td>Elisabeth Deniaux</td>\n      <td>0.00</td>\n      <td>2:00</td>\n      <td>5:00</td>\n      <td>2737311179</td>\n      <td>3:00</td>\n      <td>NaN</td>\n      <td>NaN</td>\n    </tr>\n    <tr>\n      <th>130018</th>\n      <td>2301252</td>\n      <td>China (National Geographic Countries of the Wo...</td>\n      <td>1:00</td>\n      <td>64</td>\n      <td>4:00</td>\n      <td>total:9</td>\n      <td>12</td>\n      <td>31</td>\n      <td>National Geographic Children's Books</td>\n      <td>0</td>\n      <td>2030</td>\n      <td>NaN</td>\n      <td>Jen Green</td>\n      <td>3.44</td>\n      <td>2:02</td>\n      <td>5:03</td>\n      <td>792275756</td>\n      <td>3:04</td>\n      <td>National Geographic invites you to journey thr...</td>\n      <td>NaN</td>\n    </tr>\n    <tr>\n      <th>281582</th>\n      <td>2685378</td>\n      <td>Die Drachenbotschaft (Drachen Trilogie, #3)</td>\n      <td>0.090277778</td>\n      <td>288</td>\n      <td>1.413194444</td>\n      <td>total:5150</td>\n      <td>4</td>\n      <td>15</td>\n      <td>Beltz &amp; Gelberg</td>\n      <td>0</td>\n      <td>20015</td>\n      <td>ger</td>\n      <td>Jane Yolen</td>\n      <td>3.92</td>\n      <td>0.275</td>\n      <td>1.379861111</td>\n      <td>3407786263</td>\n      <td>1.043055556</td>\n      <td>Jakkin und Akki haben zwar ihre Verfolger absc...</td>\n      <td>NaN</td>\n    </tr>\n    <tr>\n      <th>365847</th>\n      <td>2915845</td>\n      <td>Straight Talk: A New Way to Get Closer to Othe...</td>\n      <td>1:00</td>\n      <td>1</td>\n      <td>4:03</td>\n      <td>total:8</td>\n      <td>2</td>\n      <td>1</td>\n      <td>NaN</td>\n      <td>3</td>\n      <td>65535</td>\n      <td>eng</td>\n      <td>Sherod Miller</td>\n      <td>4.00</td>\n      <td>2:01</td>\n      <td>5:03</td>\n      <td>451153847</td>\n      <td>3:01</td>\n      <td>Do you have trouble telling your spouse you ar...</td>\n      <td>NaN</td>\n    </tr>\n    <tr>\n      <th>816</th>\n      <td>3001922</td>\n      <td>Jane Eyre, Shirley, Villette &amp; The Professor</td>\n      <td>1:03</td>\n      <td>1167</td>\n      <td>0.225694444</td>\n      <td>total:295</td>\n      <td>9</td>\n      <td>25</td>\n      <td>Barnes and Noble</td>\n      <td>3</td>\n      <td>3006</td>\n      <td>NaN</td>\n      <td>Charlotte Brontë</td>\n      <td>4.31</td>\n      <td>2:08</td>\n      <td>0.318055556</td>\n      <td>76074000</td>\n      <td>3:41</td>\n      <td>In her fiction, Charlotte Bront</td>\n      <td>NaN</td>\n    </tr>\n    <tr>\n      <th>30547</th>\n      <td>3080023</td>\n      <td>Amnesie (Joseph O'Loughlin, #2)</td>\n      <td>1:54</td>\n      <td>448</td>\n      <td>2.092361111</td>\n      <td>total:6294</td>\n      <td>8</td>\n      <td>21</td>\n      <td>Goldmann Verlag</td>\n      <td>3</td>\n      <td>20016</td>\n      <td>ger</td>\n      <td>Michael Robotham</td>\n      <td>3.86</td>\n      <td>0.297916667</td>\n      <td>1.265972222</td>\n      <td>3442310148</td>\n      <td>1.260416667</td>\n      <td>Mit Schusswunden im Bein, einem abgeschossenen...</td>\n      <td>NaN</td>\n    </tr>\n    <tr>\n      <th>88876</th>\n      <td>3243016</td>\n      <td>Trials of Death (The Saga of Darren Shan, #5)</td>\n      <td>0.140277778</td>\n      <td>176</td>\n      <td>6.489583333</td>\n      <td>total:27841</td>\n      <td>1</td>\n      <td>14</td>\n      <td>Gramedia Pustaka Utama</td>\n      <td>5</td>\n      <td>2994</td>\n      <td>NaN</td>\n      <td>Darren Shan</td>\n      <td>4.25</td>\n      <td>0.651388889</td>\n      <td>5:13444</td>\n      <td>1554680662</td>\n      <td>3.133333333</td>\n      <td>&lt;strong&gt;'ANNIHILATION BECKONS THE VAMPIRE'S AS...</td>\n      <td>NaN</td>\n    </tr>\n    <tr>\n      <th>102144</th>\n      <td>4310347</td>\n      <td>Twenty Fathoms Down</td>\n      <td>1:03</td>\n      <td>136</td>\n      <td>4:13</td>\n      <td>total:36</td>\n      <td>6</td>\n      <td>22</td>\n      <td>Galaxy Press</td>\n      <td>3</td>\n      <td>2103</td>\n      <td>NaN</td>\n      <td>L. Ron Hubbard</td>\n      <td>3.33</td>\n      <td>2:07</td>\n      <td>5:06</td>\n      <td>1592122515</td>\n      <td>3:07</td>\n      <td>&lt;b&gt;As daring and defiant as Kirk Douglas journ...</td>\n      <td>NaN</td>\n    </tr>\n    <tr>\n      <th>222257</th>\n      <td>4670608</td>\n      <td>The Power of he Center</td>\n      <td>1:00</td>\n      <td>256</td>\n      <td>4:03</td>\n      <td>total:3</td>\n      <td>4</td>\n      <td>15</td>\n      <td>NaN</td>\n      <td>1</td>\n      <td>65535</td>\n      <td>NaN</td>\n      <td>Daniel D. Arnheim</td>\n      <td>4.00</td>\n      <td>2:00</td>\n      <td>5:00</td>\n      <td>520062418</td>\n      <td>3:00</td>\n      <td>Using a wealth of examples, Arnheim considers ...</td>\n      <td>NaN</td>\n    </tr>\n    <tr>\n      <th>29014</th>\n      <td>451206</td>\n      <td>The Black Stallion's Ghost (The Black Stallion...</td>\n      <td>1:62</td>\n      <td>166</td>\n      <td>4:729</td>\n      <td>total:2454</td>\n      <td>12</td>\n      <td>6</td>\n      <td>Random House Books for Young Readers</td>\n      <td>1</td>\n      <td>19769</td>\n      <td>eng</td>\n      <td>Walter Farley</td>\n      <td>3.83</td>\n      <td>2:166</td>\n      <td>5:804</td>\n      <td>0394806182</td>\n      <td>3:693</td>\n      <td>NaN</td>\n      <td>NaN</td>\n    </tr>\n    <tr>\n      <th>45624</th>\n      <td>582684</td>\n      <td>The graphic work of M.C. Escher</td>\n      <td>1:4197</td>\n      <td>16</td>\n      <td>4:16415</td>\n      <td>total:62435</td>\n      <td>1</td>\n      <td>1</td>\n      <td>Taco</td>\n      <td>0</td>\n      <td>4989</td>\n      <td>eng</td>\n      <td>M.C. Escher</td>\n      <td>3.91</td>\n      <td>2:4388</td>\n      <td>5:26498</td>\n      <td>NaN</td>\n      <td>3:10937</td>\n      <td>NaN</td>\n      <td>NaN</td>\n    </tr>\n    <tr>\n      <th>32271</th>\n      <td>657982</td>\n      <td>Ultimate X-Men, Volume 5: Ultimate War</td>\n      <td>1:53</td>\n      <td>112</td>\n      <td>4:726</td>\n      <td>total:2366</td>\n      <td>31</td>\n      <td>8</td>\n      <td>Panini UK</td>\n      <td>2</td>\n      <td>20040</td>\n      <td>eng</td>\n      <td>Mark Millar</td>\n      <td>3.79</td>\n      <td>2:176</td>\n      <td>5:715</td>\n      <td>1904159443</td>\n      <td>3:696</td>\n      <td>The Ultimates vs. the Ultimate X-Men: the batt...</td>\n      <td>NaN</td>\n    </tr>\n  </tbody>\n</table>\n</div>"
     },
     "execution_count": 28,
     "metadata": {},
     "output_type": "execute_result"
    }
   ],
   "source": [
    "book_df[book_df.PublishYear > 2022]"
   ],
   "metadata": {
    "collapsed": false,
    "pycharm": {
     "name": "#%%\n"
    }
   }
  },
  {
   "cell_type": "markdown",
   "source": [
    "## Exploratory Data Analysis"
   ],
   "metadata": {
    "collapsed": false,
    "pycharm": {
     "name": "#%% md\n"
    }
   }
  },
  {
   "cell_type": "markdown",
   "source": [],
   "metadata": {
    "collapsed": false,
    "pycharm": {
     "name": "#%% md\n"
    }
   }
  },
  {
   "cell_type": "code",
   "execution_count": null,
   "outputs": [],
   "source": [],
   "metadata": {
    "collapsed": false,
    "pycharm": {
     "name": "#%%\n"
    }
   }
  }
 ],
 "metadata": {
  "kernelspec": {
   "display_name": "Python 3",
   "language": "python",
   "name": "python3"
  },
  "language_info": {
   "codemirror_mode": {
    "name": "ipython",
    "version": 2
   },
   "file_extension": ".py",
   "mimetype": "text/x-python",
   "name": "python",
   "nbconvert_exporter": "python",
   "pygments_lexer": "ipython2",
   "version": "2.7.6"
  }
 },
 "nbformat": 4,
 "nbformat_minor": 0
}